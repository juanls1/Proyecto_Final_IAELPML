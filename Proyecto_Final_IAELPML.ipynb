{
 "cells": [
  {
   "cell_type": "markdown",
   "id": "9ee5592d-de1a-4a7a-a1d6-5ef43e840432",
   "metadata": {},
   "source": [
    "### <img src='fig/vertical_COMILLAS_COLOR.jpg' style= 'width:70mm'>\n",
    "\n",
    "<h1 style='font-family: Optima;color:#ecac00'>\n",
    "Máster en Big Data. Tecnología y Analítica Avanzada (MBD).\n",
    "<a class=\"tocSkip\">\n",
    "</h1>\n",
    "\n",
    "<h1 style='font-family: Optima;color:#ecac00'>\n",
    "Introducción al Análisis Estadístico con Lenguajes de Programación para Machine Learning (IAELPML). 2023-2024.\n",
    "</h1>\n",
    "\n",
    "\n",
    "<h1 style='font-family: Optima;color:#ecac00'>\n",
    "Assignment\n",
    "<a class=\"tocSkip\">    \n",
    "</h1>  \n",
    "   \n",
    "\n",
    "<h1 style='font-family: Optima;color:red'>\n",
    "Due Date: 2023-11-28\n",
    "<a class=\"tocSkip\">    \n",
    "</h1>  \n"
   ]
  },
  {
   "cell_type": "markdown",
   "id": "4ddb2cc1-cd6b-41ba-bded-caff43c6cbdd",
   "metadata": {},
   "source": [
    "# FINAL COURSE PROJECT"
   ]
  },
  {
   "cell_type": "markdown",
   "id": "cc83d907-2df5-4bb8-8ac0-2137dc123216",
   "metadata": {},
   "source": [
    "# MADE BY: \n",
    "\n",
    "# Manuel Oliveira Pineiro, 202305593@alu.comillas.edu\n",
    "# Alberto García Martín, \n",
    "# Jorge Peralta, \n",
    "# Juan López Segura, 202308780@alu.comillas.edu"
   ]
  },
  {
   "cell_type": "markdown",
   "id": "aea0288d-041e-4efb-b1ae-fac9d18be7b8",
   "metadata": {},
   "source": [
    "# CODE"
   ]
  },
  {
   "cell_type": "markdown",
   "id": "b63ac017-d7ea-4542-9776-6fc44dc3aa4b",
   "metadata": {},
   "source": [
    "## First Steps"
   ]
  },
  {
   "cell_type": "markdown",
   "id": "b89997dc-79de-4d9a-b6b6-831f7b41da98",
   "metadata": {},
   "source": [
    "Before starting, we must import the necessary libraries."
   ]
  },
  {
   "cell_type": "code",
   "execution_count": 20,
   "id": "ea2df08e-d182-425f-b176-7562642847d3",
   "metadata": {},
   "outputs": [],
   "source": [
    "# para nosotros: Solo pongo las que he tenido que usar. Segun necesitemos mas las metemos, pero asi no tenemos 10 de las cuales usamos 4\n",
    "\n",
    "import pandas as pd\n",
    "import numpy as np\n",
    "import seaborn as sns\n",
    "import matplotlib.pyplot as plt\n",
    "import statsmodels.api as sm\n",
    "import scipy.stats as stats\n",
    "\n"
   ]
  },
  {
   "cell_type": "markdown",
   "id": "5abdd393-e231-413a-b762-ca5024a3b460",
   "metadata": {},
   "source": [
    "First of all, we load the dataset into a pandas DataFrame named Housing.csv downloaded from *https://www.kaggle.com/datasets/harishkumardatalab/housing-price-prediction?resource=download*. After that, we take a look at the first 10 rows, shape of the DataFrame and type of columns in order to understand the variables."
   ]
  },
  {
   "cell_type": "code",
   "execution_count": 2,
   "id": "28edbef8-c103-46f7-9af7-f8ba4c4e7b0a",
   "metadata": {},
   "outputs": [
    {
     "data": {
      "text/html": [
       "<div>\n",
       "<style scoped>\n",
       "    .dataframe tbody tr th:only-of-type {\n",
       "        vertical-align: middle;\n",
       "    }\n",
       "\n",
       "    .dataframe tbody tr th {\n",
       "        vertical-align: top;\n",
       "    }\n",
       "\n",
       "    .dataframe thead th {\n",
       "        text-align: right;\n",
       "    }\n",
       "</style>\n",
       "<table border=\"1\" class=\"dataframe\">\n",
       "  <thead>\n",
       "    <tr style=\"text-align: right;\">\n",
       "      <th></th>\n",
       "      <th>price</th>\n",
       "      <th>area</th>\n",
       "      <th>bedrooms</th>\n",
       "      <th>bathrooms</th>\n",
       "      <th>stories</th>\n",
       "      <th>mainroad</th>\n",
       "      <th>guestroom</th>\n",
       "      <th>basement</th>\n",
       "      <th>hotwaterheating</th>\n",
       "      <th>airconditioning</th>\n",
       "      <th>parking</th>\n",
       "      <th>prefarea</th>\n",
       "      <th>furnishingstatus</th>\n",
       "    </tr>\n",
       "  </thead>\n",
       "  <tbody>\n",
       "    <tr>\n",
       "      <th>0</th>\n",
       "      <td>13300000</td>\n",
       "      <td>7420</td>\n",
       "      <td>4</td>\n",
       "      <td>2</td>\n",
       "      <td>3</td>\n",
       "      <td>yes</td>\n",
       "      <td>no</td>\n",
       "      <td>no</td>\n",
       "      <td>no</td>\n",
       "      <td>yes</td>\n",
       "      <td>2</td>\n",
       "      <td>yes</td>\n",
       "      <td>furnished</td>\n",
       "    </tr>\n",
       "    <tr>\n",
       "      <th>1</th>\n",
       "      <td>12250000</td>\n",
       "      <td>8960</td>\n",
       "      <td>4</td>\n",
       "      <td>4</td>\n",
       "      <td>4</td>\n",
       "      <td>yes</td>\n",
       "      <td>no</td>\n",
       "      <td>no</td>\n",
       "      <td>no</td>\n",
       "      <td>yes</td>\n",
       "      <td>3</td>\n",
       "      <td>no</td>\n",
       "      <td>furnished</td>\n",
       "    </tr>\n",
       "    <tr>\n",
       "      <th>2</th>\n",
       "      <td>12250000</td>\n",
       "      <td>9960</td>\n",
       "      <td>3</td>\n",
       "      <td>2</td>\n",
       "      <td>2</td>\n",
       "      <td>yes</td>\n",
       "      <td>no</td>\n",
       "      <td>yes</td>\n",
       "      <td>no</td>\n",
       "      <td>no</td>\n",
       "      <td>2</td>\n",
       "      <td>yes</td>\n",
       "      <td>semi-furnished</td>\n",
       "    </tr>\n",
       "    <tr>\n",
       "      <th>3</th>\n",
       "      <td>12215000</td>\n",
       "      <td>7500</td>\n",
       "      <td>4</td>\n",
       "      <td>2</td>\n",
       "      <td>2</td>\n",
       "      <td>yes</td>\n",
       "      <td>no</td>\n",
       "      <td>yes</td>\n",
       "      <td>no</td>\n",
       "      <td>yes</td>\n",
       "      <td>3</td>\n",
       "      <td>yes</td>\n",
       "      <td>furnished</td>\n",
       "    </tr>\n",
       "    <tr>\n",
       "      <th>4</th>\n",
       "      <td>11410000</td>\n",
       "      <td>7420</td>\n",
       "      <td>4</td>\n",
       "      <td>1</td>\n",
       "      <td>2</td>\n",
       "      <td>yes</td>\n",
       "      <td>yes</td>\n",
       "      <td>yes</td>\n",
       "      <td>no</td>\n",
       "      <td>yes</td>\n",
       "      <td>2</td>\n",
       "      <td>no</td>\n",
       "      <td>furnished</td>\n",
       "    </tr>\n",
       "    <tr>\n",
       "      <th>5</th>\n",
       "      <td>10850000</td>\n",
       "      <td>7500</td>\n",
       "      <td>3</td>\n",
       "      <td>3</td>\n",
       "      <td>1</td>\n",
       "      <td>yes</td>\n",
       "      <td>no</td>\n",
       "      <td>yes</td>\n",
       "      <td>no</td>\n",
       "      <td>yes</td>\n",
       "      <td>2</td>\n",
       "      <td>yes</td>\n",
       "      <td>semi-furnished</td>\n",
       "    </tr>\n",
       "    <tr>\n",
       "      <th>6</th>\n",
       "      <td>10150000</td>\n",
       "      <td>8580</td>\n",
       "      <td>4</td>\n",
       "      <td>3</td>\n",
       "      <td>4</td>\n",
       "      <td>yes</td>\n",
       "      <td>no</td>\n",
       "      <td>no</td>\n",
       "      <td>no</td>\n",
       "      <td>yes</td>\n",
       "      <td>2</td>\n",
       "      <td>yes</td>\n",
       "      <td>semi-furnished</td>\n",
       "    </tr>\n",
       "    <tr>\n",
       "      <th>7</th>\n",
       "      <td>10150000</td>\n",
       "      <td>16200</td>\n",
       "      <td>5</td>\n",
       "      <td>3</td>\n",
       "      <td>2</td>\n",
       "      <td>yes</td>\n",
       "      <td>no</td>\n",
       "      <td>no</td>\n",
       "      <td>no</td>\n",
       "      <td>no</td>\n",
       "      <td>0</td>\n",
       "      <td>no</td>\n",
       "      <td>unfurnished</td>\n",
       "    </tr>\n",
       "    <tr>\n",
       "      <th>8</th>\n",
       "      <td>9870000</td>\n",
       "      <td>8100</td>\n",
       "      <td>4</td>\n",
       "      <td>1</td>\n",
       "      <td>2</td>\n",
       "      <td>yes</td>\n",
       "      <td>yes</td>\n",
       "      <td>yes</td>\n",
       "      <td>no</td>\n",
       "      <td>yes</td>\n",
       "      <td>2</td>\n",
       "      <td>yes</td>\n",
       "      <td>furnished</td>\n",
       "    </tr>\n",
       "    <tr>\n",
       "      <th>9</th>\n",
       "      <td>9800000</td>\n",
       "      <td>5750</td>\n",
       "      <td>3</td>\n",
       "      <td>2</td>\n",
       "      <td>4</td>\n",
       "      <td>yes</td>\n",
       "      <td>yes</td>\n",
       "      <td>no</td>\n",
       "      <td>no</td>\n",
       "      <td>yes</td>\n",
       "      <td>1</td>\n",
       "      <td>yes</td>\n",
       "      <td>unfurnished</td>\n",
       "    </tr>\n",
       "  </tbody>\n",
       "</table>\n",
       "</div>"
      ],
      "text/plain": [
       "      price   area  bedrooms  bathrooms  stories mainroad guestroom basement  \\\n",
       "0  13300000   7420         4          2        3      yes        no       no   \n",
       "1  12250000   8960         4          4        4      yes        no       no   \n",
       "2  12250000   9960         3          2        2      yes        no      yes   \n",
       "3  12215000   7500         4          2        2      yes        no      yes   \n",
       "4  11410000   7420         4          1        2      yes       yes      yes   \n",
       "5  10850000   7500         3          3        1      yes        no      yes   \n",
       "6  10150000   8580         4          3        4      yes        no       no   \n",
       "7  10150000  16200         5          3        2      yes        no       no   \n",
       "8   9870000   8100         4          1        2      yes       yes      yes   \n",
       "9   9800000   5750         3          2        4      yes       yes       no   \n",
       "\n",
       "  hotwaterheating airconditioning  parking prefarea furnishingstatus  \n",
       "0              no             yes        2      yes        furnished  \n",
       "1              no             yes        3       no        furnished  \n",
       "2              no              no        2      yes   semi-furnished  \n",
       "3              no             yes        3      yes        furnished  \n",
       "4              no             yes        2       no        furnished  \n",
       "5              no             yes        2      yes   semi-furnished  \n",
       "6              no             yes        2      yes   semi-furnished  \n",
       "7              no              no        0       no      unfurnished  \n",
       "8              no             yes        2      yes        furnished  \n",
       "9              no             yes        1      yes      unfurnished  "
      ]
     },
     "execution_count": 2,
     "metadata": {},
     "output_type": "execute_result"
    }
   ],
   "source": [
    "houses = pd.read_csv('Data/Housing.csv', sep=\",\", header=0)\n",
    "\n",
    "houses.head(n = 10)"
   ]
  },
  {
   "cell_type": "code",
   "execution_count": 3,
   "id": "332636d8-8722-4d9a-9a37-6a6dc932db41",
   "metadata": {},
   "outputs": [
    {
     "name": "stdout",
     "output_type": "stream",
     "text": [
      "Shape of the DataFrame = \n",
      " (545, 13)\n"
     ]
    }
   ],
   "source": [
    "print(\"Shape of the DataFrame = \\n\", houses.shape)"
   ]
  },
  {
   "cell_type": "code",
   "execution_count": 4,
   "id": "63e8b26f-0498-4c96-88a1-2f5849585a31",
   "metadata": {
    "scrolled": true
   },
   "outputs": [
    {
     "name": "stdout",
     "output_type": "stream",
     "text": [
      "<class 'pandas.core.frame.DataFrame'>\n",
      "RangeIndex: 545 entries, 0 to 544\n",
      "Data columns (total 13 columns):\n",
      " #   Column            Non-Null Count  Dtype \n",
      "---  ------            --------------  ----- \n",
      " 0   price             545 non-null    int64 \n",
      " 1   area              545 non-null    int64 \n",
      " 2   bedrooms          545 non-null    int64 \n",
      " 3   bathrooms         545 non-null    int64 \n",
      " 4   stories           545 non-null    int64 \n",
      " 5   mainroad          545 non-null    object\n",
      " 6   guestroom         545 non-null    object\n",
      " 7   basement          545 non-null    object\n",
      " 8   hotwaterheating   545 non-null    object\n",
      " 9   airconditioning   545 non-null    object\n",
      " 10  parking           545 non-null    int64 \n",
      " 11  prefarea          545 non-null    object\n",
      " 12  furnishingstatus  545 non-null    object\n",
      "dtypes: int64(6), object(7)\n",
      "memory usage: 55.5+ KB\n"
     ]
    }
   ],
   "source": [
    "houses.info()"
   ]
  },
  {
   "cell_type": "markdown",
   "id": "ca0ade13-c711-4170-85df-41236b0bb0cd",
   "metadata": {},
   "source": [
    "As we can see, the data file is moderately easy to understand, as well as the information that the columns contain. There are 13 different variables, 545 observations, and no missing values. Nonetheless, we are going to check it."
   ]
  },
  {
   "cell_type": "markdown",
   "id": "5e90e4a9-baf1-4384-8284-2d218e81a578",
   "metadata": {},
   "source": [
    "## Missing Data"
   ]
  },
  {
   "cell_type": "code",
   "execution_count": null,
   "id": "3dbf7c79",
   "metadata": {},
   "outputs": [],
   "source": []
  },
  {
   "cell_type": "code",
   "execution_count": null,
   "id": "cdca4204",
   "metadata": {},
   "outputs": [],
   "source": []
  },
  {
   "cell_type": "code",
   "execution_count": 5,
   "id": "6ba0078e",
   "metadata": {},
   "outputs": [],
   "source": [
    "#houses['bedrooms'] = houses['bedrooms'].astype('category')\n",
    "#houses['mainroad'] = houses['mainroad'].astype('category')"
   ]
  },
  {
   "cell_type": "markdown",
   "id": "62e95d74",
   "metadata": {},
   "source": [
    "`price`"
   ]
  },
  {
   "cell_type": "markdown",
   "id": "a2567045",
   "metadata": {},
   "source": [
    "As a first approach, we can calculate some statistical measures for our variables."
   ]
  },
  {
   "cell_type": "code",
   "execution_count": 6,
   "id": "b2797814",
   "metadata": {},
   "outputs": [
    {
     "data": {
      "text/plain": [
       "count    5.450000e+02\n",
       "mean     4.766729e+06\n",
       "std      1.870440e+06\n",
       "min      1.750000e+06\n",
       "25%      3.430000e+06\n",
       "50%      4.340000e+06\n",
       "75%      5.740000e+06\n",
       "max      1.330000e+07\n",
       "Name: price, dtype: float64"
      ]
     },
     "execution_count": 6,
     "metadata": {},
     "output_type": "execute_result"
    }
   ],
   "source": [
    "houses['price'].describe()"
   ]
  },
  {
   "cell_type": "code",
   "execution_count": 7,
   "id": "c71797f9",
   "metadata": {},
   "outputs": [
    {
     "name": "stdout",
     "output_type": "stream",
     "text": [
      "The mean of the price variable is:  4766729.247706422\n",
      "\n",
      " ---------------------------------------------------------------------- \n",
      "\n",
      "The first quartile of the price variable is:  3430000.0\n",
      "\n",
      " ---------------------------------------------------------------------- \n",
      "\n",
      "The third quartile of the price variable is:  5740000.0\n",
      "\n",
      " ---------------------------------------------------------------------- \n",
      "\n",
      "The median of the price variable is:  4340000.0\n",
      "\n",
      " ---------------------------------------------------------------------- \n",
      "\n",
      "The minimum value of the price variable is:  1750000\n",
      "\n",
      " ---------------------------------------------------------------------- \n",
      "\n",
      "The maximum value of the price variable is:  13300000\n",
      "\n",
      " ---------------------------------------------------------------------- \n",
      "\n",
      "The standard deviation of the price variable is:  1870439.6156573922 \n",
      "\n"
     ]
    }
   ],
   "source": [
    "print('The mean of the price variable is: ', houses['price'].mean())\n",
    "print('\\n','-'*70,'\\n')\n",
    "print('The first quartile of the price variable is: ', houses['price'].quantile(0.25))\n",
    "print('\\n','-'*70,'\\n')\n",
    "print('The third quartile of the price variable is: ', houses['price'].quantile(0.75))\n",
    "print('\\n','-'*70,'\\n')\n",
    "print('The median of the price variable is: ', houses['price'].median())\n",
    "print('\\n','-'*70,'\\n')\n",
    "print('The minimum value of the price variable is: ', houses['price'].min())\n",
    "print('\\n','-'*70,'\\n')\n",
    "print('The maximum value of the price variable is: ', houses['price'].max())\n",
    "print('\\n','-'*70,'\\n')\n",
    "print('The standard deviation of the price variable is: ', houses['price'].std(),'\\n')"
   ]
  },
  {
   "cell_type": "markdown",
   "id": "f9ade08f",
   "metadata": {},
   "source": [
    "Now, we can calculate a table with absolute frequencies of our variables."
   ]
  },
  {
   "cell_type": "code",
   "execution_count": 8,
   "id": "47aeedf5",
   "metadata": {},
   "outputs": [
    {
     "data": {
      "text/plain": [
       "1750000     3\n",
       "1767150     1\n",
       "1820000     1\n",
       "1855000     1\n",
       "1890000     2\n",
       "           ..\n",
       "10850000    1\n",
       "11410000    1\n",
       "12215000    1\n",
       "12250000    2\n",
       "13300000    1\n",
       "Name: price, Length: 219, dtype: int64"
      ]
     },
     "execution_count": 8,
     "metadata": {},
     "output_type": "execute_result"
    }
   ],
   "source": [
    "houses['price'].value_counts().sort_index()"
   ]
  },
  {
   "cell_type": "markdown",
   "id": "dc2970e5",
   "metadata": {},
   "source": [
    "Our table suggest that we should handle our variable as a continuous one to obtain good graphical results because most values of this variable appear only once in the table."
   ]
  },
  {
   "cell_type": "markdown",
   "id": "e4f72aa9",
   "metadata": {},
   "source": [
    "So, we will define four classes as follows:\n",
    "- $price \\leq 3500000$: cheap houses.\n",
    "- $3500000 < price \\leq 7000000$: medium-price houses.\n",
    "- $7000000 < price \\leq 10000000$: expensive houses.\n",
    "- $10000000 < price $: overpriced houses."
   ]
  },
  {
   "cell_type": "markdown",
   "id": "e4494a8e",
   "metadata": {},
   "source": [
    "Next step is to build our intervals (classes) and check which interval corresponds to each observation."
   ]
  },
  {
   "cell_type": "code",
   "execution_count": 9,
   "id": "a7dd9eb5",
   "metadata": {},
   "outputs": [
    {
     "data": {
      "text/plain": [
       "0      (10000000, 13300000]\n",
       "1      (10000000, 13300000]\n",
       "2      (10000000, 13300000]\n",
       "3      (10000000, 13300000]\n",
       "4      (10000000, 13300000]\n",
       "               ...         \n",
       "540      (1329000, 3500000]\n",
       "541      (1329000, 3500000]\n",
       "542      (1329000, 3500000]\n",
       "543      (1329000, 3500000]\n",
       "544      (1329000, 3500000]\n",
       "Name: price, Length: 545, dtype: category\n",
       "Categories (4, interval[int64, right]): [(1329000, 3500000] < (3500000, 7000000] < (7000000, 10000000] < (10000000, 13300000]]"
      ]
     },
     "execution_count": 9,
     "metadata": {},
     "output_type": "execute_result"
    }
   ],
   "source": [
    "bins = [1329000, 3500000, 7000000, 10000000, 13300000]\n",
    "pd.cut(houses['price'], bins = bins, ordered = True)"
   ]
  },
  {
   "cell_type": "markdown",
   "id": "19245300",
   "metadata": {},
   "source": [
    "We add a column to our dataframe with the interval for each record."
   ]
  },
  {
   "cell_type": "code",
   "execution_count": 10,
   "id": "d2180559",
   "metadata": {},
   "outputs": [
    {
     "data": {
      "text/plain": [
       "(1329000, 3500000]      158\n",
       "(3500000, 7000000]      323\n",
       "(7000000, 10000000]      56\n",
       "(10000000, 13300000]      8\n",
       "Name: price_binned, dtype: int64"
      ]
     },
     "execution_count": 10,
     "metadata": {},
     "output_type": "execute_result"
    }
   ],
   "source": [
    "houses['price_binned'] = pd.cut(houses['price'], bins = bins, ordered = True)\n",
    "houses['price_binned'].value_counts().sort_index()"
   ]
  },
  {
   "cell_type": "markdown",
   "id": "9e5dab50",
   "metadata": {},
   "source": [
    "Let's check it."
   ]
  },
  {
   "cell_type": "code",
   "execution_count": 11,
   "id": "8c7e607b",
   "metadata": {},
   "outputs": [
    {
     "data": {
      "text/html": [
       "<div>\n",
       "<style scoped>\n",
       "    .dataframe tbody tr th:only-of-type {\n",
       "        vertical-align: middle;\n",
       "    }\n",
       "\n",
       "    .dataframe tbody tr th {\n",
       "        vertical-align: top;\n",
       "    }\n",
       "\n",
       "    .dataframe thead th {\n",
       "        text-align: right;\n",
       "    }\n",
       "</style>\n",
       "<table border=\"1\" class=\"dataframe\">\n",
       "  <thead>\n",
       "    <tr style=\"text-align: right;\">\n",
       "      <th></th>\n",
       "      <th>price</th>\n",
       "      <th>area</th>\n",
       "      <th>bedrooms</th>\n",
       "      <th>bathrooms</th>\n",
       "      <th>stories</th>\n",
       "      <th>mainroad</th>\n",
       "      <th>guestroom</th>\n",
       "      <th>basement</th>\n",
       "      <th>hotwaterheating</th>\n",
       "      <th>airconditioning</th>\n",
       "      <th>parking</th>\n",
       "      <th>prefarea</th>\n",
       "      <th>furnishingstatus</th>\n",
       "      <th>price_binned</th>\n",
       "    </tr>\n",
       "  </thead>\n",
       "  <tbody>\n",
       "    <tr>\n",
       "      <th>0</th>\n",
       "      <td>13300000</td>\n",
       "      <td>7420</td>\n",
       "      <td>4</td>\n",
       "      <td>2</td>\n",
       "      <td>3</td>\n",
       "      <td>yes</td>\n",
       "      <td>no</td>\n",
       "      <td>no</td>\n",
       "      <td>no</td>\n",
       "      <td>yes</td>\n",
       "      <td>2</td>\n",
       "      <td>yes</td>\n",
       "      <td>furnished</td>\n",
       "      <td>(10000000, 13300000]</td>\n",
       "    </tr>\n",
       "    <tr>\n",
       "      <th>1</th>\n",
       "      <td>12250000</td>\n",
       "      <td>8960</td>\n",
       "      <td>4</td>\n",
       "      <td>4</td>\n",
       "      <td>4</td>\n",
       "      <td>yes</td>\n",
       "      <td>no</td>\n",
       "      <td>no</td>\n",
       "      <td>no</td>\n",
       "      <td>yes</td>\n",
       "      <td>3</td>\n",
       "      <td>no</td>\n",
       "      <td>furnished</td>\n",
       "      <td>(10000000, 13300000]</td>\n",
       "    </tr>\n",
       "    <tr>\n",
       "      <th>2</th>\n",
       "      <td>12250000</td>\n",
       "      <td>9960</td>\n",
       "      <td>3</td>\n",
       "      <td>2</td>\n",
       "      <td>2</td>\n",
       "      <td>yes</td>\n",
       "      <td>no</td>\n",
       "      <td>yes</td>\n",
       "      <td>no</td>\n",
       "      <td>no</td>\n",
       "      <td>2</td>\n",
       "      <td>yes</td>\n",
       "      <td>semi-furnished</td>\n",
       "      <td>(10000000, 13300000]</td>\n",
       "    </tr>\n",
       "    <tr>\n",
       "      <th>3</th>\n",
       "      <td>12215000</td>\n",
       "      <td>7500</td>\n",
       "      <td>4</td>\n",
       "      <td>2</td>\n",
       "      <td>2</td>\n",
       "      <td>yes</td>\n",
       "      <td>no</td>\n",
       "      <td>yes</td>\n",
       "      <td>no</td>\n",
       "      <td>yes</td>\n",
       "      <td>3</td>\n",
       "      <td>yes</td>\n",
       "      <td>furnished</td>\n",
       "      <td>(10000000, 13300000]</td>\n",
       "    </tr>\n",
       "    <tr>\n",
       "      <th>4</th>\n",
       "      <td>11410000</td>\n",
       "      <td>7420</td>\n",
       "      <td>4</td>\n",
       "      <td>1</td>\n",
       "      <td>2</td>\n",
       "      <td>yes</td>\n",
       "      <td>yes</td>\n",
       "      <td>yes</td>\n",
       "      <td>no</td>\n",
       "      <td>yes</td>\n",
       "      <td>2</td>\n",
       "      <td>no</td>\n",
       "      <td>furnished</td>\n",
       "      <td>(10000000, 13300000]</td>\n",
       "    </tr>\n",
       "  </tbody>\n",
       "</table>\n",
       "</div>"
      ],
      "text/plain": [
       "      price  area  bedrooms  bathrooms  stories mainroad guestroom basement  \\\n",
       "0  13300000  7420         4          2        3      yes        no       no   \n",
       "1  12250000  8960         4          4        4      yes        no       no   \n",
       "2  12250000  9960         3          2        2      yes        no      yes   \n",
       "3  12215000  7500         4          2        2      yes        no      yes   \n",
       "4  11410000  7420         4          1        2      yes       yes      yes   \n",
       "\n",
       "  hotwaterheating airconditioning  parking prefarea furnishingstatus  \\\n",
       "0              no             yes        2      yes        furnished   \n",
       "1              no             yes        3       no        furnished   \n",
       "2              no              no        2      yes   semi-furnished   \n",
       "3              no             yes        3      yes        furnished   \n",
       "4              no             yes        2       no        furnished   \n",
       "\n",
       "           price_binned  \n",
       "0  (10000000, 13300000]  \n",
       "1  (10000000, 13300000]  \n",
       "2  (10000000, 13300000]  \n",
       "3  (10000000, 13300000]  \n",
       "4  (10000000, 13300000]  "
      ]
     },
     "execution_count": 11,
     "metadata": {},
     "output_type": "execute_result"
    }
   ],
   "source": [
    "houses.head()"
   ]
  },
  {
   "cell_type": "markdown",
   "id": "406ce210",
   "metadata": {},
   "source": [
    "We plot now our variable with an histogram."
   ]
  },
  {
   "cell_type": "code",
   "execution_count": 12,
   "id": "109de807",
   "metadata": {},
   "outputs": [
    {
     "data": {
      "image/png": "[encoded data removed]",
      "text/plain": [
       "<Figure size 640x480 with 1 Axes>"
      ]
     },
     "metadata": {},
     "output_type": "display_data"
    }
   ],
   "source": [
    "sns.set()\n",
    "plot = houses.hist('price', edgecolor = 'black', linewidth = 1.2, \n",
    "                   grid = False, color = 'tan', bins = bins) "
   ]
  },
  {
   "cell_type": "markdown",
   "id": "ebbb5df5",
   "metadata": {},
   "source": [
    "As we could expect, medium-priced houses are the most common class, while overpriced houses are less often seen."
   ]
  },
  {
   "cell_type": "markdown",
   "id": "ea8025ae",
   "metadata": {},
   "source": [
    "We can represent our variable with a density plot."
   ]
  },
  {
   "cell_type": "code",
   "execution_count": 13,
   "id": "f0602b2d",
   "metadata": {},
   "outputs": [
    {
     "data": {
      "text/plain": [
       "<matplotlib.legend.Legend at 0x1db484714b0>"
      ]
     },
     "execution_count": 13,
     "metadata": {},
     "output_type": "execute_result"
    },
    {
     "data": {
      "image/png": "[encoded data removed]",
      "text/plain": [
       "<Figure size 640x480 with 1 Axes>"
      ]
     },
     "metadata": {},
     "output_type": "display_data"
    }
   ],
   "source": [
    "plot = houses['price'].plot.density(linewidth = 2, grid = False, color = 'red')\n",
    "plt.axvline(x = 0.4*1e7, color = 'yellow', linestyle = '--', label = f'Value={0.4}')\n",
    "plt.legend()"
   ]
  },
  {
   "cell_type": "markdown",
   "id": "280008ee",
   "metadata": {},
   "source": [
    "We can see in the plot how we have a unimodal distribution. The mode is centered at a slightly lower number than 0.4 (in terms of 1e7). Additionally, the density curve resembles slightly a Gaussian bell curve, so we will check if we can assume that its distribution is normal."
   ]
  },
  {
   "cell_type": "markdown",
   "id": "fc25bc93",
   "metadata": {},
   "source": [
    "We will check it with a QQplot. If our variable is normally-distributed, the points should fall on a line."
   ]
  },
  {
   "cell_type": "code",
   "execution_count": 51,
   "id": "c3cf3bd5",
   "metadata": {},
   "outputs": [
    {
     "data": {
      "image/png": "[encoded data removed]",
      "text/plain": [
       "<Figure size 640x480 with 1 Axes>"
      ]
     },
     "metadata": {},
     "output_type": "display_data"
    }
   ],
   "source": [
    "sm.qqplot(houses['price'], line='s')\n",
    "plt.title('QQ plot for price')\n",
    "plt.show()"
   ]
  },
  {
   "cell_type": "markdown",
   "id": "43de0487",
   "metadata": {},
   "source": [
    "So, we cannot assume that our variable is normally-distributed, since there are points not falling in the line."
   ]
  },
  {
   "cell_type": "markdown",
   "id": "7fa0f4d9",
   "metadata": {},
   "source": [
    "Finally, we represent our variable with a boxplot."
   ]
  },
  {
   "cell_type": "code",
   "execution_count": 60,
   "id": "a3348d08",
   "metadata": {},
   "outputs": [
    {
     "data": {
      "image/png": "[encoded data removed]",
      "text/plain": [
       "<Figure size 600x800 with 1 Axes>"
      ]
     },
     "metadata": {},
     "output_type": "display_data"
    }
   ],
   "source": [
    "plot = houses.boxplot('price', figsize = (6, 8))"
   ]
  },
  {
   "cell_type": "markdown",
   "id": "aaac8469",
   "metadata": {},
   "source": [
    "We have some outliers at the top of the plot, but not at the bottom, so we will locate them:"
   ]
  },
  {
   "cell_type": "code",
   "execution_count": 22,
   "id": "c958acad",
   "metadata": {},
   "outputs": [
    {
     "name": "stdout",
     "output_type": "stream",
     "text": [
      "Lower and upper outlier limits: -35000.0 ,  9205000.0\n",
      "The outliers are\n"
     ]
    },
    {
     "data": {
      "text/html": [
       "<div>\n",
       "<style scoped>\n",
       "    .dataframe tbody tr th:only-of-type {\n",
       "        vertical-align: middle;\n",
       "    }\n",
       "\n",
       "    .dataframe tbody tr th {\n",
       "        vertical-align: top;\n",
       "    }\n",
       "\n",
       "    .dataframe thead th {\n",
       "        text-align: right;\n",
       "    }\n",
       "</style>\n",
       "<table border=\"1\" class=\"dataframe\">\n",
       "  <thead>\n",
       "    <tr style=\"text-align: right;\">\n",
       "      <th></th>\n",
       "      <th>price</th>\n",
       "      <th>area</th>\n",
       "      <th>bedrooms</th>\n",
       "      <th>bathrooms</th>\n",
       "      <th>stories</th>\n",
       "      <th>mainroad</th>\n",
       "      <th>guestroom</th>\n",
       "      <th>basement</th>\n",
       "      <th>hotwaterheating</th>\n",
       "      <th>airconditioning</th>\n",
       "      <th>parking</th>\n",
       "      <th>prefarea</th>\n",
       "      <th>furnishingstatus</th>\n",
       "      <th>price_binned</th>\n",
       "    </tr>\n",
       "  </thead>\n",
       "  <tbody>\n",
       "    <tr>\n",
       "      <th>0</th>\n",
       "      <td>13300000</td>\n",
       "      <td>7420</td>\n",
       "      <td>4</td>\n",
       "      <td>2</td>\n",
       "      <td>3</td>\n",
       "      <td>yes</td>\n",
       "      <td>no</td>\n",
       "      <td>no</td>\n",
       "      <td>no</td>\n",
       "      <td>yes</td>\n",
       "      <td>2</td>\n",
       "      <td>yes</td>\n",
       "      <td>furnished</td>\n",
       "      <td>(10000000, 13300000]</td>\n",
       "    </tr>\n",
       "    <tr>\n",
       "      <th>1</th>\n",
       "      <td>12250000</td>\n",
       "      <td>8960</td>\n",
       "      <td>4</td>\n",
       "      <td>4</td>\n",
       "      <td>4</td>\n",
       "      <td>yes</td>\n",
       "      <td>no</td>\n",
       "      <td>no</td>\n",
       "      <td>no</td>\n",
       "      <td>yes</td>\n",
       "      <td>3</td>\n",
       "      <td>no</td>\n",
       "      <td>furnished</td>\n",
       "      <td>(10000000, 13300000]</td>\n",
       "    </tr>\n",
       "    <tr>\n",
       "      <th>2</th>\n",
       "      <td>12250000</td>\n",
       "      <td>9960</td>\n",
       "      <td>3</td>\n",
       "      <td>2</td>\n",
       "      <td>2</td>\n",
       "      <td>yes</td>\n",
       "      <td>no</td>\n",
       "      <td>yes</td>\n",
       "      <td>no</td>\n",
       "      <td>no</td>\n",
       "      <td>2</td>\n",
       "      <td>yes</td>\n",
       "      <td>semi-furnished</td>\n",
       "      <td>(10000000, 13300000]</td>\n",
       "    </tr>\n",
       "    <tr>\n",
       "      <th>3</th>\n",
       "      <td>12215000</td>\n",
       "      <td>7500</td>\n",
       "      <td>4</td>\n",
       "      <td>2</td>\n",
       "      <td>2</td>\n",
       "      <td>yes</td>\n",
       "      <td>no</td>\n",
       "      <td>yes</td>\n",
       "      <td>no</td>\n",
       "      <td>yes</td>\n",
       "      <td>3</td>\n",
       "      <td>yes</td>\n",
       "      <td>furnished</td>\n",
       "      <td>(10000000, 13300000]</td>\n",
       "    </tr>\n",
       "    <tr>\n",
       "      <th>4</th>\n",
       "      <td>11410000</td>\n",
       "      <td>7420</td>\n",
       "      <td>4</td>\n",
       "      <td>1</td>\n",
       "      <td>2</td>\n",
       "      <td>yes</td>\n",
       "      <td>yes</td>\n",
       "      <td>yes</td>\n",
       "      <td>no</td>\n",
       "      <td>yes</td>\n",
       "      <td>2</td>\n",
       "      <td>no</td>\n",
       "      <td>furnished</td>\n",
       "      <td>(10000000, 13300000]</td>\n",
       "    </tr>\n",
       "    <tr>\n",
       "      <th>5</th>\n",
       "      <td>10850000</td>\n",
       "      <td>7500</td>\n",
       "      <td>3</td>\n",
       "      <td>3</td>\n",
       "      <td>1</td>\n",
       "      <td>yes</td>\n",
       "      <td>no</td>\n",
       "      <td>yes</td>\n",
       "      <td>no</td>\n",
       "      <td>yes</td>\n",
       "      <td>2</td>\n",
       "      <td>yes</td>\n",
       "      <td>semi-furnished</td>\n",
       "      <td>(10000000, 13300000]</td>\n",
       "    </tr>\n",
       "    <tr>\n",
       "      <th>6</th>\n",
       "      <td>10150000</td>\n",
       "      <td>8580</td>\n",
       "      <td>4</td>\n",
       "      <td>3</td>\n",
       "      <td>4</td>\n",
       "      <td>yes</td>\n",
       "      <td>no</td>\n",
       "      <td>no</td>\n",
       "      <td>no</td>\n",
       "      <td>yes</td>\n",
       "      <td>2</td>\n",
       "      <td>yes</td>\n",
       "      <td>semi-furnished</td>\n",
       "      <td>(10000000, 13300000]</td>\n",
       "    </tr>\n",
       "    <tr>\n",
       "      <th>7</th>\n",
       "      <td>10150000</td>\n",
       "      <td>16200</td>\n",
       "      <td>5</td>\n",
       "      <td>3</td>\n",
       "      <td>2</td>\n",
       "      <td>yes</td>\n",
       "      <td>no</td>\n",
       "      <td>no</td>\n",
       "      <td>no</td>\n",
       "      <td>no</td>\n",
       "      <td>0</td>\n",
       "      <td>no</td>\n",
       "      <td>unfurnished</td>\n",
       "      <td>(10000000, 13300000]</td>\n",
       "    </tr>\n",
       "    <tr>\n",
       "      <th>8</th>\n",
       "      <td>9870000</td>\n",
       "      <td>8100</td>\n",
       "      <td>4</td>\n",
       "      <td>1</td>\n",
       "      <td>2</td>\n",
       "      <td>yes</td>\n",
       "      <td>yes</td>\n",
       "      <td>yes</td>\n",
       "      <td>no</td>\n",
       "      <td>yes</td>\n",
       "      <td>2</td>\n",
       "      <td>yes</td>\n",
       "      <td>furnished</td>\n",
       "      <td>(7000000, 10000000]</td>\n",
       "    </tr>\n",
       "    <tr>\n",
       "      <th>9</th>\n",
       "      <td>9800000</td>\n",
       "      <td>5750</td>\n",
       "      <td>3</td>\n",
       "      <td>2</td>\n",
       "      <td>4</td>\n",
       "      <td>yes</td>\n",
       "      <td>yes</td>\n",
       "      <td>no</td>\n",
       "      <td>no</td>\n",
       "      <td>yes</td>\n",
       "      <td>1</td>\n",
       "      <td>yes</td>\n",
       "      <td>unfurnished</td>\n",
       "      <td>(7000000, 10000000]</td>\n",
       "    </tr>\n",
       "    <tr>\n",
       "      <th>10</th>\n",
       "      <td>9800000</td>\n",
       "      <td>13200</td>\n",
       "      <td>3</td>\n",
       "      <td>1</td>\n",
       "      <td>2</td>\n",
       "      <td>yes</td>\n",
       "      <td>no</td>\n",
       "      <td>yes</td>\n",
       "      <td>no</td>\n",
       "      <td>yes</td>\n",
       "      <td>2</td>\n",
       "      <td>yes</td>\n",
       "      <td>furnished</td>\n",
       "      <td>(7000000, 10000000]</td>\n",
       "    </tr>\n",
       "    <tr>\n",
       "      <th>11</th>\n",
       "      <td>9681000</td>\n",
       "      <td>6000</td>\n",
       "      <td>4</td>\n",
       "      <td>3</td>\n",
       "      <td>2</td>\n",
       "      <td>yes</td>\n",
       "      <td>yes</td>\n",
       "      <td>yes</td>\n",
       "      <td>yes</td>\n",
       "      <td>no</td>\n",
       "      <td>2</td>\n",
       "      <td>no</td>\n",
       "      <td>semi-furnished</td>\n",
       "      <td>(7000000, 10000000]</td>\n",
       "    </tr>\n",
       "    <tr>\n",
       "      <th>12</th>\n",
       "      <td>9310000</td>\n",
       "      <td>6550</td>\n",
       "      <td>4</td>\n",
       "      <td>2</td>\n",
       "      <td>2</td>\n",
       "      <td>yes</td>\n",
       "      <td>no</td>\n",
       "      <td>no</td>\n",
       "      <td>no</td>\n",
       "      <td>yes</td>\n",
       "      <td>1</td>\n",
       "      <td>yes</td>\n",
       "      <td>semi-furnished</td>\n",
       "      <td>(7000000, 10000000]</td>\n",
       "    </tr>\n",
       "    <tr>\n",
       "      <th>13</th>\n",
       "      <td>9240000</td>\n",
       "      <td>3500</td>\n",
       "      <td>4</td>\n",
       "      <td>2</td>\n",
       "      <td>2</td>\n",
       "      <td>yes</td>\n",
       "      <td>no</td>\n",
       "      <td>no</td>\n",
       "      <td>yes</td>\n",
       "      <td>no</td>\n",
       "      <td>2</td>\n",
       "      <td>no</td>\n",
       "      <td>furnished</td>\n",
       "      <td>(7000000, 10000000]</td>\n",
       "    </tr>\n",
       "    <tr>\n",
       "      <th>14</th>\n",
       "      <td>9240000</td>\n",
       "      <td>7800</td>\n",
       "      <td>3</td>\n",
       "      <td>2</td>\n",
       "      <td>2</td>\n",
       "      <td>yes</td>\n",
       "      <td>no</td>\n",
       "      <td>no</td>\n",
       "      <td>no</td>\n",
       "      <td>no</td>\n",
       "      <td>0</td>\n",
       "      <td>yes</td>\n",
       "      <td>semi-furnished</td>\n",
       "      <td>(7000000, 10000000]</td>\n",
       "    </tr>\n",
       "  </tbody>\n",
       "</table>\n",
       "</div>"
      ],
      "text/plain": [
       "       price   area  bedrooms  bathrooms  stories mainroad guestroom basement  \\\n",
       "0   13300000   7420         4          2        3      yes        no       no   \n",
       "1   12250000   8960         4          4        4      yes        no       no   \n",
       "2   12250000   9960         3          2        2      yes        no      yes   \n",
       "3   12215000   7500         4          2        2      yes        no      yes   \n",
       "4   11410000   7420         4          1        2      yes       yes      yes   \n",
       "5   10850000   7500         3          3        1      yes        no      yes   \n",
       "6   10150000   8580         4          3        4      yes        no       no   \n",
       "7   10150000  16200         5          3        2      yes        no       no   \n",
       "8    9870000   8100         4          1        2      yes       yes      yes   \n",
       "9    9800000   5750         3          2        4      yes       yes       no   \n",
       "10   9800000  13200         3          1        2      yes        no      yes   \n",
       "11   9681000   6000         4          3        2      yes       yes      yes   \n",
       "12   9310000   6550         4          2        2      yes        no       no   \n",
       "13   9240000   3500         4          2        2      yes        no       no   \n",
       "14   9240000   7800         3          2        2      yes        no       no   \n",
       "\n",
       "   hotwaterheating airconditioning  parking prefarea furnishingstatus  \\\n",
       "0               no             yes        2      yes        furnished   \n",
       "1               no             yes        3       no        furnished   \n",
       "2               no              no        2      yes   semi-furnished   \n",
       "3               no             yes        3      yes        furnished   \n",
       "4               no             yes        2       no        furnished   \n",
       "5               no             yes        2      yes   semi-furnished   \n",
       "6               no             yes        2      yes   semi-furnished   \n",
       "7               no              no        0       no      unfurnished   \n",
       "8               no             yes        2      yes        furnished   \n",
       "9               no             yes        1      yes      unfurnished   \n",
       "10              no             yes        2      yes        furnished   \n",
       "11             yes              no        2       no   semi-furnished   \n",
       "12              no             yes        1      yes   semi-furnished   \n",
       "13             yes              no        2       no        furnished   \n",
       "14              no              no        0      yes   semi-furnished   \n",
       "\n",
       "            price_binned  \n",
       "0   (10000000, 13300000]  \n",
       "1   (10000000, 13300000]  \n",
       "2   (10000000, 13300000]  \n",
       "3   (10000000, 13300000]  \n",
       "4   (10000000, 13300000]  \n",
       "5   (10000000, 13300000]  \n",
       "6   (10000000, 13300000]  \n",
       "7   (10000000, 13300000]  \n",
       "8    (7000000, 10000000]  \n",
       "9    (7000000, 10000000]  \n",
       "10   (7000000, 10000000]  \n",
       "11   (7000000, 10000000]  \n",
       "12   (7000000, 10000000]  \n",
       "13   (7000000, 10000000]  \n",
       "14   (7000000, 10000000]  "
      ]
     },
     "execution_count": 22,
     "metadata": {},
     "output_type": "execute_result"
    }
   ],
   "source": [
    "price_iqr = stats.iqr(houses['price'])\n",
    "price_q1, price_q3 = np.quantile(houses['price'], [0.25, 0.75])\n",
    "\n",
    "cut_low = price_q1 - 1.5 * price_iqr\n",
    "cut_high = price_q3 + 1.5 * price_iqr\n",
    "\n",
    "print(\"Lower and upper outlier limits:\", cut_low, \", \", cut_high)\n",
    "\n",
    "price_outliers = houses.loc[(houses['price'] > cut_high)]\n",
    "\n",
    "print(\"The outliers are\")\n",
    "\n",
    "price_outliers"
   ]
  },
  {
   "cell_type": "code",
   "execution_count": 32,
   "id": "41d3a4ce",
   "metadata": {},
   "outputs": [
    {
     "name": "stdout",
     "output_type": "stream",
     "text": [
      "So, we have 15 outliers: 8 are from overpriced houses class and 7 are from expensive houses class.\n"
     ]
    }
   ],
   "source": [
    "print('So, we have', price_outliers.shape[0], 'outliers:',\n",
    "    price_outliers[price_outliers['price'] > 10000000].shape[0],\n",
    "     'are from overpriced houses class and', \n",
    "      price_outliers[price_outliers['price'] <= 10000000].shape[0],\n",
    "     'are from expensive houses class.')"
   ]
  },
  {
   "cell_type": "code",
   "execution_count": null,
   "id": "4344ce3b",
   "metadata": {},
   "outputs": [],
   "source": []
  },
  {
   "cell_type": "code",
   "execution_count": null,
   "id": "ae2d5593",
   "metadata": {},
   "outputs": [],
   "source": []
  },
  {
   "cell_type": "code",
   "execution_count": 33,
   "id": "8a321f38",
   "metadata": {},
   "outputs": [
    {
     "data": {
      "text/html": [
       "<div>\n",
       "<style scoped>\n",
       "    .dataframe tbody tr th:only-of-type {\n",
       "        vertical-align: middle;\n",
       "    }\n",
       "\n",
       "    .dataframe tbody tr th {\n",
       "        vertical-align: top;\n",
       "    }\n",
       "\n",
       "    .dataframe thead th {\n",
       "        text-align: right;\n",
       "    }\n",
       "</style>\n",
       "<table border=\"1\" class=\"dataframe\">\n",
       "  <thead>\n",
       "    <tr style=\"text-align: right;\">\n",
       "      <th></th>\n",
       "      <th>price</th>\n",
       "      <th>area</th>\n",
       "      <th>bedrooms</th>\n",
       "      <th>bathrooms</th>\n",
       "      <th>stories</th>\n",
       "      <th>mainroad</th>\n",
       "      <th>guestroom</th>\n",
       "      <th>basement</th>\n",
       "      <th>hotwaterheating</th>\n",
       "      <th>airconditioning</th>\n",
       "      <th>parking</th>\n",
       "      <th>prefarea</th>\n",
       "      <th>furnishingstatus</th>\n",
       "      <th>price_binned</th>\n",
       "    </tr>\n",
       "  </thead>\n",
       "  <tbody>\n",
       "    <tr>\n",
       "      <th>0</th>\n",
       "      <td>13300000</td>\n",
       "      <td>7420</td>\n",
       "      <td>4</td>\n",
       "      <td>2</td>\n",
       "      <td>3</td>\n",
       "      <td>yes</td>\n",
       "      <td>no</td>\n",
       "      <td>no</td>\n",
       "      <td>no</td>\n",
       "      <td>yes</td>\n",
       "      <td>2</td>\n",
       "      <td>yes</td>\n",
       "      <td>furnished</td>\n",
       "      <td>(10000000, 13300000]</td>\n",
       "    </tr>\n",
       "    <tr>\n",
       "      <th>1</th>\n",
       "      <td>12250000</td>\n",
       "      <td>8960</td>\n",
       "      <td>4</td>\n",
       "      <td>4</td>\n",
       "      <td>4</td>\n",
       "      <td>yes</td>\n",
       "      <td>no</td>\n",
       "      <td>no</td>\n",
       "      <td>no</td>\n",
       "      <td>yes</td>\n",
       "      <td>3</td>\n",
       "      <td>no</td>\n",
       "      <td>furnished</td>\n",
       "      <td>(10000000, 13300000]</td>\n",
       "    </tr>\n",
       "    <tr>\n",
       "      <th>2</th>\n",
       "      <td>12250000</td>\n",
       "      <td>9960</td>\n",
       "      <td>3</td>\n",
       "      <td>2</td>\n",
       "      <td>2</td>\n",
       "      <td>yes</td>\n",
       "      <td>no</td>\n",
       "      <td>yes</td>\n",
       "      <td>no</td>\n",
       "      <td>no</td>\n",
       "      <td>2</td>\n",
       "      <td>yes</td>\n",
       "      <td>semi-furnished</td>\n",
       "      <td>(10000000, 13300000]</td>\n",
       "    </tr>\n",
       "    <tr>\n",
       "      <th>3</th>\n",
       "      <td>12215000</td>\n",
       "      <td>7500</td>\n",
       "      <td>4</td>\n",
       "      <td>2</td>\n",
       "      <td>2</td>\n",
       "      <td>yes</td>\n",
       "      <td>no</td>\n",
       "      <td>yes</td>\n",
       "      <td>no</td>\n",
       "      <td>yes</td>\n",
       "      <td>3</td>\n",
       "      <td>yes</td>\n",
       "      <td>furnished</td>\n",
       "      <td>(10000000, 13300000]</td>\n",
       "    </tr>\n",
       "    <tr>\n",
       "      <th>4</th>\n",
       "      <td>11410000</td>\n",
       "      <td>7420</td>\n",
       "      <td>4</td>\n",
       "      <td>1</td>\n",
       "      <td>2</td>\n",
       "      <td>yes</td>\n",
       "      <td>yes</td>\n",
       "      <td>yes</td>\n",
       "      <td>no</td>\n",
       "      <td>yes</td>\n",
       "      <td>2</td>\n",
       "      <td>no</td>\n",
       "      <td>furnished</td>\n",
       "      <td>(10000000, 13300000]</td>\n",
       "    </tr>\n",
       "  </tbody>\n",
       "</table>\n",
       "</div>"
      ],
      "text/plain": [
       "      price  area  bedrooms  bathrooms  stories mainroad guestroom basement  \\\n",
       "0  13300000  7420         4          2        3      yes        no       no   \n",
       "1  12250000  8960         4          4        4      yes        no       no   \n",
       "2  12250000  9960         3          2        2      yes        no      yes   \n",
       "3  12215000  7500         4          2        2      yes        no      yes   \n",
       "4  11410000  7420         4          1        2      yes       yes      yes   \n",
       "\n",
       "  hotwaterheating airconditioning  parking prefarea furnishingstatus  \\\n",
       "0              no             yes        2      yes        furnished   \n",
       "1              no             yes        3       no        furnished   \n",
       "2              no              no        2      yes   semi-furnished   \n",
       "3              no             yes        3      yes        furnished   \n",
       "4              no             yes        2       no        furnished   \n",
       "\n",
       "           price_binned  \n",
       "0  (10000000, 13300000]  \n",
       "1  (10000000, 13300000]  \n",
       "2  (10000000, 13300000]  \n",
       "3  (10000000, 13300000]  \n",
       "4  (10000000, 13300000]  "
      ]
     },
     "execution_count": 33,
     "metadata": {},
     "output_type": "execute_result"
    }
   ],
   "source": [
    "houses.head()"
   ]
  },
  {
   "cell_type": "code",
   "execution_count": null,
   "id": "1f131297",
   "metadata": {},
   "outputs": [],
   "source": []
  },
  {
   "cell_type": "code",
   "execution_count": null,
   "id": "9d00f24a",
   "metadata": {},
   "outputs": [],
   "source": []
  },
  {
   "cell_type": "markdown",
   "id": "ea4af061",
   "metadata": {},
   "source": [
    "`bedrooms`"
   ]
  },
  {
   "cell_type": "markdown",
   "id": "5d8a7e5d",
   "metadata": {},
   "source": [
    "First, we can calculate some statistical measures for our variables."
   ]
  },
  {
   "cell_type": "code",
   "execution_count": 57,
   "id": "32a9697b",
   "metadata": {},
   "outputs": [
    {
     "data": {
      "text/plain": [
       "count    5.450000e+02\n",
       "mean     4.766729e+06\n",
       "std      1.870440e+06\n",
       "min      1.750000e+06\n",
       "25%      3.430000e+06\n",
       "50%      4.340000e+06\n",
       "75%      5.740000e+06\n",
       "max      1.330000e+07\n",
       "Name: price, dtype: float64"
      ]
     },
     "execution_count": 57,
     "metadata": {},
     "output_type": "execute_result"
    }
   ],
   "source": [
    "houses['price'].describe()"
   ]
  },
  {
   "cell_type": "code",
   "execution_count": 58,
   "id": "c6d8d3f4",
   "metadata": {},
   "outputs": [
    {
     "name": "stdout",
     "output_type": "stream",
     "text": [
      "The mean of the bedrooms variable is:  2.9651376146788992\n",
      "\n",
      " ---------------------------------------------------------------------- \n",
      "\n",
      "The first quartile of the bedrooms variable is:  2.0\n",
      "\n",
      " ---------------------------------------------------------------------- \n",
      "\n",
      "The third quartile of the bedrooms variable is:  3.0\n",
      "\n",
      " ---------------------------------------------------------------------- \n",
      "\n",
      "The median of the bedrooms variable is:  3.0\n",
      "\n",
      " ---------------------------------------------------------------------- \n",
      "\n",
      "The minimum value of the bedrooms variable is:  1\n",
      "\n",
      " ---------------------------------------------------------------------- \n",
      "\n",
      "The maximum value of the bedrooms variable is:  6\n",
      "\n",
      " ---------------------------------------------------------------------- \n",
      "\n",
      "The standard deviation of the bedrooms variable is:  0.7380638605685743 \n",
      "\n"
     ]
    }
   ],
   "source": [
    "print('The mean of the bedrooms variable is: ', houses['bedrooms'].mean())\n",
    "print('\\n','-'*70,'\\n')\n",
    "print('The first quartile of the bedrooms variable is: ', houses['bedrooms'].quantile(0.25))\n",
    "print('\\n','-'*70,'\\n')\n",
    "print('The third quartile of the bedrooms variable is: ', houses['bedrooms'].quantile(0.75))\n",
    "print('\\n','-'*70,'\\n')\n",
    "print('The median of the bedrooms variable is: ', houses['bedrooms'].median())\n",
    "print('\\n','-'*70,'\\n')\n",
    "print('The minimum value of the bedrooms variable is: ', houses['bedrooms'].min())\n",
    "print('\\n','-'*70,'\\n')\n",
    "print('The maximum value of the bedrooms variable is: ', houses['bedrooms'].max())\n",
    "print('\\n','-'*70,'\\n')\n",
    "print('The standard deviation of the bedrooms variable is: ', houses['bedrooms'].std(),'\\n')"
   ]
  },
  {
   "cell_type": "markdown",
   "id": "b240d968",
   "metadata": {},
   "source": [
    "We create the absolute frequencies' table of our variable."
   ]
  },
  {
   "cell_type": "code",
   "execution_count": 35,
   "id": "676fbbe0",
   "metadata": {},
   "outputs": [
    {
     "name": "stdout",
     "output_type": "stream",
     "text": [
      "Absolute frequency: \n",
      "\n",
      "1      2\n",
      "2    136\n",
      "3    300\n",
      "4     95\n",
      "5     10\n",
      "6      2\n",
      "Name: bedrooms, dtype: int64\n"
     ]
    }
   ],
   "source": [
    "abs_freq = houses['bedrooms'].value_counts().sort_index()\n",
    "print('Absolute frequency: \\n')\n",
    "print(abs_freq)"
   ]
  },
  {
   "cell_type": "markdown",
   "id": "7f2d1d43",
   "metadata": {},
   "source": [
    "We build now the relative frequencies' table."
   ]
  },
  {
   "cell_type": "code",
   "execution_count": 37,
   "id": "6aea2f72",
   "metadata": {},
   "outputs": [
    {
     "name": "stdout",
     "output_type": "stream",
     "text": [
      "Relative frequency: \n",
      "\n",
      "1    0.003670\n",
      "2    0.249541\n",
      "3    0.550459\n",
      "4    0.174312\n",
      "5    0.018349\n",
      "6    0.003670\n",
      "Name: bedrooms, dtype: float64\n"
     ]
    }
   ],
   "source": [
    "rel_freq = houses['bedrooms'].value_counts(normalize = True).sort_index()\n",
    "print('Relative frequency: \\n')\n",
    "print(rel_freq)"
   ]
  },
  {
   "cell_type": "markdown",
   "id": "b8bce3cb",
   "metadata": {},
   "source": [
    "Finally, we represent two barplots: first with absolute and second with relative frequencies.\n"
   ]
  },
  {
   "cell_type": "code",
   "execution_count": 53,
   "id": "7b07fbc5",
   "metadata": {
    "scrolled": false
   },
   "outputs": [
    {
     "data": {
      "text/plain": [
       "<matplotlib.legend.Legend at 0x1db545fa500>"
      ]
     },
     "execution_count": 53,
     "metadata": {},
     "output_type": "execute_result"
    },
    {
     "data": {
      "image/png": "[encoded data removed]",
      "text/plain": [
       "<Figure size 1000x1400 with 2 Axes>"
      ]
     },
     "metadata": {},
     "output_type": "display_data"
    }
   ],
   "source": [
    "fig, (ax1, ax2) = plt.subplots(2, 1, figsize=(10, 14))\n",
    "\n",
    "ax1.bar(abs_freq.index, abs_freq.values, color = 'blue', alpha = 0.5, label = 'Absolute frequencies')\n",
    "ax1.set_xlabel('Bedrooms')\n",
    "ax1.set_ylabel('Absolute frequency')\n",
    "\n",
    "ax2.bar(rel_freq.index, rel_freq.values, color = 'red', alpha = 0.5, label = 'Relative frequencies')\n",
    "ax2.set_xlabel('Bedrooms')\n",
    "ax2.set_ylabel('Relative frequency')\n",
    "\n",
    "ax1.legend()\n",
    "ax2.legend()"
   ]
  },
  {
   "cell_type": "markdown",
   "id": "9846fdf7",
   "metadata": {},
   "source": [
    "The unique difference between these plots is the scale in y-axis."
   ]
  },
  {
   "cell_type": "markdown",
   "id": "31b65ae3",
   "metadata": {},
   "source": [
    "We can say that the most common number of bedrooms is 3, since the less often seen number of bedrooms is 1 and 6, which makes sense. Notice that 3 is the median and almost the mean of our variable, so we could expect this result. In the other hand, 1 and 6 bedrooms are the extreme values, so it could be expected too. "
   ]
  },
  {
   "cell_type": "code",
   "execution_count": null,
   "id": "7228743b",
   "metadata": {},
   "outputs": [],
   "source": []
  },
  {
   "cell_type": "code",
   "execution_count": null,
   "id": "ec27075c",
   "metadata": {},
   "outputs": [],
   "source": []
  },
  {
   "cell_type": "markdown",
   "id": "9f24772d",
   "metadata": {},
   "source": [
    "`mainroad`"
   ]
  },
  {
   "cell_type": "markdown",
   "id": "f23a7dde",
   "metadata": {},
   "source": [
    "It is a binary variable so it can only take two values."
   ]
  },
  {
   "cell_type": "markdown",
   "id": "c2b1bf83",
   "metadata": {},
   "source": [
    "First of all, we create the absolute frequencies' table of our variable."
   ]
  },
  {
   "cell_type": "code",
   "execution_count": 54,
   "id": "c4195ac2",
   "metadata": {},
   "outputs": [
    {
     "name": "stdout",
     "output_type": "stream",
     "text": [
      "Absolute frequency: \n",
      "\n",
      "no      77\n",
      "yes    468\n",
      "Name: mainroad, dtype: int64\n"
     ]
    }
   ],
   "source": [
    "abs_freq = houses['mainroad'].value_counts().sort_index()\n",
    "print('Absolute frequency: \\n')\n",
    "print(abs_freq)"
   ]
  },
  {
   "cell_type": "markdown",
   "id": "b3eecfbd",
   "metadata": {},
   "source": [
    "We build now the relative frequencies' table."
   ]
  },
  {
   "cell_type": "code",
   "execution_count": 64,
   "id": "220560a0",
   "metadata": {},
   "outputs": [
    {
     "name": "stdout",
     "output_type": "stream",
     "text": [
      "Relative frequency: \n",
      "\n",
      "no     0.141284\n",
      "yes    0.858716\n",
      "Name: mainroad, dtype: float64\n"
     ]
    }
   ],
   "source": [
    "rel_freq = houses['mainroad'].value_counts(normalize = True).sort_index()\n",
    "print('Relative frequency: \\n')\n",
    "print(rel_freq)"
   ]
  },
  {
   "cell_type": "markdown",
   "id": "1a927c77",
   "metadata": {},
   "source": [
    "Finally, we represent two barplots: first with absolute and second with relative frequencies.\n"
   ]
  },
  {
   "cell_type": "code",
   "execution_count": 67,
   "id": "b5424330",
   "metadata": {},
   "outputs": [
    {
     "data": {
      "text/plain": [
       "<matplotlib.legend.Legend at 0x1db54ff0370>"
      ]
     },
     "execution_count": 67,
     "metadata": {},
     "output_type": "execute_result"
    },
    {
     "data": {
      "image/png": "[encoded data removed]",
      "text/plain": [
       "<Figure size 1000x1400 with 2 Axes>"
      ]
     },
     "metadata": {},
     "output_type": "display_data"
    }
   ],
   "source": [
    "fig, (ax1, ax2) = plt.subplots(2, 1, figsize=(10, 14))\n",
    "\n",
    "ax1.bar(abs_freq.index, abs_freq.values, color = 'blue', alpha = 0.5, label = 'Absolute frequencies')\n",
    "ax1.set_xlabel('Mainroad')\n",
    "ax1.set_ylabel('Absolute frequency')\n",
    "\n",
    "ax2.bar(rel_freq.index, rel_freq.values, color = 'red', alpha = 0.5, label = 'Relative frequencies')\n",
    "ax2.set_xlabel('Mainroad')\n",
    "ax2.set_ylabel('Relative frequency')\n",
    "\n",
    "ax1.legend()\n",
    "ax2.legend()"
   ]
  },
  {
   "cell_type": "markdown",
   "id": "9f7aa8f2",
   "metadata": {},
   "source": [
    "As before, the unique difference between these plots is the scale in y-axis."
   ]
  },
  {
   "cell_type": "markdown",
   "id": "00c2c12f",
   "metadata": {},
   "source": [
    "As a result of our plot, we can affirm that being connected to the mainroad is much more frequent than not being connected to the mainroad."
   ]
  },
  {
   "cell_type": "code",
   "execution_count": null,
   "id": "4c4f0bcd",
   "metadata": {},
   "outputs": [],
   "source": []
  }
 ],
 "metadata": {
  "kernelspec": {
   "display_name": "Python 3 (ipykernel)",
   "language": "python",
   "name": "python3"
  },
  "language_info": {
   "codemirror_mode": {
    "name": "ipython",
    "version": 3
   },
   "file_extension": ".py",
   "mimetype": "text/x-python",
   "name": "python",
   "nbconvert_exporter": "python",
   "pygments_lexer": "ipython3",
   "version": "3.10.7"
  }
 },
 "nbformat": 4,
 "nbformat_minor": 5
}

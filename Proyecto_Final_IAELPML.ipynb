{
 "cells": [
  {
   "cell_type": "markdown",
   "id": "659df701",
   "metadata": {},
   "source": [
    "### <img src='fig/vertical_COMILLAS_COLOR.jpg' style= 'width:70mm'>\n",
    "\n",
    "<h1 style='font-family: Optima;color:#ecac00'>\n",
    "Máster en Big Data. Tecnología y Analítica Avanzada (MBD).\n",
    "<a class=\"tocSkip\">\n",
    "</h1>\n",
    "\n",
    "<h1 style='font-family: Optima;color:#ecac00'>\n",
    "Introducción al Análisis Estadístico con Lenguajes de Programación para Machine Learning (IAELPML). 2023-2024.\n",
    "</h1>\n",
    "\n",
    "\n",
    "<h1 style='font-family: Optima;color:#ecac00'>\n",
    "Assignment\n",
    "<a class=\"tocSkip\">    \n",
    "</h1>  \n",
    "   \n",
    "\n",
    "<h1 style='font-family: Optima;color:red'>\n",
    "Due Date: 2023-11-28\n",
    "<a class=\"tocSkip\">    \n",
    "</h1>  \n"
   ]
  },
  {
   "cell_type": "markdown",
   "id": "3e422b0f",
   "metadata": {},
   "source": [
    "# FINAL COURSE PROJECT"
   ]
  },
  {
   "cell_type": "markdown",
   "id": "54a2c87e",
   "metadata": {},
   "source": [
    "# MADE BY: \n",
    "\n",
    "# Manuel Oliveira Pineiro, 202305593@alu.comillas.edu\n",
    "# Alberto García Martín, 202309188@alu.comillas.edu\n",
    "# Jorge Peralta Fernández-Revuelta, jperalta@alu.comillas.edu \n",
    "# Juan López Segura, 202308780@alu.comillas.edu"
   ]
  },
  {
   "cell_type": "markdown",
   "id": "6f1d89a1",
   "metadata": {},
   "source": [
    "# CODE"
   ]
  },
  {
   "cell_type": "markdown",
   "id": "9568a9c9",
   "metadata": {},
   "source": [
    "## First Steps"
   ]
  },
  {
   "cell_type": "markdown",
   "id": "5c13f6d8",
   "metadata": {},
   "source": [
    "Before starting, we must import the necessary libraries."
   ]
  },
  {
   "cell_type": "code",
   "execution_count": 1,
   "id": "623fa6f7",
   "metadata": {},
   "outputs": [],
   "source": [
    "import pandas as pd\n",
    "import numpy as np\n",
    "import seaborn as sns\n",
    "import matplotlib.pyplot as plt\n",
    "import statsmodels.api as sm\n",
    "import scipy.stats as stats"
   ]
  },
  {
   "cell_type": "markdown",
   "id": "20b5ed1c",
   "metadata": {},
   "source": [
    "First of all, we load the dataset into a pandas DataFrame named Housing.csv downloaded from *https://www.kaggle.com/datasets/harishkumardatalab/housing-price-prediction?resource=download*. After that, we take a look at the first 10 rows, shape of the DataFrame and type of columns in order to understand the variables."
   ]
  },
  {
   "cell_type": "code",
   "execution_count": 2,
   "id": "931e9688",
   "metadata": {},
   "outputs": [
    {
     "data": {
      "text/html": [
       "<div>\n",
       "<style scoped>\n",
       "    .dataframe tbody tr th:only-of-type {\n",
       "        vertical-align: middle;\n",
       "    }\n",
       "\n",
       "    .dataframe tbody tr th {\n",
       "        vertical-align: top;\n",
       "    }\n",
       "\n",
       "    .dataframe thead th {\n",
       "        text-align: right;\n",
       "    }\n",
       "</style>\n",
       "<table border=\"1\" class=\"dataframe\">\n",
       "  <thead>\n",
       "    <tr style=\"text-align: right;\">\n",
       "      <th></th>\n",
       "      <th>price</th>\n",
       "      <th>area</th>\n",
       "      <th>bedrooms</th>\n",
       "      <th>bathrooms</th>\n",
       "      <th>stories</th>\n",
       "      <th>mainroad</th>\n",
       "      <th>guestroom</th>\n",
       "      <th>basement</th>\n",
       "      <th>hotwaterheating</th>\n",
       "      <th>airconditioning</th>\n",
       "      <th>parking</th>\n",
       "      <th>prefarea</th>\n",
       "      <th>furnishingstatus</th>\n",
       "    </tr>\n",
       "  </thead>\n",
       "  <tbody>\n",
       "    <tr>\n",
       "      <th>0</th>\n",
       "      <td>13300000</td>\n",
       "      <td>7420</td>\n",
       "      <td>4</td>\n",
       "      <td>2</td>\n",
       "      <td>3</td>\n",
       "      <td>yes</td>\n",
       "      <td>no</td>\n",
       "      <td>no</td>\n",
       "      <td>no</td>\n",
       "      <td>yes</td>\n",
       "      <td>2</td>\n",
       "      <td>yes</td>\n",
       "      <td>furnished</td>\n",
       "    </tr>\n",
       "    <tr>\n",
       "      <th>1</th>\n",
       "      <td>12250000</td>\n",
       "      <td>8960</td>\n",
       "      <td>4</td>\n",
       "      <td>4</td>\n",
       "      <td>4</td>\n",
       "      <td>yes</td>\n",
       "      <td>no</td>\n",
       "      <td>no</td>\n",
       "      <td>no</td>\n",
       "      <td>yes</td>\n",
       "      <td>3</td>\n",
       "      <td>no</td>\n",
       "      <td>furnished</td>\n",
       "    </tr>\n",
       "    <tr>\n",
       "      <th>2</th>\n",
       "      <td>12250000</td>\n",
       "      <td>9960</td>\n",
       "      <td>3</td>\n",
       "      <td>2</td>\n",
       "      <td>2</td>\n",
       "      <td>yes</td>\n",
       "      <td>no</td>\n",
       "      <td>yes</td>\n",
       "      <td>no</td>\n",
       "      <td>no</td>\n",
       "      <td>2</td>\n",
       "      <td>yes</td>\n",
       "      <td>semi-furnished</td>\n",
       "    </tr>\n",
       "    <tr>\n",
       "      <th>3</th>\n",
       "      <td>12215000</td>\n",
       "      <td>7500</td>\n",
       "      <td>4</td>\n",
       "      <td>2</td>\n",
       "      <td>2</td>\n",
       "      <td>yes</td>\n",
       "      <td>no</td>\n",
       "      <td>yes</td>\n",
       "      <td>no</td>\n",
       "      <td>yes</td>\n",
       "      <td>3</td>\n",
       "      <td>yes</td>\n",
       "      <td>furnished</td>\n",
       "    </tr>\n",
       "    <tr>\n",
       "      <th>4</th>\n",
       "      <td>11410000</td>\n",
       "      <td>7420</td>\n",
       "      <td>4</td>\n",
       "      <td>1</td>\n",
       "      <td>2</td>\n",
       "      <td>yes</td>\n",
       "      <td>yes</td>\n",
       "      <td>yes</td>\n",
       "      <td>no</td>\n",
       "      <td>yes</td>\n",
       "      <td>2</td>\n",
       "      <td>no</td>\n",
       "      <td>furnished</td>\n",
       "    </tr>\n",
       "    <tr>\n",
       "      <th>5</th>\n",
       "      <td>10850000</td>\n",
       "      <td>7500</td>\n",
       "      <td>3</td>\n",
       "      <td>3</td>\n",
       "      <td>1</td>\n",
       "      <td>yes</td>\n",
       "      <td>no</td>\n",
       "      <td>yes</td>\n",
       "      <td>no</td>\n",
       "      <td>yes</td>\n",
       "      <td>2</td>\n",
       "      <td>yes</td>\n",
       "      <td>semi-furnished</td>\n",
       "    </tr>\n",
       "    <tr>\n",
       "      <th>6</th>\n",
       "      <td>10150000</td>\n",
       "      <td>8580</td>\n",
       "      <td>4</td>\n",
       "      <td>3</td>\n",
       "      <td>4</td>\n",
       "      <td>yes</td>\n",
       "      <td>no</td>\n",
       "      <td>no</td>\n",
       "      <td>no</td>\n",
       "      <td>yes</td>\n",
       "      <td>2</td>\n",
       "      <td>yes</td>\n",
       "      <td>semi-furnished</td>\n",
       "    </tr>\n",
       "    <tr>\n",
       "      <th>7</th>\n",
       "      <td>10150000</td>\n",
       "      <td>16200</td>\n",
       "      <td>5</td>\n",
       "      <td>3</td>\n",
       "      <td>2</td>\n",
       "      <td>yes</td>\n",
       "      <td>no</td>\n",
       "      <td>no</td>\n",
       "      <td>no</td>\n",
       "      <td>no</td>\n",
       "      <td>0</td>\n",
       "      <td>no</td>\n",
       "      <td>unfurnished</td>\n",
       "    </tr>\n",
       "    <tr>\n",
       "      <th>8</th>\n",
       "      <td>9870000</td>\n",
       "      <td>8100</td>\n",
       "      <td>4</td>\n",
       "      <td>1</td>\n",
       "      <td>2</td>\n",
       "      <td>yes</td>\n",
       "      <td>yes</td>\n",
       "      <td>yes</td>\n",
       "      <td>no</td>\n",
       "      <td>yes</td>\n",
       "      <td>2</td>\n",
       "      <td>yes</td>\n",
       "      <td>furnished</td>\n",
       "    </tr>\n",
       "    <tr>\n",
       "      <th>9</th>\n",
       "      <td>9800000</td>\n",
       "      <td>5750</td>\n",
       "      <td>3</td>\n",
       "      <td>2</td>\n",
       "      <td>4</td>\n",
       "      <td>yes</td>\n",
       "      <td>yes</td>\n",
       "      <td>no</td>\n",
       "      <td>no</td>\n",
       "      <td>yes</td>\n",
       "      <td>1</td>\n",
       "      <td>yes</td>\n",
       "      <td>unfurnished</td>\n",
       "    </tr>\n",
       "  </tbody>\n",
       "</table>\n",
       "</div>"
      ],
      "text/plain": [
       "      price   area  bedrooms  bathrooms  stories mainroad guestroom basement  \\\n",
       "0  13300000   7420         4          2        3      yes        no       no   \n",
       "1  12250000   8960         4          4        4      yes        no       no   \n",
       "2  12250000   9960         3          2        2      yes        no      yes   \n",
       "3  12215000   7500         4          2        2      yes        no      yes   \n",
       "4  11410000   7420         4          1        2      yes       yes      yes   \n",
       "5  10850000   7500         3          3        1      yes        no      yes   \n",
       "6  10150000   8580         4          3        4      yes        no       no   \n",
       "7  10150000  16200         5          3        2      yes        no       no   \n",
       "8   9870000   8100         4          1        2      yes       yes      yes   \n",
       "9   9800000   5750         3          2        4      yes       yes       no   \n",
       "\n",
       "  hotwaterheating airconditioning  parking prefarea furnishingstatus  \n",
       "0              no             yes        2      yes        furnished  \n",
       "1              no             yes        3       no        furnished  \n",
       "2              no              no        2      yes   semi-furnished  \n",
       "3              no             yes        3      yes        furnished  \n",
       "4              no             yes        2       no        furnished  \n",
       "5              no             yes        2      yes   semi-furnished  \n",
       "6              no             yes        2      yes   semi-furnished  \n",
       "7              no              no        0       no      unfurnished  \n",
       "8              no             yes        2      yes        furnished  \n",
       "9              no             yes        1      yes      unfurnished  "
      ]
     },
     "execution_count": 2,
     "metadata": {},
     "output_type": "execute_result"
    }
   ],
   "source": [
    "houses = pd.read_csv('Data/Housing.csv', sep=\",\", header=0)\n",
    "\n",
    "houses.head(n = 10)"
   ]
  },
  {
   "cell_type": "code",
   "execution_count": 3,
   "id": "162591fa",
   "metadata": {},
   "outputs": [
    {
     "name": "stdout",
     "output_type": "stream",
     "text": [
      "Shape of the DataFrame = \n",
      " (545, 13)\n"
     ]
    }
   ],
   "source": [
    "print(\"Shape of the DataFrame = \\n\", houses.shape)"
   ]
  },
  {
   "cell_type": "code",
   "execution_count": 4,
   "id": "85516030",
   "metadata": {},
   "outputs": [
    {
     "name": "stdout",
     "output_type": "stream",
     "text": [
      "<class 'pandas.core.frame.DataFrame'>\n",
      "RangeIndex: 545 entries, 0 to 544\n",
      "Data columns (total 13 columns):\n",
      " #   Column            Non-Null Count  Dtype \n",
      "---  ------            --------------  ----- \n",
      " 0   price             545 non-null    int64 \n",
      " 1   area              545 non-null    int64 \n",
      " 2   bedrooms          545 non-null    int64 \n",
      " 3   bathrooms         545 non-null    int64 \n",
      " 4   stories           545 non-null    int64 \n",
      " 5   mainroad          545 non-null    object\n",
      " 6   guestroom         545 non-null    object\n",
      " 7   basement          545 non-null    object\n",
      " 8   hotwaterheating   545 non-null    object\n",
      " 9   airconditioning   545 non-null    object\n",
      " 10  parking           545 non-null    int64 \n",
      " 11  prefarea          545 non-null    object\n",
      " 12  furnishingstatus  545 non-null    object\n",
      "dtypes: int64(6), object(7)\n",
      "memory usage: 55.5+ KB\n"
     ]
    }
   ],
   "source": [
    "houses.info()"
   ]
  },
  {
   "cell_type": "markdown",
   "id": "e5f2bc2a",
   "metadata": {},
   "source": [
    "As we can see, the data file is moderately easy to understand, as well as the information that the columns contain. There are 13 different variables, 545 observations, and no missing values. Nonetheless, we are going to check it."
   ]
  },
  {
   "cell_type": "markdown",
   "id": "eedeb5e3",
   "metadata": {},
   "source": [
    "## Missing Data"
   ]
  },
  {
   "cell_type": "markdown",
   "id": "ca83305e",
   "metadata": {},
   "source": [
    "The code to eliminate the missing data is really simple, using the code below:"
   ]
  },
  {
   "cell_type": "code",
   "execution_count": 5,
   "id": "00cab284",
   "metadata": {},
   "outputs": [
    {
     "name": "stdout",
     "output_type": "stream",
     "text": [
      "<class 'pandas.core.frame.DataFrame'>\n",
      "RangeIndex: 545 entries, 0 to 544\n",
      "Data columns (total 13 columns):\n",
      " #   Column            Non-Null Count  Dtype \n",
      "---  ------            --------------  ----- \n",
      " 0   price             545 non-null    int64 \n",
      " 1   area              545 non-null    int64 \n",
      " 2   bedrooms          545 non-null    int64 \n",
      " 3   bathrooms         545 non-null    int64 \n",
      " 4   stories           545 non-null    int64 \n",
      " 5   mainroad          545 non-null    object\n",
      " 6   guestroom         545 non-null    object\n",
      " 7   basement          545 non-null    object\n",
      " 8   hotwaterheating   545 non-null    object\n",
      " 9   airconditioning   545 non-null    object\n",
      " 10  parking           545 non-null    int64 \n",
      " 11  prefarea          545 non-null    object\n",
      " 12  furnishingstatus  545 non-null    object\n",
      "dtypes: int64(6), object(7)\n",
      "memory usage: 55.5+ KB\n"
     ]
    }
   ],
   "source": [
    "houses = houses.dropna()\n",
    "houses.info()"
   ]
  },
  {
   "cell_type": "markdown",
   "id": "b949f2ae",
   "metadata": {},
   "source": [
    "Obviously, there are some examples where we would like to assign values, instead of removing the observations, but for our example none of these is necessary."
   ]
  },
  {
   "cell_type": "markdown",
   "id": "c029a194",
   "metadata": {},
   "source": [
    "## Factor Conversion"
   ]
  },
  {
   "cell_type": "markdown",
   "id": "98029f6f",
   "metadata": {},
   "source": [
    "The next step is to identify the variables that should be factor due to its values, range, etc. There are some of them (the binaries and the string ones) whose type is designated as object, crearly factors, but maybe some of the *int64* ones go unnoticed."
   ]
  },
  {
   "cell_type": "code",
   "execution_count": 6,
   "id": "e2025741",
   "metadata": {},
   "outputs": [
    {
     "data": {
      "text/html": [
       "<div>\n",
       "<style scoped>\n",
       "    .dataframe tbody tr th:only-of-type {\n",
       "        vertical-align: middle;\n",
       "    }\n",
       "\n",
       "    .dataframe tbody tr th {\n",
       "        vertical-align: top;\n",
       "    }\n",
       "\n",
       "    .dataframe thead th {\n",
       "        text-align: right;\n",
       "    }\n",
       "</style>\n",
       "<table border=\"1\" class=\"dataframe\">\n",
       "  <thead>\n",
       "    <tr style=\"text-align: right;\">\n",
       "      <th></th>\n",
       "      <th>price</th>\n",
       "      <th>area</th>\n",
       "      <th>bedrooms</th>\n",
       "      <th>bathrooms</th>\n",
       "      <th>stories</th>\n",
       "      <th>parking</th>\n",
       "    </tr>\n",
       "  </thead>\n",
       "  <tbody>\n",
       "    <tr>\n",
       "      <th>count</th>\n",
       "      <td>5.450000e+02</td>\n",
       "      <td>545.000000</td>\n",
       "      <td>545.000000</td>\n",
       "      <td>545.000000</td>\n",
       "      <td>545.000000</td>\n",
       "      <td>545.000000</td>\n",
       "    </tr>\n",
       "    <tr>\n",
       "      <th>mean</th>\n",
       "      <td>4.766729e+06</td>\n",
       "      <td>5150.541284</td>\n",
       "      <td>2.965138</td>\n",
       "      <td>1.286239</td>\n",
       "      <td>1.805505</td>\n",
       "      <td>0.693578</td>\n",
       "    </tr>\n",
       "    <tr>\n",
       "      <th>std</th>\n",
       "      <td>1.870440e+06</td>\n",
       "      <td>2170.141023</td>\n",
       "      <td>0.738064</td>\n",
       "      <td>0.502470</td>\n",
       "      <td>0.867492</td>\n",
       "      <td>0.861586</td>\n",
       "    </tr>\n",
       "    <tr>\n",
       "      <th>min</th>\n",
       "      <td>1.750000e+06</td>\n",
       "      <td>1650.000000</td>\n",
       "      <td>1.000000</td>\n",
       "      <td>1.000000</td>\n",
       "      <td>1.000000</td>\n",
       "      <td>0.000000</td>\n",
       "    </tr>\n",
       "    <tr>\n",
       "      <th>25%</th>\n",
       "      <td>3.430000e+06</td>\n",
       "      <td>3600.000000</td>\n",
       "      <td>2.000000</td>\n",
       "      <td>1.000000</td>\n",
       "      <td>1.000000</td>\n",
       "      <td>0.000000</td>\n",
       "    </tr>\n",
       "    <tr>\n",
       "      <th>50%</th>\n",
       "      <td>4.340000e+06</td>\n",
       "      <td>4600.000000</td>\n",
       "      <td>3.000000</td>\n",
       "      <td>1.000000</td>\n",
       "      <td>2.000000</td>\n",
       "      <td>0.000000</td>\n",
       "    </tr>\n",
       "    <tr>\n",
       "      <th>75%</th>\n",
       "      <td>5.740000e+06</td>\n",
       "      <td>6360.000000</td>\n",
       "      <td>3.000000</td>\n",
       "      <td>2.000000</td>\n",
       "      <td>2.000000</td>\n",
       "      <td>1.000000</td>\n",
       "    </tr>\n",
       "    <tr>\n",
       "      <th>max</th>\n",
       "      <td>1.330000e+07</td>\n",
       "      <td>16200.000000</td>\n",
       "      <td>6.000000</td>\n",
       "      <td>4.000000</td>\n",
       "      <td>4.000000</td>\n",
       "      <td>3.000000</td>\n",
       "    </tr>\n",
       "  </tbody>\n",
       "</table>\n",
       "</div>"
      ],
      "text/plain": [
       "              price          area    bedrooms   bathrooms     stories  \\\n",
       "count  5.450000e+02    545.000000  545.000000  545.000000  545.000000   \n",
       "mean   4.766729e+06   5150.541284    2.965138    1.286239    1.805505   \n",
       "std    1.870440e+06   2170.141023    0.738064    0.502470    0.867492   \n",
       "min    1.750000e+06   1650.000000    1.000000    1.000000    1.000000   \n",
       "25%    3.430000e+06   3600.000000    2.000000    1.000000    1.000000   \n",
       "50%    4.340000e+06   4600.000000    3.000000    1.000000    2.000000   \n",
       "75%    5.740000e+06   6360.000000    3.000000    2.000000    2.000000   \n",
       "max    1.330000e+07  16200.000000    6.000000    4.000000    4.000000   \n",
       "\n",
       "          parking  \n",
       "count  545.000000  \n",
       "mean     0.693578  \n",
       "std      0.861586  \n",
       "min      0.000000  \n",
       "25%      0.000000  \n",
       "50%      0.000000  \n",
       "75%      1.000000  \n",
       "max      3.000000  "
      ]
     },
     "execution_count": 6,
     "metadata": {},
     "output_type": "execute_result"
    }
   ],
   "source": [
    "houses.describe()"
   ]
  },
  {
   "cell_type": "markdown",
   "id": "e9ba30ba",
   "metadata": {},
   "source": [
    "As we can see, the variables `bedrooms`, `bathrooms`, `stories` and `parking` should be treated as a factor, so we proceed in the cell below."
   ]
  },
  {
   "cell_type": "code",
   "execution_count": 7,
   "id": "ba21b3a7",
   "metadata": {},
   "outputs": [],
   "source": [
    "houses = houses.astype({'bedrooms':'category', 'bathrooms':'category', 'stories':'category', 'parking':'category', \n",
    "                        'mainroad':'category', 'guestroom':'category', 'basement':'category', 'hotwaterheating':'category', \n",
    "                        'airconditioning':'category', 'prefarea':'category', 'furnishingstatus':'category'})"
   ]
  },
  {
   "cell_type": "markdown",
   "id": "38c49f57",
   "metadata": {},
   "source": [
    "Another option:"
   ]
  },
  {
   "cell_type": "code",
   "execution_count": 8,
   "id": "c4ac2222",
   "metadata": {},
   "outputs": [],
   "source": [
    "# factorCols = houses.select_dtypes(include='object').columns\n",
    "# factorCols\n",
    "#houses.loc[:, factorCols] = houses.loc[:, factorCols].astype('category')"
   ]
  },
  {
   "cell_type": "code",
   "execution_count": 9,
   "id": "d2039153",
   "metadata": {},
   "outputs": [
    {
     "name": "stdout",
     "output_type": "stream",
     "text": [
      "<class 'pandas.core.frame.DataFrame'>\n",
      "RangeIndex: 545 entries, 0 to 544\n",
      "Data columns (total 13 columns):\n",
      " #   Column            Non-Null Count  Dtype   \n",
      "---  ------            --------------  -----   \n",
      " 0   price             545 non-null    int64   \n",
      " 1   area              545 non-null    int64   \n",
      " 2   bedrooms          545 non-null    category\n",
      " 3   bathrooms         545 non-null    category\n",
      " 4   stories           545 non-null    category\n",
      " 5   mainroad          545 non-null    category\n",
      " 6   guestroom         545 non-null    category\n",
      " 7   basement          545 non-null    category\n",
      " 8   hotwaterheating   545 non-null    category\n",
      " 9   airconditioning   545 non-null    category\n",
      " 10  parking           545 non-null    category\n",
      " 11  prefarea          545 non-null    category\n",
      " 12  furnishingstatus  545 non-null    category\n",
      "dtypes: category(11), int64(2)\n",
      "memory usage: 16.2 KB\n"
     ]
    }
   ],
   "source": [
    "houses.info()"
   ]
  },
  {
   "cell_type": "markdown",
   "id": "eb1598f5",
   "metadata": {
    "scrolled": true
   },
   "source": [
    "Now that we have our data set prepared, we start with the study of each column."
   ]
  },
  {
   "cell_type": "markdown",
   "id": "bce68d00",
   "metadata": {},
   "source": [
    "## Detailed Exploratory Analysis"
   ]
  },
  {
   "cell_type": "markdown",
   "id": "42bc51be",
   "metadata": {},
   "source": [
    "### Variable `price`"
   ]
  },
  {
   "cell_type": "markdown",
   "id": "43685cf4",
   "metadata": {},
   "source": [
    "As a first approach, we can calculate some statistical measures for our variables. We start with the `price`, that obviously indicates the value of the house."
   ]
  },
  {
   "cell_type": "code",
   "execution_count": 10,
   "id": "10e00e93",
   "metadata": {},
   "outputs": [
    {
     "data": {
      "text/plain": [
       "count    5.450000e+02\n",
       "mean     4.766729e+06\n",
       "std      1.870440e+06\n",
       "min      1.750000e+06\n",
       "25%      3.430000e+06\n",
       "50%      4.340000e+06\n",
       "75%      5.740000e+06\n",
       "max      1.330000e+07\n",
       "Name: price, dtype: float64"
      ]
     },
     "execution_count": 10,
     "metadata": {},
     "output_type": "execute_result"
    }
   ],
   "source": [
    "houses['price'].describe()"
   ]
  },
  {
   "cell_type": "code",
   "execution_count": 11,
   "id": "0dd74a9b",
   "metadata": {},
   "outputs": [
    {
     "name": "stdout",
     "output_type": "stream",
     "text": [
      "The mean of the price variable is:  4766729.247706422\n",
      "\n",
      " ---------------------------------------------------------------------- \n",
      "\n",
      "The first quartile of the price variable is:  3430000.0\n",
      "\n",
      " ---------------------------------------------------------------------- \n",
      "\n",
      "The third quartile of the price variable is:  5740000.0\n",
      "\n",
      " ---------------------------------------------------------------------- \n",
      "\n",
      "The median of the price variable is:  4340000.0\n",
      "\n",
      " ---------------------------------------------------------------------- \n",
      "\n",
      "The minimum value of the price variable is:  1750000\n",
      "\n",
      " ---------------------------------------------------------------------- \n",
      "\n",
      "The maximum value of the price variable is:  13300000\n",
      "\n",
      " ---------------------------------------------------------------------- \n",
      "\n",
      "The standard deviation of the price variable is:  1870439.6156573922 \n",
      "\n"
     ]
    }
   ],
   "source": [
    "print('The mean of the price variable is: ', houses['price'].mean())\n",
    "print('\\n','-'*70,'\\n')\n",
    "print('The first quartile of the price variable is: ', houses['price'].quantile(0.25))\n",
    "print('\\n','-'*70,'\\n')\n",
    "print('The third quartile of the price variable is: ', houses['price'].quantile(0.75))\n",
    "print('\\n','-'*70,'\\n')\n",
    "print('The median of the price variable is: ', houses['price'].median())\n",
    "print('\\n','-'*70,'\\n')\n",
    "print('The minimum value of the price variable is: ', houses['price'].min())\n",
    "print('\\n','-'*70,'\\n')\n",
    "print('The maximum value of the price variable is: ', houses['price'].max())\n",
    "print('\\n','-'*70,'\\n')\n",
    "print('The standard deviation of the price variable is: ', houses['price'].std(),'\\n')"
   ]
  },
  {
   "cell_type": "markdown",
   "id": "7a569026",
   "metadata": {},
   "source": [
    "Now, we can observe a table with absolute frequencies of our variables."
   ]
  },
  {
   "cell_type": "code",
   "execution_count": 12,
   "id": "6f1ccb00",
   "metadata": {},
   "outputs": [
    {
     "data": {
      "text/plain": [
       "price\n",
       "1750000     3\n",
       "1767150     1\n",
       "1820000     1\n",
       "1855000     1\n",
       "1890000     2\n",
       "           ..\n",
       "10850000    1\n",
       "11410000    1\n",
       "12215000    1\n",
       "12250000    2\n",
       "13300000    1\n",
       "Name: count, Length: 219, dtype: int64"
      ]
     },
     "execution_count": 12,
     "metadata": {},
     "output_type": "execute_result"
    }
   ],
   "source": [
    "houses['price'].value_counts().sort_index()"
   ]
  },
  {
   "cell_type": "markdown",
   "id": "a6b685d5",
   "metadata": {},
   "source": [
    "Our table suggest that we should handle our variable as a continuous one to obtain good graphical results because most values of this variable appear only once in the table."
   ]
  },
  {
   "cell_type": "markdown",
   "id": "c99ca752",
   "metadata": {},
   "source": [
    "So, we will define four classes as follows:\n",
    "- $price \\leq 3500000$: cheap houses.\n",
    "- $3500000 < price \\leq 7000000$: medium-price houses.\n",
    "- $7000000 < price \\leq 10000000$: expensive houses.\n",
    "- $10000000 < price $: overpriced houses."
   ]
  },
  {
   "cell_type": "markdown",
   "id": "70903509",
   "metadata": {},
   "source": [
    "Next step is to build our intervals (classes) and check which interval corresponds to each observation."
   ]
  },
  {
   "cell_type": "code",
   "execution_count": 13,
   "id": "6095b980",
   "metadata": {},
   "outputs": [
    {
     "data": {
      "text/plain": [
       "0      (10000000, 13300000]\n",
       "1      (10000000, 13300000]\n",
       "2      (10000000, 13300000]\n",
       "3      (10000000, 13300000]\n",
       "4      (10000000, 13300000]\n",
       "               ...         \n",
       "540      (1329000, 3500000]\n",
       "541      (1329000, 3500000]\n",
       "542      (1329000, 3500000]\n",
       "543      (1329000, 3500000]\n",
       "544      (1329000, 3500000]\n",
       "Name: price, Length: 545, dtype: category\n",
       "Categories (4, interval[int64, right]): [(1329000, 3500000] < (3500000, 7000000] < (7000000, 10000000] < (10000000, 13300000]]"
      ]
     },
     "execution_count": 13,
     "metadata": {},
     "output_type": "execute_result"
    }
   ],
   "source": [
    "bins = [1329000, 3500000, 7000000, 10000000, 13300000]\n",
    "pd.cut(houses['price'], bins = bins, ordered = True)"
   ]
  },
  {
   "cell_type": "markdown",
   "id": "4125330f",
   "metadata": {},
   "source": [
    "We add a column to our dataframe with the interval for each record."
   ]
  },
  {
   "cell_type": "code",
   "execution_count": 14,
   "id": "7d49f11a",
   "metadata": {},
   "outputs": [
    {
     "data": {
      "text/plain": [
       "price_binned\n",
       "(1329000, 3500000]      158\n",
       "(3500000, 7000000]      323\n",
       "(7000000, 10000000]      56\n",
       "(10000000, 13300000]      8\n",
       "Name: count, dtype: int64"
      ]
     },
     "execution_count": 14,
     "metadata": {},
     "output_type": "execute_result"
    }
   ],
   "source": [
    "houses['price_binned'] = pd.cut(houses['price'], bins = bins, ordered = True)\n",
    "houses['price_binned'].value_counts().sort_index()"
   ]
  },
  {
   "cell_type": "markdown",
   "id": "ec0071f6",
   "metadata": {},
   "source": [
    "Let's check it."
   ]
  },
  {
   "cell_type": "code",
   "execution_count": 15,
   "id": "5c181420",
   "metadata": {},
   "outputs": [
    {
     "data": {
      "text/html": [
       "<div>\n",
       "<style scoped>\n",
       "    .dataframe tbody tr th:only-of-type {\n",
       "        vertical-align: middle;\n",
       "    }\n",
       "\n",
       "    .dataframe tbody tr th {\n",
       "        vertical-align: top;\n",
       "    }\n",
       "\n",
       "    .dataframe thead th {\n",
       "        text-align: right;\n",
       "    }\n",
       "</style>\n",
       "<table border=\"1\" class=\"dataframe\">\n",
       "  <thead>\n",
       "    <tr style=\"text-align: right;\">\n",
       "      <th></th>\n",
       "      <th>price</th>\n",
       "      <th>area</th>\n",
       "      <th>bedrooms</th>\n",
       "      <th>bathrooms</th>\n",
       "      <th>stories</th>\n",
       "      <th>mainroad</th>\n",
       "      <th>guestroom</th>\n",
       "      <th>basement</th>\n",
       "      <th>hotwaterheating</th>\n",
       "      <th>airconditioning</th>\n",
       "      <th>parking</th>\n",
       "      <th>prefarea</th>\n",
       "      <th>furnishingstatus</th>\n",
       "      <th>price_binned</th>\n",
       "    </tr>\n",
       "  </thead>\n",
       "  <tbody>\n",
       "    <tr>\n",
       "      <th>0</th>\n",
       "      <td>13300000</td>\n",
       "      <td>7420</td>\n",
       "      <td>4</td>\n",
       "      <td>2</td>\n",
       "      <td>3</td>\n",
       "      <td>yes</td>\n",
       "      <td>no</td>\n",
       "      <td>no</td>\n",
       "      <td>no</td>\n",
       "      <td>yes</td>\n",
       "      <td>2</td>\n",
       "      <td>yes</td>\n",
       "      <td>furnished</td>\n",
       "      <td>(10000000, 13300000]</td>\n",
       "    </tr>\n",
       "    <tr>\n",
       "      <th>1</th>\n",
       "      <td>12250000</td>\n",
       "      <td>8960</td>\n",
       "      <td>4</td>\n",
       "      <td>4</td>\n",
       "      <td>4</td>\n",
       "      <td>yes</td>\n",
       "      <td>no</td>\n",
       "      <td>no</td>\n",
       "      <td>no</td>\n",
       "      <td>yes</td>\n",
       "      <td>3</td>\n",
       "      <td>no</td>\n",
       "      <td>furnished</td>\n",
       "      <td>(10000000, 13300000]</td>\n",
       "    </tr>\n",
       "    <tr>\n",
       "      <th>2</th>\n",
       "      <td>12250000</td>\n",
       "      <td>9960</td>\n",
       "      <td>3</td>\n",
       "      <td>2</td>\n",
       "      <td>2</td>\n",
       "      <td>yes</td>\n",
       "      <td>no</td>\n",
       "      <td>yes</td>\n",
       "      <td>no</td>\n",
       "      <td>no</td>\n",
       "      <td>2</td>\n",
       "      <td>yes</td>\n",
       "      <td>semi-furnished</td>\n",
       "      <td>(10000000, 13300000]</td>\n",
       "    </tr>\n",
       "    <tr>\n",
       "      <th>3</th>\n",
       "      <td>12215000</td>\n",
       "      <td>7500</td>\n",
       "      <td>4</td>\n",
       "      <td>2</td>\n",
       "      <td>2</td>\n",
       "      <td>yes</td>\n",
       "      <td>no</td>\n",
       "      <td>yes</td>\n",
       "      <td>no</td>\n",
       "      <td>yes</td>\n",
       "      <td>3</td>\n",
       "      <td>yes</td>\n",
       "      <td>furnished</td>\n",
       "      <td>(10000000, 13300000]</td>\n",
       "    </tr>\n",
       "    <tr>\n",
       "      <th>4</th>\n",
       "      <td>11410000</td>\n",
       "      <td>7420</td>\n",
       "      <td>4</td>\n",
       "      <td>1</td>\n",
       "      <td>2</td>\n",
       "      <td>yes</td>\n",
       "      <td>yes</td>\n",
       "      <td>yes</td>\n",
       "      <td>no</td>\n",
       "      <td>yes</td>\n",
       "      <td>2</td>\n",
       "      <td>no</td>\n",
       "      <td>furnished</td>\n",
       "      <td>(10000000, 13300000]</td>\n",
       "    </tr>\n",
       "  </tbody>\n",
       "</table>\n",
       "</div>"
      ],
      "text/plain": [
       "      price  area bedrooms bathrooms stories mainroad guestroom basement  \\\n",
       "0  13300000  7420        4         2       3      yes        no       no   \n",
       "1  12250000  8960        4         4       4      yes        no       no   \n",
       "2  12250000  9960        3         2       2      yes        no      yes   \n",
       "3  12215000  7500        4         2       2      yes        no      yes   \n",
       "4  11410000  7420        4         1       2      yes       yes      yes   \n",
       "\n",
       "  hotwaterheating airconditioning parking prefarea furnishingstatus  \\\n",
       "0              no             yes       2      yes        furnished   \n",
       "1              no             yes       3       no        furnished   \n",
       "2              no              no       2      yes   semi-furnished   \n",
       "3              no             yes       3      yes        furnished   \n",
       "4              no             yes       2       no        furnished   \n",
       "\n",
       "           price_binned  \n",
       "0  (10000000, 13300000]  \n",
       "1  (10000000, 13300000]  \n",
       "2  (10000000, 13300000]  \n",
       "3  (10000000, 13300000]  \n",
       "4  (10000000, 13300000]  "
      ]
     },
     "execution_count": 15,
     "metadata": {},
     "output_type": "execute_result"
    }
   ],
   "source": [
    "houses.head()"
   ]
  },
  {
   "cell_type": "markdown",
   "id": "9a91630f",
   "metadata": {},
   "source": [
    "We plot now our binned variable with an histogram."
   ]
  },
  {
   "cell_type": "code",
   "execution_count": 16,
   "id": "8a4aeb10",
   "metadata": {},
   "outputs": [
    {
     "data": {
      "image/png": "[encoded data removed]",
      "text/plain": [
       "<Figure size 640x480 with 1 Axes>"
      ]
     },
     "metadata": {},
     "output_type": "display_data"
    }
   ],
   "source": [
    "sns.set()\n",
    "plot = houses.hist('price', edgecolor = 'black', linewidth = 1.2, \n",
    "                   grid = False, color = 'tan', bins = bins) \n",
    "\n",
    "plt.xlabel('Price')\n",
    "plt.ylabel('Counts')\n",
    "plt.title('Price Histogram')\n",
    "plt.show()"
   ]
  },
  {
   "cell_type": "markdown",
   "id": "b4281bb8",
   "metadata": {},
   "source": [
    "As we could expect, medium-priced houses are the most common class, while overpriced houses are less often seen."
   ]
  },
  {
   "cell_type": "markdown",
   "id": "122f14f0",
   "metadata": {},
   "source": [
    "We can represent our not-binned variable with an histogram, as well as a density plot."
   ]
  },
  {
   "cell_type": "code",
   "execution_count": 17,
   "id": "c1debb03",
   "metadata": {},
   "outputs": [
    {
     "name": "stderr",
     "output_type": "stream",
     "text": [
      "C:\\Users\\juanl\\anaconda3\\envs\\IAELPML\\lib\\site-packages\\seaborn\\_oldcore.py:1498: FutureWarning: is_categorical_dtype is deprecated and will be removed in a future version. Use isinstance(dtype, CategoricalDtype) instead\n",
      "  if pd.api.types.is_categorical_dtype(vector):\n",
      "C:\\Users\\juanl\\anaconda3\\envs\\IAELPML\\lib\\site-packages\\seaborn\\_oldcore.py:1119: FutureWarning: use_inf_as_na option is deprecated and will be removed in a future version. Convert inf values to NaN before operating instead.\n",
      "  with pd.option_context('mode.use_inf_as_na', True):\n"
     ]
    },
    {
     "data": {
      "text/plain": [
       "<matplotlib.legend.Legend at 0x23711b7e670>"
      ]
     },
     "execution_count": 17,
     "metadata": {},
     "output_type": "execute_result"
    },
    {
     "data": {
      "image/png": "[encoded data removed]",
      "text/plain": [
       "<Figure size 640x480 with 1 Axes>"
      ]
     },
     "metadata": {},
     "output_type": "display_data"
    }
   ],
   "source": [
    "dens_plot = sns.histplot(data = houses, x = 'price', kde = True)\n",
    "dens_plot.lines[0].set_color('red')\n",
    "dens_plot.lines[0].set_linewidth(3)\n",
    "plt.axvline(x = 0.4*1e7, color = 'yellow', linestyle = '--', label = f'Value={0.4}')\n",
    "plt.legend()"
   ]
  },
  {
   "cell_type": "markdown",
   "id": "94ee1ba4",
   "metadata": {},
   "source": [
    "We can see in the plot how we have a unimodal distribution that is slightly right sweked. The mode is centered at a slightly lower number than 0.4 (in terms of 1e7). Additionally, the density curve resembles slightly a Gaussian bell curve, so we will check if we can assume that its distribution is normal."
   ]
  },
  {
   "cell_type": "markdown",
   "id": "4cdc00c7",
   "metadata": {},
   "source": [
    "We will check it with a QQplot. If our variable is normally-distributed, the points should fall on a line."
   ]
  },
  {
   "cell_type": "code",
   "execution_count": 18,
   "id": "b37e1666",
   "metadata": {},
   "outputs": [
    {
     "data": {
      "image/png": "[encoded data removed]",
      "text/plain": [
       "<Figure size 640x480 with 1 Axes>"
      ]
     },
     "metadata": {},
     "output_type": "display_data"
    }
   ],
   "source": [
    "sm.qqplot(houses['price'], line='s')\n",
    "plt.title('QQ plot for price')\n",
    "plt.show()"
   ]
  },
  {
   "cell_type": "markdown",
   "id": "b6bdbc06",
   "metadata": {},
   "source": [
    "So, we cannot assume that our variable is normally-distributed, since there are a large proportion of the points not falling in the line."
   ]
  },
  {
   "cell_type": "markdown",
   "id": "65cabade",
   "metadata": {},
   "source": [
    "Finally, we represent our variable with a mix of two graphics: a violinplot and a boxplot."
   ]
  },
  {
   "cell_type": "code",
   "execution_count": 19,
   "id": "81de08ae",
   "metadata": {},
   "outputs": [
    {
     "name": "stderr",
     "output_type": "stream",
     "text": [
      "C:\\Users\\juanl\\anaconda3\\envs\\IAELPML\\lib\\site-packages\\seaborn\\_oldcore.py:1498: FutureWarning: is_categorical_dtype is deprecated and will be removed in a future version. Use isinstance(dtype, CategoricalDtype) instead\n",
      "  if pd.api.types.is_categorical_dtype(vector):\n",
      "C:\\Users\\juanl\\anaconda3\\envs\\IAELPML\\lib\\site-packages\\seaborn\\_oldcore.py:1498: FutureWarning: is_categorical_dtype is deprecated and will be removed in a future version. Use isinstance(dtype, CategoricalDtype) instead\n",
      "  if pd.api.types.is_categorical_dtype(vector):\n"
     ]
    },
    {
     "data": {
      "image/png": "[encoded data removed]",
      "text/plain": [
       "<Figure size 640x480 with 1 Axes>"
      ]
     },
     "metadata": {},
     "output_type": "display_data"
    }
   ],
   "source": [
    "ax = sns.boxplot(x = 'price', data = houses, width = 0.5, color = 'orange', boxprops = dict(alpha = 0.3))\n",
    "ax = sns.violinplot(x = 'price', data = houses, width = 0.3, alpha = 0.3, color = 'tan', inner = None)\n",
    "\n",
    "for violin, alpha in zip(ax.collections[::2], [0.5]):\n",
    "    violin.set_alpha(alpha)"
   ]
  },
  {
   "cell_type": "markdown",
   "id": "76d9d660",
   "metadata": {},
   "source": [
    "We have some outliers at the top of the plot, but not at the bottom, so we will locate them:"
   ]
  },
  {
   "cell_type": "code",
   "execution_count": 20,
   "id": "73519583",
   "metadata": {},
   "outputs": [
    {
     "name": "stdout",
     "output_type": "stream",
     "text": [
      "Lower and upper outlier limits: -35000.0 ,  9205000.0\n",
      "The outliers are\n"
     ]
    },
    {
     "data": {
      "text/html": [
       "<div>\n",
       "<style scoped>\n",
       "    .dataframe tbody tr th:only-of-type {\n",
       "        vertical-align: middle;\n",
       "    }\n",
       "\n",
       "    .dataframe tbody tr th {\n",
       "        vertical-align: top;\n",
       "    }\n",
       "\n",
       "    .dataframe thead th {\n",
       "        text-align: right;\n",
       "    }\n",
       "</style>\n",
       "<table border=\"1\" class=\"dataframe\">\n",
       "  <thead>\n",
       "    <tr style=\"text-align: right;\">\n",
       "      <th></th>\n",
       "      <th>price</th>\n",
       "      <th>area</th>\n",
       "      <th>bedrooms</th>\n",
       "      <th>bathrooms</th>\n",
       "      <th>stories</th>\n",
       "      <th>mainroad</th>\n",
       "      <th>guestroom</th>\n",
       "      <th>basement</th>\n",
       "      <th>hotwaterheating</th>\n",
       "      <th>airconditioning</th>\n",
       "      <th>parking</th>\n",
       "      <th>prefarea</th>\n",
       "      <th>furnishingstatus</th>\n",
       "      <th>price_binned</th>\n",
       "    </tr>\n",
       "  </thead>\n",
       "  <tbody>\n",
       "    <tr>\n",
       "      <th>0</th>\n",
       "      <td>13300000</td>\n",
       "      <td>7420</td>\n",
       "      <td>4</td>\n",
       "      <td>2</td>\n",
       "      <td>3</td>\n",
       "      <td>yes</td>\n",
       "      <td>no</td>\n",
       "      <td>no</td>\n",
       "      <td>no</td>\n",
       "      <td>yes</td>\n",
       "      <td>2</td>\n",
       "      <td>yes</td>\n",
       "      <td>furnished</td>\n",
       "      <td>(10000000, 13300000]</td>\n",
       "    </tr>\n",
       "    <tr>\n",
       "      <th>1</th>\n",
       "      <td>12250000</td>\n",
       "      <td>8960</td>\n",
       "      <td>4</td>\n",
       "      <td>4</td>\n",
       "      <td>4</td>\n",
       "      <td>yes</td>\n",
       "      <td>no</td>\n",
       "      <td>no</td>\n",
       "      <td>no</td>\n",
       "      <td>yes</td>\n",
       "      <td>3</td>\n",
       "      <td>no</td>\n",
       "      <td>furnished</td>\n",
       "      <td>(10000000, 13300000]</td>\n",
       "    </tr>\n",
       "    <tr>\n",
       "      <th>2</th>\n",
       "      <td>12250000</td>\n",
       "      <td>9960</td>\n",
       "      <td>3</td>\n",
       "      <td>2</td>\n",
       "      <td>2</td>\n",
       "      <td>yes</td>\n",
       "      <td>no</td>\n",
       "      <td>yes</td>\n",
       "      <td>no</td>\n",
       "      <td>no</td>\n",
       "      <td>2</td>\n",
       "      <td>yes</td>\n",
       "      <td>semi-furnished</td>\n",
       "      <td>(10000000, 13300000]</td>\n",
       "    </tr>\n",
       "    <tr>\n",
       "      <th>3</th>\n",
       "      <td>12215000</td>\n",
       "      <td>7500</td>\n",
       "      <td>4</td>\n",
       "      <td>2</td>\n",
       "      <td>2</td>\n",
       "      <td>yes</td>\n",
       "      <td>no</td>\n",
       "      <td>yes</td>\n",
       "      <td>no</td>\n",
       "      <td>yes</td>\n",
       "      <td>3</td>\n",
       "      <td>yes</td>\n",
       "      <td>furnished</td>\n",
       "      <td>(10000000, 13300000]</td>\n",
       "    </tr>\n",
       "    <tr>\n",
       "      <th>4</th>\n",
       "      <td>11410000</td>\n",
       "      <td>7420</td>\n",
       "      <td>4</td>\n",
       "      <td>1</td>\n",
       "      <td>2</td>\n",
       "      <td>yes</td>\n",
       "      <td>yes</td>\n",
       "      <td>yes</td>\n",
       "      <td>no</td>\n",
       "      <td>yes</td>\n",
       "      <td>2</td>\n",
       "      <td>no</td>\n",
       "      <td>furnished</td>\n",
       "      <td>(10000000, 13300000]</td>\n",
       "    </tr>\n",
       "    <tr>\n",
       "      <th>5</th>\n",
       "      <td>10850000</td>\n",
       "      <td>7500</td>\n",
       "      <td>3</td>\n",
       "      <td>3</td>\n",
       "      <td>1</td>\n",
       "      <td>yes</td>\n",
       "      <td>no</td>\n",
       "      <td>yes</td>\n",
       "      <td>no</td>\n",
       "      <td>yes</td>\n",
       "      <td>2</td>\n",
       "      <td>yes</td>\n",
       "      <td>semi-furnished</td>\n",
       "      <td>(10000000, 13300000]</td>\n",
       "    </tr>\n",
       "    <tr>\n",
       "      <th>6</th>\n",
       "      <td>10150000</td>\n",
       "      <td>8580</td>\n",
       "      <td>4</td>\n",
       "      <td>3</td>\n",
       "      <td>4</td>\n",
       "      <td>yes</td>\n",
       "      <td>no</td>\n",
       "      <td>no</td>\n",
       "      <td>no</td>\n",
       "      <td>yes</td>\n",
       "      <td>2</td>\n",
       "      <td>yes</td>\n",
       "      <td>semi-furnished</td>\n",
       "      <td>(10000000, 13300000]</td>\n",
       "    </tr>\n",
       "    <tr>\n",
       "      <th>7</th>\n",
       "      <td>10150000</td>\n",
       "      <td>16200</td>\n",
       "      <td>5</td>\n",
       "      <td>3</td>\n",
       "      <td>2</td>\n",
       "      <td>yes</td>\n",
       "      <td>no</td>\n",
       "      <td>no</td>\n",
       "      <td>no</td>\n",
       "      <td>no</td>\n",
       "      <td>0</td>\n",
       "      <td>no</td>\n",
       "      <td>unfurnished</td>\n",
       "      <td>(10000000, 13300000]</td>\n",
       "    </tr>\n",
       "    <tr>\n",
       "      <th>8</th>\n",
       "      <td>9870000</td>\n",
       "      <td>8100</td>\n",
       "      <td>4</td>\n",
       "      <td>1</td>\n",
       "      <td>2</td>\n",
       "      <td>yes</td>\n",
       "      <td>yes</td>\n",
       "      <td>yes</td>\n",
       "      <td>no</td>\n",
       "      <td>yes</td>\n",
       "      <td>2</td>\n",
       "      <td>yes</td>\n",
       "      <td>furnished</td>\n",
       "      <td>(7000000, 10000000]</td>\n",
       "    </tr>\n",
       "    <tr>\n",
       "      <th>9</th>\n",
       "      <td>9800000</td>\n",
       "      <td>5750</td>\n",
       "      <td>3</td>\n",
       "      <td>2</td>\n",
       "      <td>4</td>\n",
       "      <td>yes</td>\n",
       "      <td>yes</td>\n",
       "      <td>no</td>\n",
       "      <td>no</td>\n",
       "      <td>yes</td>\n",
       "      <td>1</td>\n",
       "      <td>yes</td>\n",
       "      <td>unfurnished</td>\n",
       "      <td>(7000000, 10000000]</td>\n",
       "    </tr>\n",
       "    <tr>\n",
       "      <th>10</th>\n",
       "      <td>9800000</td>\n",
       "      <td>13200</td>\n",
       "      <td>3</td>\n",
       "      <td>1</td>\n",
       "      <td>2</td>\n",
       "      <td>yes</td>\n",
       "      <td>no</td>\n",
       "      <td>yes</td>\n",
       "      <td>no</td>\n",
       "      <td>yes</td>\n",
       "      <td>2</td>\n",
       "      <td>yes</td>\n",
       "      <td>furnished</td>\n",
       "      <td>(7000000, 10000000]</td>\n",
       "    </tr>\n",
       "    <tr>\n",
       "      <th>11</th>\n",
       "      <td>9681000</td>\n",
       "      <td>6000</td>\n",
       "      <td>4</td>\n",
       "      <td>3</td>\n",
       "      <td>2</td>\n",
       "      <td>yes</td>\n",
       "      <td>yes</td>\n",
       "      <td>yes</td>\n",
       "      <td>yes</td>\n",
       "      <td>no</td>\n",
       "      <td>2</td>\n",
       "      <td>no</td>\n",
       "      <td>semi-furnished</td>\n",
       "      <td>(7000000, 10000000]</td>\n",
       "    </tr>\n",
       "    <tr>\n",
       "      <th>12</th>\n",
       "      <td>9310000</td>\n",
       "      <td>6550</td>\n",
       "      <td>4</td>\n",
       "      <td>2</td>\n",
       "      <td>2</td>\n",
       "      <td>yes</td>\n",
       "      <td>no</td>\n",
       "      <td>no</td>\n",
       "      <td>no</td>\n",
       "      <td>yes</td>\n",
       "      <td>1</td>\n",
       "      <td>yes</td>\n",
       "      <td>semi-furnished</td>\n",
       "      <td>(7000000, 10000000]</td>\n",
       "    </tr>\n",
       "    <tr>\n",
       "      <th>13</th>\n",
       "      <td>9240000</td>\n",
       "      <td>3500</td>\n",
       "      <td>4</td>\n",
       "      <td>2</td>\n",
       "      <td>2</td>\n",
       "      <td>yes</td>\n",
       "      <td>no</td>\n",
       "      <td>no</td>\n",
       "      <td>yes</td>\n",
       "      <td>no</td>\n",
       "      <td>2</td>\n",
       "      <td>no</td>\n",
       "      <td>furnished</td>\n",
       "      <td>(7000000, 10000000]</td>\n",
       "    </tr>\n",
       "    <tr>\n",
       "      <th>14</th>\n",
       "      <td>9240000</td>\n",
       "      <td>7800</td>\n",
       "      <td>3</td>\n",
       "      <td>2</td>\n",
       "      <td>2</td>\n",
       "      <td>yes</td>\n",
       "      <td>no</td>\n",
       "      <td>no</td>\n",
       "      <td>no</td>\n",
       "      <td>no</td>\n",
       "      <td>0</td>\n",
       "      <td>yes</td>\n",
       "      <td>semi-furnished</td>\n",
       "      <td>(7000000, 10000000]</td>\n",
       "    </tr>\n",
       "  </tbody>\n",
       "</table>\n",
       "</div>"
      ],
      "text/plain": [
       "       price   area bedrooms bathrooms stories mainroad guestroom basement  \\\n",
       "0   13300000   7420        4         2       3      yes        no       no   \n",
       "1   12250000   8960        4         4       4      yes        no       no   \n",
       "2   12250000   9960        3         2       2      yes        no      yes   \n",
       "3   12215000   7500        4         2       2      yes        no      yes   \n",
       "4   11410000   7420        4         1       2      yes       yes      yes   \n",
       "5   10850000   7500        3         3       1      yes        no      yes   \n",
       "6   10150000   8580        4         3       4      yes        no       no   \n",
       "7   10150000  16200        5         3       2      yes        no       no   \n",
       "8    9870000   8100        4         1       2      yes       yes      yes   \n",
       "9    9800000   5750        3         2       4      yes       yes       no   \n",
       "10   9800000  13200        3         1       2      yes        no      yes   \n",
       "11   9681000   6000        4         3       2      yes       yes      yes   \n",
       "12   9310000   6550        4         2       2      yes        no       no   \n",
       "13   9240000   3500        4         2       2      yes        no       no   \n",
       "14   9240000   7800        3         2       2      yes        no       no   \n",
       "\n",
       "   hotwaterheating airconditioning parking prefarea furnishingstatus  \\\n",
       "0               no             yes       2      yes        furnished   \n",
       "1               no             yes       3       no        furnished   \n",
       "2               no              no       2      yes   semi-furnished   \n",
       "3               no             yes       3      yes        furnished   \n",
       "4               no             yes       2       no        furnished   \n",
       "5               no             yes       2      yes   semi-furnished   \n",
       "6               no             yes       2      yes   semi-furnished   \n",
       "7               no              no       0       no      unfurnished   \n",
       "8               no             yes       2      yes        furnished   \n",
       "9               no             yes       1      yes      unfurnished   \n",
       "10              no             yes       2      yes        furnished   \n",
       "11             yes              no       2       no   semi-furnished   \n",
       "12              no             yes       1      yes   semi-furnished   \n",
       "13             yes              no       2       no        furnished   \n",
       "14              no              no       0      yes   semi-furnished   \n",
       "\n",
       "            price_binned  \n",
       "0   (10000000, 13300000]  \n",
       "1   (10000000, 13300000]  \n",
       "2   (10000000, 13300000]  \n",
       "3   (10000000, 13300000]  \n",
       "4   (10000000, 13300000]  \n",
       "5   (10000000, 13300000]  \n",
       "6   (10000000, 13300000]  \n",
       "7   (10000000, 13300000]  \n",
       "8    (7000000, 10000000]  \n",
       "9    (7000000, 10000000]  \n",
       "10   (7000000, 10000000]  \n",
       "11   (7000000, 10000000]  \n",
       "12   (7000000, 10000000]  \n",
       "13   (7000000, 10000000]  \n",
       "14   (7000000, 10000000]  "
      ]
     },
     "execution_count": 20,
     "metadata": {},
     "output_type": "execute_result"
    }
   ],
   "source": [
    "price_iqr = stats.iqr(houses['price'])\n",
    "price_q1, price_q3 = np.quantile(houses['price'], [0.25, 0.75])\n",
    "\n",
    "cut_low = price_q1 - 1.5 * price_iqr\n",
    "cut_high = price_q3 + 1.5 * price_iqr\n",
    "\n",
    "print(\"Lower and upper outlier limits:\", cut_low, \", \", cut_high)\n",
    "\n",
    "price_outliers = houses.loc[(houses['price'] > cut_high)]\n",
    "\n",
    "print(\"The outliers are\")\n",
    "\n",
    "price_outliers"
   ]
  },
  {
   "cell_type": "code",
   "execution_count": 21,
   "id": "6d716c5d",
   "metadata": {},
   "outputs": [
    {
     "name": "stdout",
     "output_type": "stream",
     "text": [
      "So, we have 15 outliers: 8 are from overpriced houses class and 7 are from expensive houses class.\n"
     ]
    }
   ],
   "source": [
    "print('So, we have', price_outliers.shape[0], 'outliers:',\n",
    "    price_outliers[price_outliers['price'] > 10000000].shape[0],\n",
    "     'are from overpriced houses class and', \n",
    "      price_outliers[price_outliers['price'] <= 10000000].shape[0],\n",
    "     'are from expensive houses class.')"
   ]
  },
  {
   "cell_type": "code",
   "execution_count": 22,
   "id": "79d2e61f",
   "metadata": {},
   "outputs": [
    {
     "data": {
      "text/html": [
       "<div>\n",
       "<style scoped>\n",
       "    .dataframe tbody tr th:only-of-type {\n",
       "        vertical-align: middle;\n",
       "    }\n",
       "\n",
       "    .dataframe tbody tr th {\n",
       "        vertical-align: top;\n",
       "    }\n",
       "\n",
       "    .dataframe thead th {\n",
       "        text-align: right;\n",
       "    }\n",
       "</style>\n",
       "<table border=\"1\" class=\"dataframe\">\n",
       "  <thead>\n",
       "    <tr style=\"text-align: right;\">\n",
       "      <th></th>\n",
       "      <th>price</th>\n",
       "      <th>area</th>\n",
       "      <th>bedrooms</th>\n",
       "      <th>bathrooms</th>\n",
       "      <th>stories</th>\n",
       "      <th>mainroad</th>\n",
       "      <th>guestroom</th>\n",
       "      <th>basement</th>\n",
       "      <th>hotwaterheating</th>\n",
       "      <th>airconditioning</th>\n",
       "      <th>parking</th>\n",
       "      <th>prefarea</th>\n",
       "      <th>furnishingstatus</th>\n",
       "      <th>price_binned</th>\n",
       "    </tr>\n",
       "  </thead>\n",
       "  <tbody>\n",
       "    <tr>\n",
       "      <th>0</th>\n",
       "      <td>13300000</td>\n",
       "      <td>7420</td>\n",
       "      <td>4</td>\n",
       "      <td>2</td>\n",
       "      <td>3</td>\n",
       "      <td>yes</td>\n",
       "      <td>no</td>\n",
       "      <td>no</td>\n",
       "      <td>no</td>\n",
       "      <td>yes</td>\n",
       "      <td>2</td>\n",
       "      <td>yes</td>\n",
       "      <td>furnished</td>\n",
       "      <td>(10000000, 13300000]</td>\n",
       "    </tr>\n",
       "    <tr>\n",
       "      <th>1</th>\n",
       "      <td>12250000</td>\n",
       "      <td>8960</td>\n",
       "      <td>4</td>\n",
       "      <td>4</td>\n",
       "      <td>4</td>\n",
       "      <td>yes</td>\n",
       "      <td>no</td>\n",
       "      <td>no</td>\n",
       "      <td>no</td>\n",
       "      <td>yes</td>\n",
       "      <td>3</td>\n",
       "      <td>no</td>\n",
       "      <td>furnished</td>\n",
       "      <td>(10000000, 13300000]</td>\n",
       "    </tr>\n",
       "    <tr>\n",
       "      <th>2</th>\n",
       "      <td>12250000</td>\n",
       "      <td>9960</td>\n",
       "      <td>3</td>\n",
       "      <td>2</td>\n",
       "      <td>2</td>\n",
       "      <td>yes</td>\n",
       "      <td>no</td>\n",
       "      <td>yes</td>\n",
       "      <td>no</td>\n",
       "      <td>no</td>\n",
       "      <td>2</td>\n",
       "      <td>yes</td>\n",
       "      <td>semi-furnished</td>\n",
       "      <td>(10000000, 13300000]</td>\n",
       "    </tr>\n",
       "    <tr>\n",
       "      <th>3</th>\n",
       "      <td>12215000</td>\n",
       "      <td>7500</td>\n",
       "      <td>4</td>\n",
       "      <td>2</td>\n",
       "      <td>2</td>\n",
       "      <td>yes</td>\n",
       "      <td>no</td>\n",
       "      <td>yes</td>\n",
       "      <td>no</td>\n",
       "      <td>yes</td>\n",
       "      <td>3</td>\n",
       "      <td>yes</td>\n",
       "      <td>furnished</td>\n",
       "      <td>(10000000, 13300000]</td>\n",
       "    </tr>\n",
       "    <tr>\n",
       "      <th>4</th>\n",
       "      <td>11410000</td>\n",
       "      <td>7420</td>\n",
       "      <td>4</td>\n",
       "      <td>1</td>\n",
       "      <td>2</td>\n",
       "      <td>yes</td>\n",
       "      <td>yes</td>\n",
       "      <td>yes</td>\n",
       "      <td>no</td>\n",
       "      <td>yes</td>\n",
       "      <td>2</td>\n",
       "      <td>no</td>\n",
       "      <td>furnished</td>\n",
       "      <td>(10000000, 13300000]</td>\n",
       "    </tr>\n",
       "  </tbody>\n",
       "</table>\n",
       "</div>"
      ],
      "text/plain": [
       "      price  area bedrooms bathrooms stories mainroad guestroom basement  \\\n",
       "0  13300000  7420        4         2       3      yes        no       no   \n",
       "1  12250000  8960        4         4       4      yes        no       no   \n",
       "2  12250000  9960        3         2       2      yes        no      yes   \n",
       "3  12215000  7500        4         2       2      yes        no      yes   \n",
       "4  11410000  7420        4         1       2      yes       yes      yes   \n",
       "\n",
       "  hotwaterheating airconditioning parking prefarea furnishingstatus  \\\n",
       "0              no             yes       2      yes        furnished   \n",
       "1              no             yes       3       no        furnished   \n",
       "2              no              no       2      yes   semi-furnished   \n",
       "3              no             yes       3      yes        furnished   \n",
       "4              no             yes       2       no        furnished   \n",
       "\n",
       "           price_binned  \n",
       "0  (10000000, 13300000]  \n",
       "1  (10000000, 13300000]  \n",
       "2  (10000000, 13300000]  \n",
       "3  (10000000, 13300000]  \n",
       "4  (10000000, 13300000]  "
      ]
     },
     "execution_count": 22,
     "metadata": {},
     "output_type": "execute_result"
    }
   ],
   "source": [
    "houses.head()"
   ]
  },
  {
   "cell_type": "markdown",
   "id": "86d02bc2",
   "metadata": {},
   "source": [
    "### Variable `area`"
   ]
  },
  {
   "cell_type": "markdown",
   "id": "83ee1bf2-b8d7-4b25-a946-9ef58ba2df44",
   "metadata": {},
   "source": [
    "Now we continue with the second quantitative: the total area of the house in square feet."
   ]
  },
  {
   "cell_type": "code",
   "execution_count": 23,
   "id": "4bbdf5bb",
   "metadata": {},
   "outputs": [
    {
     "data": {
      "text/plain": [
       "count    5.450000e+02\n",
       "mean     4.766729e+06\n",
       "std      1.870440e+06\n",
       "min      1.750000e+06\n",
       "25%      3.430000e+06\n",
       "50%      4.340000e+06\n",
       "75%      5.740000e+06\n",
       "max      1.330000e+07\n",
       "Name: price, dtype: float64"
      ]
     },
     "execution_count": 23,
     "metadata": {},
     "output_type": "execute_result"
    }
   ],
   "source": [
    "houses['price'].describe()"
   ]
  },
  {
   "cell_type": "code",
   "execution_count": 24,
   "id": "87d8b93e",
   "metadata": {},
   "outputs": [
    {
     "name": "stdout",
     "output_type": "stream",
     "text": [
      "The mean of the area variable is:  5150.54128440367\n",
      "\n",
      " ---------------------------------------------------------------------- \n",
      "\n",
      "The first quartile of the area variable is:  3600.0\n",
      "\n",
      " ---------------------------------------------------------------------- \n",
      "\n",
      "The third quartile of the area variable is:  6360.0\n",
      "\n",
      " ---------------------------------------------------------------------- \n",
      "\n",
      "The median of the area variable is:  4600.0\n",
      "\n",
      " ---------------------------------------------------------------------- \n",
      "\n",
      "The minimum value of the area variable is:  1650\n",
      "\n",
      " ---------------------------------------------------------------------- \n",
      "\n",
      "The maximum value of the area variable is:  16200\n",
      "\n",
      " ---------------------------------------------------------------------- \n",
      "\n",
      "The standard deviation of the area variable is:  2170.141022508803 \n",
      "\n"
     ]
    }
   ],
   "source": [
    "print('The mean of the area variable is: ', houses['area'].mean())\n",
    "print('\\n','-'*70,'\\n')\n",
    "print('The first quartile of the area variable is: ', houses['area'].quantile(0.25))\n",
    "print('\\n','-'*70,'\\n')\n",
    "print('The third quartile of the area variable is: ', houses['area'].quantile(0.75))\n",
    "print('\\n','-'*70,'\\n')\n",
    "print('The median of the area variable is: ', houses['area'].median())\n",
    "print('\\n','-'*70,'\\n')\n",
    "print('The minimum value of the area variable is: ', houses['area'].min())\n",
    "print('\\n','-'*70,'\\n')\n",
    "print('The maximum value of the area variable is: ', houses['area'].max())\n",
    "print('\\n','-'*70,'\\n')\n",
    "print('The standard deviation of the area variable is: ', houses['area'].std(),'\\n')"
   ]
  },
  {
   "cell_type": "markdown",
   "id": "ae4f2171",
   "metadata": {},
   "source": [
    "Now, we can observe a table with absolute frequencies of our variables."
   ]
  },
  {
   "cell_type": "code",
   "execution_count": 25,
   "id": "cf5d4002",
   "metadata": {},
   "outputs": [
    {
     "data": {
      "text/plain": [
       "price\n",
       "1750000     3\n",
       "1767150     1\n",
       "1820000     1\n",
       "1855000     1\n",
       "1890000     2\n",
       "           ..\n",
       "10850000    1\n",
       "11410000    1\n",
       "12215000    1\n",
       "12250000    2\n",
       "13300000    1\n",
       "Name: count, Length: 219, dtype: int64"
      ]
     },
     "execution_count": 25,
     "metadata": {},
     "output_type": "execute_result"
    }
   ],
   "source": [
    "houses['price'].value_counts().sort_index()"
   ]
  },
  {
   "cell_type": "markdown",
   "id": "f4db8b9a",
   "metadata": {},
   "source": [
    "In this particular case, it is possible to categorize the variable into three distinct classes, small, medium, and large houses. However, we have reservations about the utility of this categorization for the analysis. If we would have proceed with this categorization, it would be the same process of classifying the variable \"price\"."
   ]
  },
  {
   "cell_type": "markdown",
   "id": "8725f575",
   "metadata": {},
   "source": [
    "We can represent our variable with an histogram, as well as a density plot."
   ]
  },
  {
   "cell_type": "code",
   "execution_count": 26,
   "id": "d061e475",
   "metadata": {},
   "outputs": [
    {
     "name": "stderr",
     "output_type": "stream",
     "text": [
      "C:\\Users\\juanl\\anaconda3\\envs\\IAELPML\\lib\\site-packages\\seaborn\\_oldcore.py:1498: FutureWarning: is_categorical_dtype is deprecated and will be removed in a future version. Use isinstance(dtype, CategoricalDtype) instead\n",
      "  if pd.api.types.is_categorical_dtype(vector):\n",
      "C:\\Users\\juanl\\anaconda3\\envs\\IAELPML\\lib\\site-packages\\seaborn\\_oldcore.py:1119: FutureWarning: use_inf_as_na option is deprecated and will be removed in a future version. Convert inf values to NaN before operating instead.\n",
      "  with pd.option_context('mode.use_inf_as_na', True):\n"
     ]
    },
    {
     "data": {
      "text/plain": [
       "<matplotlib.legend.Legend at 0x23713f12ac0>"
      ]
     },
     "execution_count": 26,
     "metadata": {},
     "output_type": "execute_result"
    },
    {
     "data": {
      "image/png": "[encoded data removed]",
      "text/plain": [
       "<Figure size 640x480 with 1 Axes>"
      ]
     },
     "metadata": {},
     "output_type": "display_data"
    }
   ],
   "source": [
    "dens_plot = sns.histplot(data = houses, x = \"area\", kde = True)\n",
    "dens_plot.lines[0].set_color('red')\n",
    "dens_plot.lines[0].set_linewidth(3)\n",
    "plt.axvline(x = 0.46*1e4, color = 'yellow', linestyle = '--', label = f'Value={0.4}')\n",
    "plt.legend()"
   ]
  },
  {
   "cell_type": "markdown",
   "id": "a09088d4",
   "metadata": {},
   "source": [
    "We can see in the plot how we have a distribution that is slightly right sweked, and similar to a multimodal. The mode is centered at a slightly greater number than 4000 square feet. Additionally, we will check if we can assume that its distribution is normal."
   ]
  },
  {
   "cell_type": "markdown",
   "id": "3bfa2c3d",
   "metadata": {},
   "source": [
    "We will check it with a QQplot. If our variable is normally-distributed, the points should fall on a line."
   ]
  },
  {
   "cell_type": "code",
   "execution_count": 27,
   "id": "ec93da23",
   "metadata": {},
   "outputs": [
    {
     "data": {
      "image/png": "[encoded data removed]",
      "text/plain": [
       "<Figure size 640x480 with 1 Axes>"
      ]
     },
     "metadata": {},
     "output_type": "display_data"
    }
   ],
   "source": [
    "sm.qqplot(houses['area'], line='s')\n",
    "plt.title('QQ plot for area')\n",
    "plt.show()"
   ]
  },
  {
   "cell_type": "markdown",
   "id": "6a6fea8e",
   "metadata": {},
   "source": [
    "Like the variable 'price', we cannot assume that our variable is normally-distributed, since there are a large proportion of the points not falling in the line."
   ]
  },
  {
   "cell_type": "markdown",
   "id": "58ceddba",
   "metadata": {},
   "source": [
    "Finally, we represent our variable with a mix of two graphics: a violinplot and a boxplot."
   ]
  },
  {
   "cell_type": "code",
   "execution_count": 28,
   "id": "b5deb872",
   "metadata": {},
   "outputs": [
    {
     "name": "stderr",
     "output_type": "stream",
     "text": [
      "C:\\Users\\juanl\\anaconda3\\envs\\IAELPML\\lib\\site-packages\\seaborn\\_oldcore.py:1498: FutureWarning: is_categorical_dtype is deprecated and will be removed in a future version. Use isinstance(dtype, CategoricalDtype) instead\n",
      "  if pd.api.types.is_categorical_dtype(vector):\n",
      "C:\\Users\\juanl\\anaconda3\\envs\\IAELPML\\lib\\site-packages\\seaborn\\_oldcore.py:1498: FutureWarning: is_categorical_dtype is deprecated and will be removed in a future version. Use isinstance(dtype, CategoricalDtype) instead\n",
      "  if pd.api.types.is_categorical_dtype(vector):\n"
     ]
    },
    {
     "data": {
      "image/png": "[encoded data removed]",
      "text/plain": [
       "<Figure size 640x480 with 1 Axes>"
      ]
     },
     "metadata": {},
     "output_type": "display_data"
    }
   ],
   "source": [
    "ax = sns.boxplot(x = 'area', data = houses, width = 0.5, color = 'orange', boxprops = dict(alpha = 0.3))\n",
    "ax = sns.violinplot(x = 'area', data = houses, width = 0.3, alpha = 0.3, color = 'tan', inner = None)\n",
    "\n",
    "for violin, alpha in zip(ax.collections[::2], [0.5]):\n",
    "    violin.set_alpha(alpha)"
   ]
  },
  {
   "cell_type": "markdown",
   "id": "c41dd695",
   "metadata": {},
   "source": [
    "We have some outliers at the top of the plot, but not at the bottom, so we will locate them:"
   ]
  },
  {
   "cell_type": "code",
   "execution_count": 29,
   "id": "d60d4b3a",
   "metadata": {},
   "outputs": [
    {
     "name": "stdout",
     "output_type": "stream",
     "text": [
      "Lower and upper outlier limits: -540.0 ,  10500.0\n",
      "We have 12 outliers.\n",
      "The outliers are\n"
     ]
    },
    {
     "data": {
      "text/html": [
       "<div>\n",
       "<style scoped>\n",
       "    .dataframe tbody tr th:only-of-type {\n",
       "        vertical-align: middle;\n",
       "    }\n",
       "\n",
       "    .dataframe tbody tr th {\n",
       "        vertical-align: top;\n",
       "    }\n",
       "\n",
       "    .dataframe thead th {\n",
       "        text-align: right;\n",
       "    }\n",
       "</style>\n",
       "<table border=\"1\" class=\"dataframe\">\n",
       "  <thead>\n",
       "    <tr style=\"text-align: right;\">\n",
       "      <th></th>\n",
       "      <th>price</th>\n",
       "      <th>area</th>\n",
       "      <th>bedrooms</th>\n",
       "      <th>bathrooms</th>\n",
       "      <th>stories</th>\n",
       "      <th>mainroad</th>\n",
       "      <th>guestroom</th>\n",
       "      <th>basement</th>\n",
       "      <th>hotwaterheating</th>\n",
       "      <th>airconditioning</th>\n",
       "      <th>parking</th>\n",
       "      <th>prefarea</th>\n",
       "      <th>furnishingstatus</th>\n",
       "      <th>price_binned</th>\n",
       "    </tr>\n",
       "  </thead>\n",
       "  <tbody>\n",
       "    <tr>\n",
       "      <th>7</th>\n",
       "      <td>10150000</td>\n",
       "      <td>16200</td>\n",
       "      <td>5</td>\n",
       "      <td>3</td>\n",
       "      <td>2</td>\n",
       "      <td>yes</td>\n",
       "      <td>no</td>\n",
       "      <td>no</td>\n",
       "      <td>no</td>\n",
       "      <td>no</td>\n",
       "      <td>0</td>\n",
       "      <td>no</td>\n",
       "      <td>unfurnished</td>\n",
       "      <td>(10000000, 13300000]</td>\n",
       "    </tr>\n",
       "    <tr>\n",
       "      <th>10</th>\n",
       "      <td>9800000</td>\n",
       "      <td>13200</td>\n",
       "      <td>3</td>\n",
       "      <td>1</td>\n",
       "      <td>2</td>\n",
       "      <td>yes</td>\n",
       "      <td>no</td>\n",
       "      <td>yes</td>\n",
       "      <td>no</td>\n",
       "      <td>yes</td>\n",
       "      <td>2</td>\n",
       "      <td>yes</td>\n",
       "      <td>furnished</td>\n",
       "      <td>(7000000, 10000000]</td>\n",
       "    </tr>\n",
       "    <tr>\n",
       "      <th>56</th>\n",
       "      <td>7343000</td>\n",
       "      <td>11440</td>\n",
       "      <td>4</td>\n",
       "      <td>1</td>\n",
       "      <td>2</td>\n",
       "      <td>yes</td>\n",
       "      <td>no</td>\n",
       "      <td>yes</td>\n",
       "      <td>no</td>\n",
       "      <td>no</td>\n",
       "      <td>1</td>\n",
       "      <td>yes</td>\n",
       "      <td>semi-furnished</td>\n",
       "      <td>(7000000, 10000000]</td>\n",
       "    </tr>\n",
       "    <tr>\n",
       "      <th>64</th>\n",
       "      <td>7000000</td>\n",
       "      <td>11175</td>\n",
       "      <td>3</td>\n",
       "      <td>1</td>\n",
       "      <td>1</td>\n",
       "      <td>yes</td>\n",
       "      <td>no</td>\n",
       "      <td>yes</td>\n",
       "      <td>no</td>\n",
       "      <td>yes</td>\n",
       "      <td>1</td>\n",
       "      <td>yes</td>\n",
       "      <td>furnished</td>\n",
       "      <td>(3500000, 7000000]</td>\n",
       "    </tr>\n",
       "    <tr>\n",
       "      <th>66</th>\n",
       "      <td>6930000</td>\n",
       "      <td>13200</td>\n",
       "      <td>2</td>\n",
       "      <td>1</td>\n",
       "      <td>1</td>\n",
       "      <td>yes</td>\n",
       "      <td>no</td>\n",
       "      <td>yes</td>\n",
       "      <td>yes</td>\n",
       "      <td>no</td>\n",
       "      <td>1</td>\n",
       "      <td>no</td>\n",
       "      <td>furnished</td>\n",
       "      <td>(3500000, 7000000]</td>\n",
       "    </tr>\n",
       "    <tr>\n",
       "      <th>69</th>\n",
       "      <td>6790000</td>\n",
       "      <td>12090</td>\n",
       "      <td>4</td>\n",
       "      <td>2</td>\n",
       "      <td>2</td>\n",
       "      <td>yes</td>\n",
       "      <td>no</td>\n",
       "      <td>no</td>\n",
       "      <td>no</td>\n",
       "      <td>no</td>\n",
       "      <td>2</td>\n",
       "      <td>yes</td>\n",
       "      <td>furnished</td>\n",
       "      <td>(3500000, 7000000]</td>\n",
       "    </tr>\n",
       "    <tr>\n",
       "      <th>125</th>\n",
       "      <td>5943000</td>\n",
       "      <td>15600</td>\n",
       "      <td>3</td>\n",
       "      <td>1</td>\n",
       "      <td>1</td>\n",
       "      <td>yes</td>\n",
       "      <td>no</td>\n",
       "      <td>no</td>\n",
       "      <td>no</td>\n",
       "      <td>yes</td>\n",
       "      <td>2</td>\n",
       "      <td>no</td>\n",
       "      <td>semi-furnished</td>\n",
       "      <td>(3500000, 7000000]</td>\n",
       "    </tr>\n",
       "    <tr>\n",
       "      <th>129</th>\n",
       "      <td>5873000</td>\n",
       "      <td>11460</td>\n",
       "      <td>3</td>\n",
       "      <td>1</td>\n",
       "      <td>3</td>\n",
       "      <td>yes</td>\n",
       "      <td>no</td>\n",
       "      <td>no</td>\n",
       "      <td>no</td>\n",
       "      <td>no</td>\n",
       "      <td>2</td>\n",
       "      <td>yes</td>\n",
       "      <td>semi-furnished</td>\n",
       "      <td>(3500000, 7000000]</td>\n",
       "    </tr>\n",
       "    <tr>\n",
       "      <th>186</th>\n",
       "      <td>5110000</td>\n",
       "      <td>11410</td>\n",
       "      <td>2</td>\n",
       "      <td>1</td>\n",
       "      <td>2</td>\n",
       "      <td>yes</td>\n",
       "      <td>no</td>\n",
       "      <td>no</td>\n",
       "      <td>no</td>\n",
       "      <td>no</td>\n",
       "      <td>0</td>\n",
       "      <td>yes</td>\n",
       "      <td>furnished</td>\n",
       "      <td>(3500000, 7000000]</td>\n",
       "    </tr>\n",
       "    <tr>\n",
       "      <th>191</th>\n",
       "      <td>5040000</td>\n",
       "      <td>10700</td>\n",
       "      <td>3</td>\n",
       "      <td>1</td>\n",
       "      <td>2</td>\n",
       "      <td>yes</td>\n",
       "      <td>yes</td>\n",
       "      <td>yes</td>\n",
       "      <td>no</td>\n",
       "      <td>no</td>\n",
       "      <td>0</td>\n",
       "      <td>no</td>\n",
       "      <td>semi-furnished</td>\n",
       "      <td>(3500000, 7000000]</td>\n",
       "    </tr>\n",
       "    <tr>\n",
       "      <th>211</th>\n",
       "      <td>4900000</td>\n",
       "      <td>12900</td>\n",
       "      <td>3</td>\n",
       "      <td>1</td>\n",
       "      <td>1</td>\n",
       "      <td>yes</td>\n",
       "      <td>no</td>\n",
       "      <td>no</td>\n",
       "      <td>no</td>\n",
       "      <td>no</td>\n",
       "      <td>2</td>\n",
       "      <td>no</td>\n",
       "      <td>furnished</td>\n",
       "      <td>(3500000, 7000000]</td>\n",
       "    </tr>\n",
       "    <tr>\n",
       "      <th>403</th>\n",
       "      <td>3500000</td>\n",
       "      <td>12944</td>\n",
       "      <td>3</td>\n",
       "      <td>1</td>\n",
       "      <td>1</td>\n",
       "      <td>yes</td>\n",
       "      <td>no</td>\n",
       "      <td>no</td>\n",
       "      <td>no</td>\n",
       "      <td>no</td>\n",
       "      <td>0</td>\n",
       "      <td>no</td>\n",
       "      <td>unfurnished</td>\n",
       "      <td>(1329000, 3500000]</td>\n",
       "    </tr>\n",
       "  </tbody>\n",
       "</table>\n",
       "</div>"
      ],
      "text/plain": [
       "        price   area bedrooms bathrooms stories mainroad guestroom basement  \\\n",
       "7    10150000  16200        5         3       2      yes        no       no   \n",
       "10    9800000  13200        3         1       2      yes        no      yes   \n",
       "56    7343000  11440        4         1       2      yes        no      yes   \n",
       "64    7000000  11175        3         1       1      yes        no      yes   \n",
       "66    6930000  13200        2         1       1      yes        no      yes   \n",
       "69    6790000  12090        4         2       2      yes        no       no   \n",
       "125   5943000  15600        3         1       1      yes        no       no   \n",
       "129   5873000  11460        3         1       3      yes        no       no   \n",
       "186   5110000  11410        2         1       2      yes        no       no   \n",
       "191   5040000  10700        3         1       2      yes       yes      yes   \n",
       "211   4900000  12900        3         1       1      yes        no       no   \n",
       "403   3500000  12944        3         1       1      yes        no       no   \n",
       "\n",
       "    hotwaterheating airconditioning parking prefarea furnishingstatus  \\\n",
       "7                no              no       0       no      unfurnished   \n",
       "10               no             yes       2      yes        furnished   \n",
       "56               no              no       1      yes   semi-furnished   \n",
       "64               no             yes       1      yes        furnished   \n",
       "66              yes              no       1       no        furnished   \n",
       "69               no              no       2      yes        furnished   \n",
       "125              no             yes       2       no   semi-furnished   \n",
       "129              no              no       2      yes   semi-furnished   \n",
       "186              no              no       0      yes        furnished   \n",
       "191              no              no       0       no   semi-furnished   \n",
       "211              no              no       2       no        furnished   \n",
       "403              no              no       0       no      unfurnished   \n",
       "\n",
       "             price_binned  \n",
       "7    (10000000, 13300000]  \n",
       "10    (7000000, 10000000]  \n",
       "56    (7000000, 10000000]  \n",
       "64     (3500000, 7000000]  \n",
       "66     (3500000, 7000000]  \n",
       "69     (3500000, 7000000]  \n",
       "125    (3500000, 7000000]  \n",
       "129    (3500000, 7000000]  \n",
       "186    (3500000, 7000000]  \n",
       "191    (3500000, 7000000]  \n",
       "211    (3500000, 7000000]  \n",
       "403    (1329000, 3500000]  "
      ]
     },
     "execution_count": 29,
     "metadata": {},
     "output_type": "execute_result"
    }
   ],
   "source": [
    "area_iqr = stats.iqr(houses['area'])\n",
    "area_q1, area_q3 = np.quantile(houses['area'], [0.25, 0.75])\n",
    "\n",
    "cut_low = area_q1 - 1.5 * area_iqr\n",
    "cut_high = area_q3 + 1.5 * area_iqr\n",
    "\n",
    "print(\"Lower and upper outlier limits:\", cut_low, \", \", cut_high)\n",
    "\n",
    "area_outliers = houses.loc[(houses['area'] > cut_high)]\n",
    "print('We have', area_outliers.shape[0], 'outliers.')\n",
    "print(\"The outliers are\")\n",
    "area_outliers\n"
   ]
  },
  {
   "cell_type": "markdown",
   "id": "63c07a8a",
   "metadata": {},
   "source": [
    "### Variable `bedrooms`"
   ]
  },
  {
   "cell_type": "markdown",
   "id": "95f1593d",
   "metadata": {},
   "source": [
    "We continue with this column, the number of bedrooms in the house. We start creating the tables of absolute and relative frequencies for our variable."
   ]
  },
  {
   "cell_type": "code",
   "execution_count": 30,
   "id": "72533cc6",
   "metadata": {},
   "outputs": [
    {
     "name": "stdout",
     "output_type": "stream",
     "text": [
      "count     545\n",
      "unique      6\n",
      "top         3\n",
      "freq      300\n",
      "Name: bedrooms, dtype: int64\n",
      "------------------------------ \n",
      "\n",
      "Absolute Frequency: \n",
      "\n",
      "bedrooms\n",
      "1      2\n",
      "2    136\n",
      "3    300\n",
      "4     95\n",
      "5     10\n",
      "6      2\n",
      "Name: count, dtype: int64\n",
      "------------------------------ \n",
      "\n",
      "Relative Frequency: \n",
      "\n",
      "bedrooms\n",
      "1    0.003670\n",
      "2    0.249541\n",
      "3    0.550459\n",
      "4    0.174312\n",
      "5    0.018349\n",
      "6    0.003670\n",
      "Name: proportion, dtype: float64\n",
      "------------------------------ \n",
      "\n"
     ]
    }
   ],
   "source": [
    "print(houses['bedrooms'].describe())\n",
    "print(\"-\" * 30, \"\\n\")\n",
    "print(\"Absolute Frequency: \\n\")\n",
    "AbsFreq_1 = houses['bedrooms'].value_counts().sort_index()\n",
    "print(AbsFreq_1)\n",
    "print(\"-\" * 30, \"\\n\")\n",
    "print(\"Relative Frequency: \\n\")\n",
    "print(houses['bedrooms'].value_counts(normalize = True).sort_index())\n",
    "print(\"-\" * 30, \"\\n\")"
   ]
  },
  {
   "cell_type": "markdown",
   "id": "73a92ac3-9b6c-4ae6-96e3-6398dc0d24e5",
   "metadata": {},
   "source": [
    "Now, we compute some statistical measures."
   ]
  },
  {
   "cell_type": "code",
   "execution_count": 74,
   "id": "0e85f0a5-77b5-4d61-afb9-0ea3271840b1",
   "metadata": {},
   "outputs": [
    {
     "name": "stdout",
     "output_type": "stream",
     "text": [
      "The mean of the bedrooms variable is:  2.9651376146788992\n",
      "\n",
      " ---------------------------------------------------------------------- \n",
      "\n",
      "The mode of the bedrooms variable is:  3\n",
      "\n",
      " ---------------------------------------------------------------------- \n",
      "\n",
      "The first quartile of the bedrooms variable is:  2\n",
      "\n",
      " ---------------------------------------------------------------------- \n",
      "\n",
      "The third quartile of the bedrooms variable is:  3\n",
      "\n",
      " ---------------------------------------------------------------------- \n",
      "\n",
      "The median of the bedrooms variable is:  3\n",
      "\n",
      " ---------------------------------------------------------------------- \n",
      "\n",
      "The minimum value of the bedrooms variable is:  1\n",
      "\n",
      " ---------------------------------------------------------------------- \n",
      "\n",
      "The maximum value of the bedrooms variable is:  6\n",
      "\n",
      " ---------------------------------------------------------------------- \n",
      "\n",
      "The standard deviation of the bedrooms variable is:  0.7373864268686331 \n",
      "\n"
     ]
    }
   ],
   "source": [
    "mean_1 = (AbsFreq_1.index.astype(int)*AbsFreq_1).sum()/AbsFreq_1.values.sum()\n",
    "print('The mean of the bedrooms variable is: ', mean_1)\n",
    "print('\\n','-'*70,'\\n')\n",
    "print('The mode of the bedrooms variable is: ', houses['bedrooms'].mode().values[0])\n",
    "print('\\n','-'*70,'\\n')\n",
    "print('The first quartile of the bedrooms variable is: ', houses['bedrooms'].sort_values().values[len(houses) // 4])\n",
    "print('\\n','-'*70,'\\n')\n",
    "print('The third quartile of the bedrooms variable is: ', houses['bedrooms'].sort_values().values[3*len(houses) // 4])\n",
    "print('\\n','-'*70,'\\n')\n",
    "median_1 = houses['bedrooms'].sort_values().values[len(houses) // 2]\n",
    "print('The median of the bedrooms variable is: ', median_1)\n",
    "print('\\n','-'*70,'\\n')\n",
    "print('The minimum value of the bedrooms variable is: ', houses['bedrooms'].sort_values().values[0])\n",
    "print('\\n','-'*70,'\\n')\n",
    "print('The maximum value of the bedrooms variable is: ', houses['bedrooms'].sort_values().values[-1])\n",
    "print('\\n','-'*70,'\\n')\n",
    "print('The standard deviation of the bedrooms variable is: ', np.sqrt(((AbsFreq_1.index.astype(int) - mean_1) ** 2 * AbsFreq_1).sum() / AbsFreq_1.sum()),'\\n')"
   ]
  },
  {
   "cell_type": "markdown",
   "id": "3923b4d8",
   "metadata": {},
   "source": [
    "Finally, we represent a barplot showing the relative frequencies, in order to represent the probabilities of the different number of bedrooms.\n"
   ]
  },
  {
   "cell_type": "code",
   "execution_count": 76,
   "id": "4e9e8db8",
   "metadata": {},
   "outputs": [
    {
     "data": {
      "image/png": "[encoded data removed]",
      "text/plain": [
       "<Figure size 640x480 with 1 Axes>"
      ]
     },
     "metadata": {},
     "output_type": "display_data"
    }
   ],
   "source": [
    "RelFreq_1 = houses['bedrooms'].value_counts(normalize = True).sort_index()\n",
    "sns.set()\n",
    "plot = RelFreq_1.plot.bar(rot=0, xlabel='Bedrooms', ylabel ='Proportion')\n",
    "plt.title('Number of Bedrooms Barplot')\n",
    "\n",
    "#Minus 1 because it starts on 1\n",
    "plt.axvline(x=mean_1-1, color='r', linestyle='--', linewidth=2, label='Mean')\n",
    "plt.axvline(x=median_1-1, color='g', linestyle='--', linewidth=2, label='Median')\n",
    "plt.legend()\n",
    "plt.show()"
   ]
  },
  {
   "cell_type": "markdown",
   "id": "cc62a779",
   "metadata": {},
   "source": [
    "We can say that the most common number of bedrooms is 3, since the less often seen number of bedrooms is 1 and 6, which makes sense. Notice that 3 is the median and almost the mean of our variable, so we could expect this result. In the other hand, 1 and 6 bedrooms are the extreme values, so it could be expected too. "
   ]
  },
  {
   "cell_type": "markdown",
   "id": "4d7380be",
   "metadata": {},
   "source": [
    "### Variable `bathrooms`"
   ]
  },
  {
   "cell_type": "markdown",
   "id": "11709260",
   "metadata": {},
   "source": [
    "The next variable to study is `bathrooms`, that indicates the number of bathrooms in the house."
   ]
  },
  {
   "cell_type": "markdown",
   "id": "873a69bc",
   "metadata": {},
   "source": [
    "We create now the tables of absolute and relative frequencies for our variable."
   ]
  },
  {
   "cell_type": "code",
   "execution_count": 33,
   "id": "0c468982",
   "metadata": {},
   "outputs": [
    {
     "name": "stdout",
     "output_type": "stream",
     "text": [
      "count     545\n",
      "unique      4\n",
      "top         1\n",
      "freq      401\n",
      "Name: bathrooms, dtype: int64\n",
      "------------------------------ \n",
      "\n",
      "Absolute Frequency: \n",
      "\n",
      "bathrooms\n",
      "1    401\n",
      "2    133\n",
      "3     10\n",
      "4      1\n",
      "Name: count, dtype: int64\n",
      "------------------------------ \n",
      "\n",
      "Relative Frequency: \n",
      "\n",
      "bathrooms\n",
      "1    0.735780\n",
      "2    0.244037\n",
      "3    0.018349\n",
      "4    0.001835\n",
      "Name: proportion, dtype: float64\n",
      "------------------------------ \n",
      "\n"
     ]
    }
   ],
   "source": [
    "print(houses['bathrooms'].describe())\n",
    "print(\"-\" * 30, \"\\n\")\n",
    "print(\"Absolute Frequency: \\n\")\n",
    "AbsFreq_2 = houses['bathrooms'].value_counts().sort_index()\n",
    "print(AbsFreq_2)\n",
    "print(\"-\" * 30, \"\\n\")\n",
    "print(\"Relative Frequency: \\n\")\n",
    "print(houses['bathrooms'].value_counts(normalize = True).sort_index())\n",
    "print(\"-\" * 30, \"\\n\")"
   ]
  },
  {
   "cell_type": "code",
   "execution_count": 72,
   "id": "de27a92b-5610-486a-b5e8-7f77809c24a6",
   "metadata": {},
   "outputs": [
    {
     "name": "stdout",
     "output_type": "stream",
     "text": [
      "The mean of the bathrooms variable is:  1.2862385321100918\n",
      "\n",
      " ---------------------------------------------------------------------- \n",
      "\n",
      "The mode of the bathrooms variable is:  1\n",
      "\n",
      " ---------------------------------------------------------------------- \n",
      "\n",
      "The first quartile of the bathrooms variable is:  1\n",
      "\n",
      " ---------------------------------------------------------------------- \n",
      "\n",
      "The third quartile of the bathrooms variable is:  2\n",
      "\n",
      " ---------------------------------------------------------------------- \n",
      "\n",
      "The median of the bathrooms variable is:  1\n",
      "\n",
      " ---------------------------------------------------------------------- \n",
      "\n",
      "The minimum value of the bathrooms variable is:  1\n",
      "\n",
      " ---------------------------------------------------------------------- \n",
      "\n",
      "The maximum value of the bathrooms variable is:  4\n",
      "\n",
      " ---------------------------------------------------------------------- \n",
      "\n",
      "The standard deviation of the bathrooms variable is:  0.5020084231005495 \n",
      "\n"
     ]
    }
   ],
   "source": [
    "mean_2 = (AbsFreq_2.index.astype(int)*AbsFreq_2).sum()/AbsFreq_2.values.sum()\n",
    "print('The mean of the bathrooms variable is: ', mean_2)\n",
    "print('\\n','-'*70,'\\n')\n",
    "print('The mode of the bathrooms variable is: ', houses['bathrooms'].mode().values[0])\n",
    "print('\\n','-'*70,'\\n')\n",
    "print('The first quartile of the bathrooms variable is: ', houses['bathrooms'].sort_values().values[len(houses) // 4])\n",
    "print('\\n','-'*70,'\\n')\n",
    "print('The third quartile of the bathrooms variable is: ', houses['bathrooms'].sort_values().values[3*len(houses) // 4])\n",
    "print('\\n','-'*70,'\\n')\n",
    "median_2 = houses['bathrooms'].sort_values().values[len(houses) // 2]\n",
    "print('The median of the bathrooms variable is: ', median_2)\n",
    "print('\\n','-'*70,'\\n')\n",
    "print('The minimum value of the bathrooms variable is: ', houses['bathrooms'].sort_values().values[0])\n",
    "print('\\n','-'*70,'\\n')\n",
    "print('The maximum value of the bathrooms variable is: ', houses['bathrooms'].sort_values().values[-1])\n",
    "print('\\n','-'*70,'\\n')\n",
    "print('The standard deviation of the bathrooms variable is: ', np.sqrt(((AbsFreq_2.index.astype(int) - mean_2) ** 2 * AbsFreq_2).sum() / AbsFreq_2.sum()),'\\n')"
   ]
  },
  {
   "cell_type": "markdown",
   "id": "45ac4838",
   "metadata": {},
   "source": [
    "Finally, we represent a barplot showing the relative frequencies, in order to represent the probabilities of the different number of bathrooms."
   ]
  },
  {
   "cell_type": "code",
   "execution_count": 73,
   "id": "f4748fbb",
   "metadata": {},
   "outputs": [
    {
     "data": {
      "image/png": "[encoded data removed]",
      "text/plain": [
       "<Figure size 640x480 with 1 Axes>"
      ]
     },
     "metadata": {},
     "output_type": "display_data"
    }
   ],
   "source": [
    "RelFreq_2 = houses['bathrooms'].value_counts(normalize = True).sort_index()\n",
    "sns.set()\n",
    "plot = RelFreq_2.plot.bar(rot=0, xlabel='Bathrooms', ylabel ='Proportion')\n",
    "plt.title('Number of Bathrooms Barplot')\n",
    "\n",
    "plt.axvline(x=mean_2-1, color='r', linestyle='--', linewidth=2, label='Mean')\n",
    "plt.axvline(x=median_2-1, color='g', linestyle='--', linewidth=2, label='Median')\n",
    "plt.legend()\n",
    "plt.show()"
   ]
  },
  {
   "cell_type": "markdown",
   "id": "3b8de1b0",
   "metadata": {},
   "source": [
    "We can say that the most common number of bathrooms is 1, since the less often seen number of bathrooms is 4 and 3, which makes sense. "
   ]
  },
  {
   "cell_type": "markdown",
   "id": "a2d03e00",
   "metadata": {},
   "source": [
    "### Variable `stories`"
   ]
  },
  {
   "cell_type": "markdown",
   "id": "c3b5545c",
   "metadata": {},
   "source": [
    "We move on to studying the variable stories, which logically represents the amount of floors/stories in the observed houses."
   ]
  },
  {
   "cell_type": "code",
   "execution_count": 36,
   "id": "6929f28d",
   "metadata": {},
   "outputs": [
    {
     "name": "stdout",
     "output_type": "stream",
     "text": [
      "count     545\n",
      "unique      4\n",
      "top         2\n",
      "freq      238\n",
      "Name: stories, dtype: int64\n",
      "------------------------------ \n",
      "\n",
      "Absolute Frequency: \n",
      "\n",
      "stories\n",
      "1    227\n",
      "2    238\n",
      "3     39\n",
      "4     41\n",
      "Name: count, dtype: int64\n",
      "------------------------------ \n",
      "\n",
      "Relative Frequency: \n",
      "\n",
      "stories\n",
      "1    0.416514\n",
      "2    0.436697\n",
      "3    0.071560\n",
      "4    0.075229\n",
      "Name: proportion, dtype: float64\n",
      "------------------------------ \n",
      "\n"
     ]
    }
   ],
   "source": [
    "print(houses['stories'].describe())\n",
    "print(\"-\" * 30, \"\\n\")\n",
    "print(\"Absolute Frequency: \\n\")\n",
    "AbsFreq_3 = houses['stories'].value_counts().sort_index()\n",
    "print(AbsFreq_3)\n",
    "print(\"-\" * 30, \"\\n\")\n",
    "print(\"Relative Frequency: \\n\")\n",
    "print(houses['stories'].value_counts(normalize = True).sort_index())\n",
    "print(\"-\" * 30, \"\\n\")"
   ]
  },
  {
   "cell_type": "code",
   "execution_count": 65,
   "id": "9ce7d762-d110-42ff-8533-139ba8c59350",
   "metadata": {},
   "outputs": [
    {
     "name": "stdout",
     "output_type": "stream",
     "text": [
      "The mean of the stories variable is:  1.8055045871559634\n",
      "\n",
      " ---------------------------------------------------------------------- \n",
      "\n",
      "The mode of the stories variable is:  2\n",
      "\n",
      " ---------------------------------------------------------------------- \n",
      "\n",
      "The first quartile of the stories variable is:  1\n",
      "\n",
      " ---------------------------------------------------------------------- \n",
      "\n",
      "The third quartile of the stories variable is:  2\n",
      "\n",
      " ---------------------------------------------------------------------- \n",
      "\n",
      "The median of the stories variable is:  2\n",
      "\n",
      " ---------------------------------------------------------------------- \n",
      "\n",
      "The minimum value of the stories variable is:  1\n",
      "\n",
      " ---------------------------------------------------------------------- \n",
      "\n",
      "The maximum value of the stories variable is:  4\n",
      "\n",
      " ---------------------------------------------------------------------- \n",
      "\n",
      "The standard deviation of the stories variable is:  0.8666962328697991 \n",
      "\n"
     ]
    }
   ],
   "source": [
    "mean_3 = (AbsFreq_3.index.astype(int)*AbsFreq_3).sum()/AbsFreq_3.values.sum()\n",
    "print('The mean of the stories variable is: ', mean_3)\n",
    "print('\\n','-'*70,'\\n')\n",
    "print('The mode of the stories variable is: ', houses['stories'].mode().values[0])\n",
    "print('\\n','-'*70,'\\n')\n",
    "print('The first quartile of the stories variable is: ', houses['stories'].sort_values().values[len(houses) // 4])\n",
    "print('\\n','-'*70,'\\n')\n",
    "print('The third quartile of the stories variable is: ', houses['stories'].sort_values().values[3*len(houses) // 4])\n",
    "print('\\n','-'*70,'\\n')\n",
    "median_3 = houses['stories'].sort_values().values[len(houses) // 2]\n",
    "print('The median of the stories variable is: ', median_3)\n",
    "print('\\n','-'*70,'\\n')\n",
    "print('The minimum value of the stories variable is: ', houses['stories'].sort_values().values[0])\n",
    "print('\\n','-'*70,'\\n')\n",
    "print('The maximum value of the stories variable is: ', houses['stories'].sort_values().values[-1])\n",
    "print('\\n','-'*70,'\\n')\n",
    "print('The standard deviation of the stories variable is: ', np.sqrt(((AbsFreq_3.index.astype(int) - mean_3) ** 2 * AbsFreq_3).sum() / AbsFreq_3.sum()),'\\n')"
   ]
  },
  {
   "cell_type": "markdown",
   "id": "051d076c-7d40-4d25-be91-e6534064bcd7",
   "metadata": {},
   "source": [
    "Just like it could be expected, the majority of the houses in the dataset have either 1 or 2 floors. Lets dig into this tendency by plotting some graphics."
   ]
  },
  {
   "cell_type": "markdown",
   "id": "f39419b2-1f68-4e46-aef1-4565445d6a88",
   "metadata": {},
   "source": [
    "As we are doing in the rest of categorical variables, we graphicate a barplot to study the variable. There are other plots, such as the barplot with absolute frequencies or the pieplot, but as we can see, the information obtained from them is the same."
   ]
  },
  {
   "cell_type": "code",
   "execution_count": 71,
   "id": "16e5d0d0",
   "metadata": {},
   "outputs": [
    {
     "data": {
      "image/png": "[encoded data removed]",
      "text/plain": [
       "<Figure size 640x480 with 1 Axes>"
      ]
     },
     "metadata": {},
     "output_type": "display_data"
    },
    {
     "data": {
      "image/png": "[encoded data removed]",
      "text/plain": [
       "<Figure size 640x480 with 1 Axes>"
      ]
     },
     "metadata": {},
     "output_type": "display_data"
    }
   ],
   "source": [
    "RelFreq_3 = houses['stories'].value_counts(normalize = True).sort_index()\n",
    "sns.set()\n",
    "plot = RelFreq_3.plot.bar(rot=0, xlabel='Number of Stories', ylabel ='Proportion')\n",
    "plt.title('Number of Stories Barplot')\n",
    "\n",
    "plt.axvline(x=mean_3-1, color='r', linestyle='--', linewidth=2, label='Mean')\n",
    "plt.axvline(x=median_3-1, color='g', linestyle='--', linewidth=2, label='Median')\n",
    "plt.legend()\n",
    "plt.show()\n",
    "\n",
    "plot = RelFreq_3.plot.pie(rot=0, xlabel='Number of Stories')\n",
    "plt.title('Number of Stories Pie Plot')\n",
    "plt.show()"
   ]
  },
  {
   "cell_type": "markdown",
   "id": "83a4f86b",
   "metadata": {},
   "source": [
    "### Variable `mainroad`"
   ]
  },
  {
   "cell_type": "markdown",
   "id": "f5862fd8",
   "metadata": {},
   "source": [
    "It is a binary variable so it can only take two values: whether the house is connected to the main road (Yes/No)."
   ]
  },
  {
   "cell_type": "markdown",
   "id": "d654973f",
   "metadata": {},
   "source": [
    "First of all, we create the same previous tables of frequencies of our variable."
   ]
  },
  {
   "cell_type": "code",
   "execution_count": 39,
   "id": "401247d6-b044-465d-a24b-35e2f361911b",
   "metadata": {},
   "outputs": [
    {
     "name": "stdout",
     "output_type": "stream",
     "text": [
      "count     545\n",
      "unique      2\n",
      "top       yes\n",
      "freq      468\n",
      "Name: mainroad, dtype: object\n",
      "------------------------------ \n",
      "\n",
      "Absolute Frequency: \n",
      "\n",
      "mainroad\n",
      "no      77\n",
      "yes    468\n",
      "Name: count, dtype: int64\n",
      "------------------------------ \n",
      "\n",
      "Relative Frequency: \n",
      "\n",
      "mainroad\n",
      "no     0.141284\n",
      "yes    0.858716\n",
      "Name: proportion, dtype: float64\n",
      "------------------------------ \n",
      "\n"
     ]
    }
   ],
   "source": [
    "print(houses['mainroad'].describe())\n",
    "print(\"-\" * 30, \"\\n\")\n",
    "print(\"Absolute Frequency: \\n\")\n",
    "print(houses['mainroad'].value_counts().sort_index())\n",
    "print(\"-\" * 30, \"\\n\")\n",
    "print(\"Relative Frequency: \\n\")\n",
    "print(houses['mainroad'].value_counts(normalize = True).sort_index())\n",
    "print(\"-\" * 30, \"\\n\")"
   ]
  },
  {
   "cell_type": "markdown",
   "id": "f9d383fd",
   "metadata": {},
   "source": [
    "Finally, we represent a barplot with the relative frequencies.\n"
   ]
  },
  {
   "cell_type": "code",
   "execution_count": 40,
   "id": "0dca2a0d",
   "metadata": {},
   "outputs": [
    {
     "data": {
      "image/png": "[encoded data removed]",
      "text/plain": [
       "<Figure size 640x480 with 1 Axes>"
      ]
     },
     "metadata": {},
     "output_type": "display_data"
    }
   ],
   "source": [
    "RelFreq_4 = houses['mainroad'].value_counts(normalize = True).sort_index()\n",
    "sns.set()\n",
    "plot = RelFreq_4.plot.bar(rot=0, xlabel='House connected to the Mainroad?', ylabel ='Proportion')\n",
    "plt.title('Mainroad Connection Barplot')\n",
    "plt.show()"
   ]
  },
  {
   "cell_type": "markdown",
   "id": "0c960a12",
   "metadata": {},
   "source": [
    "As a result of our plot, we can affirm that being connected to the mainroad is much more frequent than not being connected to the mainroad."
   ]
  },
  {
   "cell_type": "markdown",
   "id": "ef83eee9",
   "metadata": {},
   "source": [
    "### Variable `guestroom`"
   ]
  },
  {
   "cell_type": "markdown",
   "id": "d81f2d04",
   "metadata": {},
   "source": [
    "It is also a binary variable so it can only take two values: whether the house has a guest room (Yes/No). This column is easy to study, but could be important to predict the increment of the price of a house."
   ]
  },
  {
   "cell_type": "code",
   "execution_count": 41,
   "id": "10ce8d2c-f5f3-4842-bd30-0065277efb87",
   "metadata": {},
   "outputs": [
    {
     "name": "stdout",
     "output_type": "stream",
     "text": [
      "count     545\n",
      "unique      2\n",
      "top        no\n",
      "freq      448\n",
      "Name: guestroom, dtype: object\n",
      "------------------------------ \n",
      "\n",
      "Absolute Frequency: \n",
      "\n",
      "guestroom\n",
      "no     448\n",
      "yes     97\n",
      "Name: count, dtype: int64\n",
      "------------------------------ \n",
      "\n",
      "Relative Frequency: \n",
      "\n",
      "guestroom\n",
      "no     0.822018\n",
      "yes    0.177982\n",
      "Name: proportion, dtype: float64\n",
      "------------------------------ \n",
      "\n"
     ]
    }
   ],
   "source": [
    "print(houses['guestroom'].describe())\n",
    "print(\"-\" * 30, \"\\n\")\n",
    "print(\"Absolute Frequency: \\n\")\n",
    "print(houses['guestroom'].value_counts().sort_index())\n",
    "print(\"-\" * 30, \"\\n\")\n",
    "print(\"Relative Frequency: \\n\")\n",
    "print(houses['guestroom'].value_counts(normalize = True).sort_index())\n",
    "print(\"-\" * 30, \"\\n\")"
   ]
  },
  {
   "cell_type": "markdown",
   "id": "a1ed4dc6",
   "metadata": {},
   "source": [
    "Finally, we represent a barplot with the relative frequencies."
   ]
  },
  {
   "cell_type": "code",
   "execution_count": 42,
   "id": "e8f9dc9f",
   "metadata": {},
   "outputs": [
    {
     "data": {
      "image/png": "[encoded data removed]",
      "text/plain": [
       "<Figure size 640x480 with 1 Axes>"
      ]
     },
     "metadata": {},
     "output_type": "display_data"
    }
   ],
   "source": [
    "RelFreq_5 = houses['guestroom'].value_counts(normalize = True).sort_index()\n",
    "sns.set()\n",
    "plot = RelFreq_5.plot.bar(rot=0, xlabel='House with Guestroom?', ylabel ='Proportion')\n",
    "plt.title('Guestroom Barplot')\n",
    "plt.show()"
   ]
  },
  {
   "cell_type": "markdown",
   "id": "8686c6c5",
   "metadata": {},
   "source": [
    "The next variable to study is going to be `basement`."
   ]
  },
  {
   "cell_type": "markdown",
   "id": "0153e2ff",
   "metadata": {},
   "source": [
    "### Variable `basement`"
   ]
  },
  {
   "cell_type": "markdown",
   "id": "f322c180-f001-4fc0-b842-bfd6ce0eec4a",
   "metadata": {},
   "source": [
    "In this case, the variable basement is binary and, as could be expected, it represents if a house does or does not have a basement. This variable will be of interest when we try to model the price of a given house, as having a basement always increases the value of a house, so this one will probably turn out to be a significant variable for the price."
   ]
  },
  {
   "cell_type": "code",
   "execution_count": 43,
   "id": "7dfa5c05-2581-4911-8d8c-1544fa62d830",
   "metadata": {},
   "outputs": [
    {
     "name": "stdout",
     "output_type": "stream",
     "text": [
      "count     545\n",
      "unique      2\n",
      "top        no\n",
      "freq      354\n",
      "Name: basement, dtype: object\n",
      "------------------------------ \n",
      "\n",
      "Absolute Frequency: \n",
      "\n",
      "basement\n",
      "no     354\n",
      "yes    191\n",
      "Name: count, dtype: int64\n",
      "------------------------------ \n",
      "\n",
      "Relative Frequency: \n",
      "\n",
      "basement\n",
      "no     0.649541\n",
      "yes    0.350459\n",
      "Name: proportion, dtype: float64\n",
      "------------------------------ \n",
      "\n"
     ]
    }
   ],
   "source": [
    "print(houses['basement'].describe())\n",
    "print(\"-\" * 30, \"\\n\")\n",
    "print(\"Absolute Frequency: \\n\")\n",
    "print(houses['basement'].value_counts().sort_index())\n",
    "print(\"-\" * 30, \"\\n\")\n",
    "print(\"Relative Frequency: \\n\")\n",
    "print(houses['basement'].value_counts(normalize = True).sort_index())\n",
    "print(\"-\" * 30, \"\\n\")"
   ]
  },
  {
   "cell_type": "markdown",
   "id": "1d377607-4757-4bb9-9bcb-dcccf04f0819",
   "metadata": {},
   "source": [
    "As we can see, about a 65% of the houses in the dataset do not have a basement. Let´s observe this proportion more appropiately using graphics"
   ]
  },
  {
   "cell_type": "code",
   "execution_count": 44,
   "id": "e0090e58-8c54-415e-954a-363c78b8d009",
   "metadata": {},
   "outputs": [
    {
     "data": {
      "image/png": "[encoded data removed]",
      "text/plain": [
       "<Figure size 640x480 with 1 Axes>"
      ]
     },
     "metadata": {},
     "output_type": "display_data"
    }
   ],
   "source": [
    "RelFreq_6 = houses['basement'].value_counts(normalize = True).sort_index()\n",
    "sns.set()\n",
    "plot = RelFreq_6.plot.bar(rot=0, xlabel='House with Basement?', ylabel ='Proportion')\n",
    "plt.title('Basement variable Barplot')\n",
    "plt.show()"
   ]
  },
  {
   "cell_type": "markdown",
   "id": "b74a098c-7462-49ab-9498-ae7fcaf6e928",
   "metadata": {},
   "source": [
    "### Variable `hotwaterheating`"
   ]
  },
  {
   "cell_type": "markdown",
   "id": "169eb46d-9881-4607-96d4-790067b191bf",
   "metadata": {},
   "source": [
    "The next variable is again binary, and it explains whether a house includes a system to heat water or not. Again, it seems that this variable will be significant once we are trying to predict the price of a house, as having a water-heating system will always increase the value of a house."
   ]
  },
  {
   "cell_type": "code",
   "execution_count": 45,
   "id": "65cd81bc-37a3-4936-9a98-fe99a0e4058e",
   "metadata": {},
   "outputs": [
    {
     "name": "stdout",
     "output_type": "stream",
     "text": [
      "count     545\n",
      "unique      2\n",
      "top        no\n",
      "freq      520\n",
      "Name: hotwaterheating, dtype: object\n",
      "------------------------------ \n",
      "\n",
      "Absolute Frequency: \n",
      "\n",
      "hotwaterheating\n",
      "no     520\n",
      "yes     25\n",
      "Name: count, dtype: int64\n",
      "------------------------------ \n",
      "\n",
      "Relative Frequency: \n",
      "\n",
      "hotwaterheating\n",
      "no     0.954128\n",
      "yes    0.045872\n",
      "Name: proportion, dtype: float64\n",
      "------------------------------ \n",
      "\n"
     ]
    }
   ],
   "source": [
    "print(houses['hotwaterheating'].describe())\n",
    "print(\"-\" * 30, \"\\n\")\n",
    "print(\"Absolute Frequency: \\n\")\n",
    "print(houses['hotwaterheating'].value_counts().sort_index())\n",
    "print(\"-\" * 30, \"\\n\")\n",
    "print(\"Relative Frequency: \\n\")\n",
    "print(houses['hotwaterheating'].value_counts(normalize = True).sort_index())\n",
    "print(\"-\" * 30, \"\\n\")"
   ]
  },
  {
   "cell_type": "code",
   "execution_count": 46,
   "id": "f57f7308-f5ce-4dc7-b9b3-b8427e327b8b",
   "metadata": {},
   "outputs": [
    {
     "data": {
      "image/png": "[encoded data removed]",
      "text/plain": [
       "<Figure size 640x480 with 1 Axes>"
      ]
     },
     "metadata": {},
     "output_type": "display_data"
    }
   ],
   "source": [
    "RelFreq_7 = houses['hotwaterheating'].value_counts(normalize = True).sort_index()\n",
    "sns.set()\n",
    "plot = RelFreq_7.plot.pie(rot=0,ylabel=\"¿House with Water-Heating System?\" )\n",
    "plt.title('Hotwaterheating variable Pie Plot')\n",
    "plt.show()"
   ]
  },
  {
   "cell_type": "markdown",
   "id": "4280c4bd-1f14-47dd-aa71-6e3ad1823f4e",
   "metadata": {},
   "source": [
    "In this case, the previous analysis shows how only about a 4.5% of the houses studied do have a water-heating system."
   ]
  },
  {
   "cell_type": "markdown",
   "id": "42e77ad2-85d3-40ea-a886-1b416262dc6d",
   "metadata": {},
   "source": [
    "### Variable `airconditioning`"
   ]
  },
  {
   "cell_type": "markdown",
   "id": "9f1932ed-3603-4618-9714-1a12c499af9c",
   "metadata": {},
   "source": [
    "The analysis ends up with the variable airconditioning, which, as expected, is a binary variable indicating if a house has an air conditioning system or not."
   ]
  },
  {
   "cell_type": "code",
   "execution_count": 47,
   "id": "14f2961d-a372-4d72-89a6-4fe76c7611eb",
   "metadata": {},
   "outputs": [
    {
     "name": "stdout",
     "output_type": "stream",
     "text": [
      "count     545\n",
      "unique      2\n",
      "top        no\n",
      "freq      373\n",
      "Name: airconditioning, dtype: object\n",
      "------------------------------ \n",
      "\n",
      "Absolute Frequency: \n",
      "\n",
      "airconditioning\n",
      "no     373\n",
      "yes    172\n",
      "Name: count, dtype: int64\n",
      "------------------------------ \n",
      "\n",
      "Relative Frequency: \n",
      "\n",
      "airconditioning\n",
      "no     0.684404\n",
      "yes    0.315596\n",
      "Name: proportion, dtype: float64\n",
      "------------------------------ \n",
      "\n"
     ]
    }
   ],
   "source": [
    "print(houses['airconditioning'].describe())\n",
    "print(\"-\" * 30, \"\\n\")\n",
    "print(\"Absolute Frequency: \\n\")\n",
    "print(houses['airconditioning'].value_counts().sort_index())\n",
    "print(\"-\" * 30, \"\\n\")\n",
    "print(\"Relative Frequency: \\n\")\n",
    "print(houses['airconditioning'].value_counts(normalize = True).sort_index())\n",
    "print(\"-\" * 30, \"\\n\")"
   ]
  },
  {
   "cell_type": "code",
   "execution_count": 48,
   "id": "1889e2c9-bcb1-45b3-a5b1-df9f9795b092",
   "metadata": {},
   "outputs": [
    {
     "data": {
      "image/png": "[encoded data removed]",
      "text/plain": [
       "<Figure size 640x480 with 1 Axes>"
      ]
     },
     "metadata": {},
     "output_type": "display_data"
    }
   ],
   "source": [
    "RelFreq_8 = houses['airconditioning'].value_counts(normalize = True).sort_index()\n",
    "sns.set()\n",
    "plot = RelFreq_8.plot.bar(rot=0, xlabel='House with Air-Conditioning System?', ylabel ='Proportion')\n",
    "plt.title('Airconditioning variable Barplot')\n",
    "plt.show()"
   ]
  },
  {
   "cell_type": "markdown",
   "id": "22c50946-83ee-4fe9-ad19-8f89558ea6aa",
   "metadata": {},
   "source": [
    "As we can see, having an air conditioning system(31.5%) is more likely among the houses in the dataset than having a water-heating system(4.5%), but less likely than having a basement(35%)."
   ]
  },
  {
   "cell_type": "markdown",
   "id": "39620a17",
   "metadata": {},
   "source": [
    "### Variable `parking`"
   ]
  },
  {
   "cell_type": "markdown",
   "id": "116b795d",
   "metadata": {},
   "source": [
    "As we can imagine, this column specifies the number of parking spaces available in the house."
   ]
  },
  {
   "cell_type": "code",
   "execution_count": 49,
   "id": "953ebefc",
   "metadata": {},
   "outputs": [
    {
     "name": "stdout",
     "output_type": "stream",
     "text": [
      "count     545\n",
      "unique      4\n",
      "top         0\n",
      "freq      299\n",
      "Name: parking, dtype: int64\n",
      "------------------------------ \n",
      "\n",
      "Absolute Frequency: \n",
      "\n",
      "parking\n",
      "0    299\n",
      "1    126\n",
      "2    108\n",
      "3     12\n",
      "Name: count, dtype: int64\n",
      "------------------------------ \n",
      "\n",
      "Relative Frequency: \n",
      "\n",
      "parking\n",
      "0    0.548624\n",
      "1    0.231193\n",
      "2    0.198165\n",
      "3    0.022018\n",
      "Name: proportion, dtype: float64\n",
      "------------------------------ \n",
      "\n"
     ]
    }
   ],
   "source": [
    "print(houses['parking'].describe())\n",
    "print(\"-\" * 30, \"\\n\")\n",
    "print(\"Absolute Frequency: \\n\")\n",
    "AbsFreq_4 = houses['parking'].value_counts().sort_index()\n",
    "print(AbsFreq_4)\n",
    "print(\"-\" * 30, \"\\n\")\n",
    "print(\"Relative Frequency: \\n\")\n",
    "print(houses['parking'].value_counts(normalize = True).sort_index())\n",
    "print(\"-\" * 30, \"\\n\")"
   ]
  },
  {
   "cell_type": "markdown",
   "id": "ebd35f54-684e-45ea-821e-64e2982ab6dc",
   "metadata": {},
   "source": [
    "It could be useful to measure some statistical values, such as the mode, median or standard deviation."
   ]
  },
  {
   "cell_type": "code",
   "execution_count": 60,
   "id": "bb2c87f4-3327-4bee-90c2-00406da7cc75",
   "metadata": {},
   "outputs": [
    {
     "name": "stdout",
     "output_type": "stream",
     "text": [
      "The mean of the parking variable is:  0.6935779816513762\n",
      "\n",
      " ---------------------------------------------------------------------- \n",
      "\n",
      "The mode of the parking variable is:  0\n",
      "\n",
      " ---------------------------------------------------------------------- \n",
      "\n",
      "The first quartile of the parking variable is:  0\n",
      "\n",
      " ---------------------------------------------------------------------- \n",
      "\n",
      "The third quartile of the parking variable is:  1\n",
      "\n",
      " ---------------------------------------------------------------------- \n",
      "\n",
      "The median of the parking variable is:  0\n",
      "\n",
      " ---------------------------------------------------------------------- \n",
      "\n",
      "The minimum value of the parking variable is:  0\n",
      "\n",
      " ---------------------------------------------------------------------- \n",
      "\n",
      "The maximum value of the parking variable is:  3\n",
      "\n",
      " ---------------------------------------------------------------------- \n",
      "\n",
      "The standard deviation of the parking variable is:  1.406182316778735 \n",
      "\n"
     ]
    }
   ],
   "source": [
    "mean_4 = (AbsFreq_4.index.astype(int)*AbsFreq_4).sum()/AbsFreq_4.values.sum()\n",
    "print('The mean of the parking variable is: ', mean_4)\n",
    "print('\\n','-'*70,'\\n')\n",
    "print('The mode of the parking variable is: ', houses['parking'].mode().values[0])\n",
    "print('\\n','-'*70,'\\n')\n",
    "print('The first quartile of the parking variable is: ', houses['parking'].sort_values().values[len(houses) // 4])\n",
    "print('\\n','-'*70,'\\n')\n",
    "print('The third quartile of the parking variable is: ', houses['parking'].sort_values().values[3*len(houses) // 4])\n",
    "print('\\n','-'*70,'\\n')\n",
    "median_4 = houses['parking'].sort_values().values[len(houses) // 2]\n",
    "print('The median of the parking variable is: ', median_4)\n",
    "print('\\n','-'*70,'\\n')\n",
    "print('The minimum value of the parking variable is: ', houses['parking'].sort_values().values[0])\n",
    "print('\\n','-'*70,'\\n')\n",
    "print('The maximum value of the parking variable is: ', houses['parking'].sort_values().values[-1])\n",
    "print('\\n','-'*70,'\\n')\n",
    "print('The standard deviation of the parking variable is: ', np.sqrt(((AbsFreq_4.index.astype(int) - mean_3) ** 2 * AbsFreq_4).sum() / AbsFreq_4.sum()),'\\n')"
   ]
  },
  {
   "cell_type": "markdown",
   "id": "b5c7b3cc",
   "metadata": {},
   "source": [
    "We can observe that more than 2 places is really strange, and it is probably directly related with the price of the house. "
   ]
  },
  {
   "cell_type": "code",
   "execution_count": 64,
   "id": "ed10a1c7",
   "metadata": {},
   "outputs": [
    {
     "data": {
      "image/png": "[encoded data removed]",
      "text/plain": [
       "<Figure size 640x480 with 1 Axes>"
      ]
     },
     "metadata": {},
     "output_type": "display_data"
    }
   ],
   "source": [
    "RelFreq_9 = houses['parking'].value_counts(normalize = True).sort_index()\n",
    "sns.set()\n",
    "plot = RelFreq_9.plot.bar(rot=0, xlabel='House with Parking Places?', ylabel ='Proportion')\n",
    "plt.title('Parking Places Barplot')\n",
    "\n",
    "plt.axvline(x=mean_4, color='r', linestyle='--', linewidth=2, label='Mean')\n",
    "plt.axvline(x=median_4, color='g', linestyle='--', linewidth=2, label='Median')\n",
    "plt.legend()\n",
    "\n",
    "plt.show()"
   ]
  },
  {
   "cell_type": "markdown",
   "id": "137bbb0b",
   "metadata": {},
   "source": [
    "We could bin this variable into a dicotomic one that indicates wether the house has parking places or not, but it seems that we could lost valuable information for the next sections. We repeat the process with the last two factor columns."
   ]
  },
  {
   "cell_type": "markdown",
   "id": "736c20a4",
   "metadata": {},
   "source": [
    "### Variable `prefarea`"
   ]
  },
  {
   "cell_type": "markdown",
   "id": "b2a0ea29",
   "metadata": {},
   "source": [
    "This variable informs about the area or neighbourhood, if it is considered as preferred or not."
   ]
  },
  {
   "cell_type": "code",
   "execution_count": 52,
   "id": "e8af0316",
   "metadata": {},
   "outputs": [
    {
     "name": "stdout",
     "output_type": "stream",
     "text": [
      "count     545\n",
      "unique      2\n",
      "top        no\n",
      "freq      417\n",
      "Name: prefarea, dtype: object\n",
      "------------------------------ \n",
      "\n",
      "Absolute Frequency: \n",
      "\n",
      "prefarea\n",
      "no     417\n",
      "yes    128\n",
      "Name: count, dtype: int64\n",
      "------------------------------ \n",
      "\n",
      "Relative Frequency: \n",
      "\n",
      "prefarea\n",
      "no     0.765138\n",
      "yes    0.234862\n",
      "Name: proportion, dtype: float64\n",
      "------------------------------ \n",
      "\n"
     ]
    }
   ],
   "source": [
    "print(houses['prefarea'].describe())\n",
    "print(\"-\" * 30, \"\\n\")\n",
    "print(\"Absolute Frequency: \\n\")\n",
    "print(houses['prefarea'].value_counts().sort_index())\n",
    "print(\"-\" * 30, \"\\n\")\n",
    "print(\"Relative Frequency: \\n\")\n",
    "print(houses['prefarea'].value_counts(normalize = True).sort_index())\n",
    "print(\"-\" * 30, \"\\n\")"
   ]
  },
  {
   "cell_type": "code",
   "execution_count": 53,
   "id": "fbd7d9c9",
   "metadata": {},
   "outputs": [
    {
     "data": {
      "image/png": "[encoded data removed]",
      "text/plain": [
       "<Figure size 640x480 with 1 Axes>"
      ]
     },
     "metadata": {},
     "output_type": "display_data"
    }
   ],
   "source": [
    "RelFreq_10 = houses['prefarea'].value_counts(normalize = True).sort_index()\n",
    "sns.set()\n",
    "plot = RelFreq_10.plot.bar(rot=0, xlabel='House in Preferred Area?', ylabel ='Proportion')\n",
    "plt.title('Preferred Area Barplot')\n",
    "plt.show()"
   ]
  },
  {
   "cell_type": "markdown",
   "id": "e42415b4",
   "metadata": {},
   "source": [
    "The results indicate that the majority of the homes are located in disliked locations, something usual in a random houses data set, due to the percentage of each of them in a city."
   ]
  },
  {
   "cell_type": "markdown",
   "id": "cd73a38c",
   "metadata": {},
   "source": [
    "The last one to study is the column `furnishingstatus`, that reveals information about the furniture availbale in the house."
   ]
  },
  {
   "cell_type": "markdown",
   "id": "d1c00810",
   "metadata": {},
   "source": [
    "### Variable `furnishingstatus`"
   ]
  },
  {
   "cell_type": "markdown",
   "id": "ee518137-9ef0-4509-b670-fc2a695cc498",
   "metadata": {},
   "source": [
    "As it has been done throughout the document, we present the tables of absolute and relative frequencies, along with a specific barplot."
   ]
  },
  {
   "cell_type": "code",
   "execution_count": 54,
   "id": "edda774e",
   "metadata": {},
   "outputs": [
    {
     "name": "stdout",
     "output_type": "stream",
     "text": [
      "count                545\n",
      "unique                 3\n",
      "top       semi-furnished\n",
      "freq                 227\n",
      "Name: furnishingstatus, dtype: object\n",
      "------------------------------ \n",
      "\n",
      "Absolute Frequency: \n",
      "\n",
      "furnishingstatus\n",
      "furnished         140\n",
      "semi-furnished    227\n",
      "unfurnished       178\n",
      "Name: count, dtype: int64\n",
      "------------------------------ \n",
      "\n",
      "Relative Frequency: \n",
      "\n",
      "furnishingstatus\n",
      "furnished         0.256881\n",
      "semi-furnished    0.416514\n",
      "unfurnished       0.326606\n",
      "Name: proportion, dtype: float64\n",
      "------------------------------ \n",
      "\n"
     ]
    }
   ],
   "source": [
    "print(houses['furnishingstatus'].describe())\n",
    "print(\"-\" * 30, \"\\n\")\n",
    "print(\"Absolute Frequency: \\n\")\n",
    "print(houses['furnishingstatus'].value_counts().sort_index())\n",
    "print(\"-\" * 30, \"\\n\")\n",
    "print(\"Relative Frequency: \\n\")\n",
    "print(houses['furnishingstatus'].value_counts(normalize = True).sort_index())\n",
    "print(\"-\" * 30, \"\\n\")"
   ]
  },
  {
   "cell_type": "code",
   "execution_count": 55,
   "id": "f0692851",
   "metadata": {},
   "outputs": [
    {
     "data": {
      "image/png": "[encoded data removed]",
      "text/plain": [
       "<Figure size 640x480 with 1 Axes>"
      ]
     },
     "metadata": {},
     "output_type": "display_data"
    }
   ],
   "source": [
    "RelFreq_11 = houses['furnishingstatus'].value_counts(normalize = True).sort_index()\n",
    "sns.set()\n",
    "plot = RelFreq_11.plot.bar(rot=0, xlabel='House with Furniture?', ylabel ='Proportion')\n",
    "plt.title('Furnishing Status Barplot')\n",
    "plt.show()"
   ]
  },
  {
   "cell_type": "markdown",
   "id": "f62dfe4a",
   "metadata": {},
   "source": [
    "As we can see, the main option are the semi-furnished houses. Behind that, \n",
    "there is a slightly higher percentage ofunfurnished  house, followed by the furnished ones"
   ]
  },
  {
   "cell_type": "markdown",
   "id": "7d35e4d6-086e-4914-b143-d16fee395f0a",
   "metadata": {},
   "source": [
    "## Relation Between Variables"
   ]
  },
  {
   "cell_type": "markdown",
   "id": "ae3ee3df-9e27-415c-bf7d-c82eaed4d4df",
   "metadata": {},
   "source": [
    "### Relation Between the Dependent (`price`) and Independent Variables"
   ]
  },
  {
   "cell_type": "code",
   "execution_count": null,
   "id": "96814539-db3f-4718-98f1-e63f808c9fd1",
   "metadata": {},
   "outputs": [],
   "source": []
  },
  {
   "cell_type": "code",
   "execution_count": null,
   "id": "594b45c7-2a28-4193-832d-02b1a19d3595",
   "metadata": {},
   "outputs": [],
   "source": []
  },
  {
   "cell_type": "code",
   "execution_count": null,
   "id": "ec1b52ed-9eb5-44c6-a145-509e58463683",
   "metadata": {},
   "outputs": [],
   "source": []
  },
  {
   "cell_type": "code",
   "execution_count": null,
   "id": "5f0c19cc-691f-4725-a409-63a862b125c0",
   "metadata": {},
   "outputs": [],
   "source": []
  },
  {
   "cell_type": "markdown",
   "id": "9e41da0d-79f3-4577-874a-e9c61c679971",
   "metadata": {},
   "source": [
    "### Relation Between Independent Variables"
   ]
  },
  {
   "cell_type": "code",
   "execution_count": null,
   "id": "7dc6390d-02b6-410d-8a7c-41f5ea9f1485",
   "metadata": {},
   "outputs": [],
   "source": []
  },
  {
   "cell_type": "code",
   "execution_count": null,
   "id": "f29593ae-27a0-4214-8085-6ebd0e102c49",
   "metadata": {},
   "outputs": [],
   "source": []
  }
 ],
 "metadata": {
  "kernelspec": {
   "display_name": "Python 3 (ipykernel)",
   "language": "python",
   "name": "python3"
  },
  "language_info": {
   "codemirror_mode": {
    "name": "ipython",
    "version": 3
   },
   "file_extension": ".py",
   "mimetype": "text/x-python",
   "name": "python",
   "nbconvert_exporter": "python",
   "pygments_lexer": "ipython3",
   "version": "3.9.17"
  }
 },
 "nbformat": 4,
 "nbformat_minor": 5
}

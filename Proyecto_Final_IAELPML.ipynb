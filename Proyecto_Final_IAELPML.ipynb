{
 "cells": [
  {
   "cell_type": "markdown",
   "id": "9ee5592d-de1a-4a7a-a1d6-5ef43e840432",
   "metadata": {},
   "source": [
    "### <img src='fig/vertical_COMILLAS_COLOR.jpg' style= 'width:70mm'>\n",
    "\n",
    "<h1 style='font-family: Optima;color:#ecac00'>\n",
    "Máster en Big Data. Tecnología y Analítica Avanzada (MBD).\n",
    "<a class=\"tocSkip\">\n",
    "</h1>\n",
    "\n",
    "<h1 style='font-family: Optima;color:#ecac00'>\n",
    "Introducción al Análisis Estadístico con Lenguajes de Programación para Machine Learning (IAELPML). 2023-2024.\n",
    "</h1>\n",
    "\n",
    "\n",
    "<h1 style='font-family: Optima;color:#ecac00'>\n",
    "Assignment\n",
    "<a class=\"tocSkip\">    \n",
    "</h1>  \n",
    "   \n",
    "\n",
    "<h1 style='font-family: Optima;color:red'>\n",
    "Due Date: 2023-11-28\n",
    "<a class=\"tocSkip\">    \n",
    "</h1>  \n"
   ]
  },
  {
   "cell_type": "markdown",
   "id": "4ddb2cc1-cd6b-41ba-bded-caff43c6cbdd",
   "metadata": {},
   "source": [
    "# FINAL COURSE PROJECT"
   ]
  },
  {
   "cell_type": "markdown",
   "id": "cc83d907-2df5-4bb8-8ac0-2137dc123216",
   "metadata": {},
   "source": [
    "# MADE BY: \n",
    "\n",
    "# Manuel Oliveira Pineiro, 202305593@alu.comillas.edu\n",
    "# Alberto García Martín, \n",
    "# Jorge Peralta, \n",
    "# Juan López Segura, 202308780@alu.comillas.edu"
   ]
  },
  {
   "cell_type": "markdown",
   "id": "aea0288d-041e-4efb-b1ae-fac9d18be7b8",
   "metadata": {},
   "source": [
    "# CODE"
   ]
  },
  {
   "cell_type": "markdown",
   "id": "b63ac017-d7ea-4542-9776-6fc44dc3aa4b",
   "metadata": {},
   "source": [
    "## First Steps"
   ]
  },
  {
   "cell_type": "markdown",
   "id": "b89997dc-79de-4d9a-b6b6-831f7b41da98",
   "metadata": {},
   "source": [
    "Before starting, we must import the necessary libraries."
   ]
  },
  {
   "cell_type": "code",
   "execution_count": 2,
   "id": "ea2df08e-d182-425f-b176-7562642847d3",
   "metadata": {},
   "outputs": [],
   "source": [
    "# para nosotros: Solo pongo las que he tenido que usar. Segun necesitemos mas las metemos, pero asi no tenemos 10 de las cuales usamos 4\n",
    "\n",
    "import pandas as pd\n",
    "import numpy as np\n",
    "import seaborn as sns\n",
    "import matplotlib.pyplot as plt\n",
    "import statsmodels.api as sm\n",
    "import scipy.stats as stats\n",
    "\n"
   ]
  },
  {
   "cell_type": "markdown",
   "id": "5abdd393-e231-413a-b762-ca5024a3b460",
   "metadata": {},
   "source": [
    "First of all, we load the dataset into a pandas DataFrame named Housing.csv downloaded from *https://www.kaggle.com/datasets/harishkumardatalab/housing-price-prediction?resource=download*. After that, we take a look at the first 10 rows, shape of the DataFrame and type of columns in order to understand the variables."
   ]
  },
  {
   "cell_type": "code",
   "execution_count": 3,
   "id": "28edbef8-c103-46f7-9af7-f8ba4c4e7b0a",
   "metadata": {},
   "outputs": [
    {
     "data": {
      "text/html": [
       "<div>\n",
       "<style scoped>\n",
       "    .dataframe tbody tr th:only-of-type {\n",
       "        vertical-align: middle;\n",
       "    }\n",
       "\n",
       "    .dataframe tbody tr th {\n",
       "        vertical-align: top;\n",
       "    }\n",
       "\n",
       "    .dataframe thead th {\n",
       "        text-align: right;\n",
       "    }\n",
       "</style>\n",
       "<table border=\"1\" class=\"dataframe\">\n",
       "  <thead>\n",
       "    <tr style=\"text-align: right;\">\n",
       "      <th></th>\n",
       "      <th>price</th>\n",
       "      <th>area</th>\n",
       "      <th>bedrooms</th>\n",
       "      <th>bathrooms</th>\n",
       "      <th>stories</th>\n",
       "      <th>mainroad</th>\n",
       "      <th>guestroom</th>\n",
       "      <th>basement</th>\n",
       "      <th>hotwaterheating</th>\n",
       "      <th>airconditioning</th>\n",
       "      <th>parking</th>\n",
       "      <th>prefarea</th>\n",
       "      <th>furnishingstatus</th>\n",
       "    </tr>\n",
       "  </thead>\n",
       "  <tbody>\n",
       "    <tr>\n",
       "      <th>0</th>\n",
       "      <td>13300000</td>\n",
       "      <td>7420</td>\n",
       "      <td>4</td>\n",
       "      <td>2</td>\n",
       "      <td>3</td>\n",
       "      <td>yes</td>\n",
       "      <td>no</td>\n",
       "      <td>no</td>\n",
       "      <td>no</td>\n",
       "      <td>yes</td>\n",
       "      <td>2</td>\n",
       "      <td>yes</td>\n",
       "      <td>furnished</td>\n",
       "    </tr>\n",
       "    <tr>\n",
       "      <th>1</th>\n",
       "      <td>12250000</td>\n",
       "      <td>8960</td>\n",
       "      <td>4</td>\n",
       "      <td>4</td>\n",
       "      <td>4</td>\n",
       "      <td>yes</td>\n",
       "      <td>no</td>\n",
       "      <td>no</td>\n",
       "      <td>no</td>\n",
       "      <td>yes</td>\n",
       "      <td>3</td>\n",
       "      <td>no</td>\n",
       "      <td>furnished</td>\n",
       "    </tr>\n",
       "    <tr>\n",
       "      <th>2</th>\n",
       "      <td>12250000</td>\n",
       "      <td>9960</td>\n",
       "      <td>3</td>\n",
       "      <td>2</td>\n",
       "      <td>2</td>\n",
       "      <td>yes</td>\n",
       "      <td>no</td>\n",
       "      <td>yes</td>\n",
       "      <td>no</td>\n",
       "      <td>no</td>\n",
       "      <td>2</td>\n",
       "      <td>yes</td>\n",
       "      <td>semi-furnished</td>\n",
       "    </tr>\n",
       "    <tr>\n",
       "      <th>3</th>\n",
       "      <td>12215000</td>\n",
       "      <td>7500</td>\n",
       "      <td>4</td>\n",
       "      <td>2</td>\n",
       "      <td>2</td>\n",
       "      <td>yes</td>\n",
       "      <td>no</td>\n",
       "      <td>yes</td>\n",
       "      <td>no</td>\n",
       "      <td>yes</td>\n",
       "      <td>3</td>\n",
       "      <td>yes</td>\n",
       "      <td>furnished</td>\n",
       "    </tr>\n",
       "    <tr>\n",
       "      <th>4</th>\n",
       "      <td>11410000</td>\n",
       "      <td>7420</td>\n",
       "      <td>4</td>\n",
       "      <td>1</td>\n",
       "      <td>2</td>\n",
       "      <td>yes</td>\n",
       "      <td>yes</td>\n",
       "      <td>yes</td>\n",
       "      <td>no</td>\n",
       "      <td>yes</td>\n",
       "      <td>2</td>\n",
       "      <td>no</td>\n",
       "      <td>furnished</td>\n",
       "    </tr>\n",
       "    <tr>\n",
       "      <th>5</th>\n",
       "      <td>10850000</td>\n",
       "      <td>7500</td>\n",
       "      <td>3</td>\n",
       "      <td>3</td>\n",
       "      <td>1</td>\n",
       "      <td>yes</td>\n",
       "      <td>no</td>\n",
       "      <td>yes</td>\n",
       "      <td>no</td>\n",
       "      <td>yes</td>\n",
       "      <td>2</td>\n",
       "      <td>yes</td>\n",
       "      <td>semi-furnished</td>\n",
       "    </tr>\n",
       "    <tr>\n",
       "      <th>6</th>\n",
       "      <td>10150000</td>\n",
       "      <td>8580</td>\n",
       "      <td>4</td>\n",
       "      <td>3</td>\n",
       "      <td>4</td>\n",
       "      <td>yes</td>\n",
       "      <td>no</td>\n",
       "      <td>no</td>\n",
       "      <td>no</td>\n",
       "      <td>yes</td>\n",
       "      <td>2</td>\n",
       "      <td>yes</td>\n",
       "      <td>semi-furnished</td>\n",
       "    </tr>\n",
       "    <tr>\n",
       "      <th>7</th>\n",
       "      <td>10150000</td>\n",
       "      <td>16200</td>\n",
       "      <td>5</td>\n",
       "      <td>3</td>\n",
       "      <td>2</td>\n",
       "      <td>yes</td>\n",
       "      <td>no</td>\n",
       "      <td>no</td>\n",
       "      <td>no</td>\n",
       "      <td>no</td>\n",
       "      <td>0</td>\n",
       "      <td>no</td>\n",
       "      <td>unfurnished</td>\n",
       "    </tr>\n",
       "    <tr>\n",
       "      <th>8</th>\n",
       "      <td>9870000</td>\n",
       "      <td>8100</td>\n",
       "      <td>4</td>\n",
       "      <td>1</td>\n",
       "      <td>2</td>\n",
       "      <td>yes</td>\n",
       "      <td>yes</td>\n",
       "      <td>yes</td>\n",
       "      <td>no</td>\n",
       "      <td>yes</td>\n",
       "      <td>2</td>\n",
       "      <td>yes</td>\n",
       "      <td>furnished</td>\n",
       "    </tr>\n",
       "    <tr>\n",
       "      <th>9</th>\n",
       "      <td>9800000</td>\n",
       "      <td>5750</td>\n",
       "      <td>3</td>\n",
       "      <td>2</td>\n",
       "      <td>4</td>\n",
       "      <td>yes</td>\n",
       "      <td>yes</td>\n",
       "      <td>no</td>\n",
       "      <td>no</td>\n",
       "      <td>yes</td>\n",
       "      <td>1</td>\n",
       "      <td>yes</td>\n",
       "      <td>unfurnished</td>\n",
       "    </tr>\n",
       "  </tbody>\n",
       "</table>\n",
       "</div>"
      ],
      "text/plain": [
       "      price   area  bedrooms  bathrooms  stories mainroad guestroom basement  \\\n",
       "0  13300000   7420         4          2        3      yes        no       no   \n",
       "1  12250000   8960         4          4        4      yes        no       no   \n",
       "2  12250000   9960         3          2        2      yes        no      yes   \n",
       "3  12215000   7500         4          2        2      yes        no      yes   \n",
       "4  11410000   7420         4          1        2      yes       yes      yes   \n",
       "5  10850000   7500         3          3        1      yes        no      yes   \n",
       "6  10150000   8580         4          3        4      yes        no       no   \n",
       "7  10150000  16200         5          3        2      yes        no       no   \n",
       "8   9870000   8100         4          1        2      yes       yes      yes   \n",
       "9   9800000   5750         3          2        4      yes       yes       no   \n",
       "\n",
       "  hotwaterheating airconditioning  parking prefarea furnishingstatus  \n",
       "0              no             yes        2      yes        furnished  \n",
       "1              no             yes        3       no        furnished  \n",
       "2              no              no        2      yes   semi-furnished  \n",
       "3              no             yes        3      yes        furnished  \n",
       "4              no             yes        2       no        furnished  \n",
       "5              no             yes        2      yes   semi-furnished  \n",
       "6              no             yes        2      yes   semi-furnished  \n",
       "7              no              no        0       no      unfurnished  \n",
       "8              no             yes        2      yes        furnished  \n",
       "9              no             yes        1      yes      unfurnished  "
      ]
     },
     "execution_count": 3,
     "metadata": {},
     "output_type": "execute_result"
    }
   ],
   "source": [
    "houses = pd.read_csv('Data/Housing.csv', sep=\",\", header=0)\n",
    "\n",
    "houses.head(n = 10)"
   ]
  },
  {
   "cell_type": "code",
   "execution_count": 4,
   "id": "332636d8-8722-4d9a-9a37-6a6dc932db41",
   "metadata": {},
   "outputs": [
    {
     "name": "stdout",
     "output_type": "stream",
     "text": [
      "Shape of the DataFrame = \n",
      " (545, 13)\n"
     ]
    }
   ],
   "source": [
    "print(\"Shape of the DataFrame = \\n\", houses.shape)"
   ]
  },
  {
   "cell_type": "code",
   "execution_count": 5,
   "id": "63e8b26f-0498-4c96-88a1-2f5849585a31",
   "metadata": {},
   "outputs": [
    {
     "name": "stdout",
     "output_type": "stream",
     "text": [
      "<class 'pandas.core.frame.DataFrame'>\n",
      "RangeIndex: 545 entries, 0 to 544\n",
      "Data columns (total 13 columns):\n",
      " #   Column            Non-Null Count  Dtype \n",
      "---  ------            --------------  ----- \n",
      " 0   price             545 non-null    int64 \n",
      " 1   area              545 non-null    int64 \n",
      " 2   bedrooms          545 non-null    int64 \n",
      " 3   bathrooms         545 non-null    int64 \n",
      " 4   stories           545 non-null    int64 \n",
      " 5   mainroad          545 non-null    object\n",
      " 6   guestroom         545 non-null    object\n",
      " 7   basement          545 non-null    object\n",
      " 8   hotwaterheating   545 non-null    object\n",
      " 9   airconditioning   545 non-null    object\n",
      " 10  parking           545 non-null    int64 \n",
      " 11  prefarea          545 non-null    object\n",
      " 12  furnishingstatus  545 non-null    object\n",
      "dtypes: int64(6), object(7)\n",
      "memory usage: 55.5+ KB\n"
     ]
    }
   ],
   "source": [
    "houses.info()"
   ]
  },
  {
   "cell_type": "markdown",
   "id": "ca0ade13-c711-4170-85df-41236b0bb0cd",
   "metadata": {},
   "source": [
    "As we can see, the data file is moderately easy to understand, as well as the information that the columns contain. There are 13 different variables, 545 observations, and no missing values. Nonetheless, we are going to check it."
   ]
  },
  {
   "cell_type": "markdown",
   "id": "5e90e4a9-baf1-4384-8284-2d218e81a578",
   "metadata": {},
   "source": [
    "## Missing Data"
   ]
  },
  {
   "cell_type": "markdown",
   "id": "52610f87-8edf-4fce-8b23-de124325308f",
   "metadata": {},
   "source": [
    "The code to eliminate the missing data is really simple, using the code below:"
   ]
  },
  {
   "cell_type": "code",
   "execution_count": 6,
   "id": "cdca4204",
   "metadata": {},
   "outputs": [
    {
     "name": "stdout",
     "output_type": "stream",
     "text": [
      "<class 'pandas.core.frame.DataFrame'>\n",
      "RangeIndex: 545 entries, 0 to 544\n",
      "Data columns (total 13 columns):\n",
      " #   Column            Non-Null Count  Dtype \n",
      "---  ------            --------------  ----- \n",
      " 0   price             545 non-null    int64 \n",
      " 1   area              545 non-null    int64 \n",
      " 2   bedrooms          545 non-null    int64 \n",
      " 3   bathrooms         545 non-null    int64 \n",
      " 4   stories           545 non-null    int64 \n",
      " 5   mainroad          545 non-null    object\n",
      " 6   guestroom         545 non-null    object\n",
      " 7   basement          545 non-null    object\n",
      " 8   hotwaterheating   545 non-null    object\n",
      " 9   airconditioning   545 non-null    object\n",
      " 10  parking           545 non-null    int64 \n",
      " 11  prefarea          545 non-null    object\n",
      " 12  furnishingstatus  545 non-null    object\n",
      "dtypes: int64(6), object(7)\n",
      "memory usage: 55.5+ KB\n"
     ]
    }
   ],
   "source": [
    "houses = houses.dropna()\n",
    "houses.info()"
   ]
  },
  {
   "cell_type": "markdown",
   "id": "977c3cbf-c71b-4e74-8a9b-c49e48075021",
   "metadata": {},
   "source": [
    "Obviously, there are some examples where we would like to assign values, instead of removing the observations, but for our example none of these is necessary."
   ]
  },
  {
   "cell_type": "markdown",
   "id": "eb63db00-42a7-47a3-b283-eedf2d8e2cd9",
   "metadata": {},
   "source": [
    "## Factor Conversion"
   ]
  },
  {
   "cell_type": "markdown",
   "id": "af4d9b2b-bab3-480a-afc1-84aceb94ff7b",
   "metadata": {},
   "source": [
    "The next step is to identify the variables that should be factor due to its values, range, etc. There are some of them (the binaries and the string ones) whose type is designated as object, crearly factors, but maybe some of the *int64* ones go unnoticed."
   ]
  },
  {
   "cell_type": "code",
   "execution_count": 8,
   "id": "2919d59e-b658-4c00-9392-62438b87071d",
   "metadata": {},
   "outputs": [
    {
     "data": {
      "text/html": [
       "<div>\n",
       "<style scoped>\n",
       "    .dataframe tbody tr th:only-of-type {\n",
       "        vertical-align: middle;\n",
       "    }\n",
       "\n",
       "    .dataframe tbody tr th {\n",
       "        vertical-align: top;\n",
       "    }\n",
       "\n",
       "    .dataframe thead th {\n",
       "        text-align: right;\n",
       "    }\n",
       "</style>\n",
       "<table border=\"1\" class=\"dataframe\">\n",
       "  <thead>\n",
       "    <tr style=\"text-align: right;\">\n",
       "      <th></th>\n",
       "      <th>price</th>\n",
       "      <th>area</th>\n",
       "      <th>bedrooms</th>\n",
       "      <th>bathrooms</th>\n",
       "      <th>stories</th>\n",
       "      <th>parking</th>\n",
       "    </tr>\n",
       "  </thead>\n",
       "  <tbody>\n",
       "    <tr>\n",
       "      <th>count</th>\n",
       "      <td>5.450000e+02</td>\n",
       "      <td>545.000000</td>\n",
       "      <td>545.000000</td>\n",
       "      <td>545.000000</td>\n",
       "      <td>545.000000</td>\n",
       "      <td>545.000000</td>\n",
       "    </tr>\n",
       "    <tr>\n",
       "      <th>mean</th>\n",
       "      <td>4.766729e+06</td>\n",
       "      <td>5150.541284</td>\n",
       "      <td>2.965138</td>\n",
       "      <td>1.286239</td>\n",
       "      <td>1.805505</td>\n",
       "      <td>0.693578</td>\n",
       "    </tr>\n",
       "    <tr>\n",
       "      <th>std</th>\n",
       "      <td>1.870440e+06</td>\n",
       "      <td>2170.141023</td>\n",
       "      <td>0.738064</td>\n",
       "      <td>0.502470</td>\n",
       "      <td>0.867492</td>\n",
       "      <td>0.861586</td>\n",
       "    </tr>\n",
       "    <tr>\n",
       "      <th>min</th>\n",
       "      <td>1.750000e+06</td>\n",
       "      <td>1650.000000</td>\n",
       "      <td>1.000000</td>\n",
       "      <td>1.000000</td>\n",
       "      <td>1.000000</td>\n",
       "      <td>0.000000</td>\n",
       "    </tr>\n",
       "    <tr>\n",
       "      <th>25%</th>\n",
       "      <td>3.430000e+06</td>\n",
       "      <td>3600.000000</td>\n",
       "      <td>2.000000</td>\n",
       "      <td>1.000000</td>\n",
       "      <td>1.000000</td>\n",
       "      <td>0.000000</td>\n",
       "    </tr>\n",
       "    <tr>\n",
       "      <th>50%</th>\n",
       "      <td>4.340000e+06</td>\n",
       "      <td>4600.000000</td>\n",
       "      <td>3.000000</td>\n",
       "      <td>1.000000</td>\n",
       "      <td>2.000000</td>\n",
       "      <td>0.000000</td>\n",
       "    </tr>\n",
       "    <tr>\n",
       "      <th>75%</th>\n",
       "      <td>5.740000e+06</td>\n",
       "      <td>6360.000000</td>\n",
       "      <td>3.000000</td>\n",
       "      <td>2.000000</td>\n",
       "      <td>2.000000</td>\n",
       "      <td>1.000000</td>\n",
       "    </tr>\n",
       "    <tr>\n",
       "      <th>max</th>\n",
       "      <td>1.330000e+07</td>\n",
       "      <td>16200.000000</td>\n",
       "      <td>6.000000</td>\n",
       "      <td>4.000000</td>\n",
       "      <td>4.000000</td>\n",
       "      <td>3.000000</td>\n",
       "    </tr>\n",
       "  </tbody>\n",
       "</table>\n",
       "</div>"
      ],
      "text/plain": [
       "              price          area    bedrooms   bathrooms     stories  \\\n",
       "count  5.450000e+02    545.000000  545.000000  545.000000  545.000000   \n",
       "mean   4.766729e+06   5150.541284    2.965138    1.286239    1.805505   \n",
       "std    1.870440e+06   2170.141023    0.738064    0.502470    0.867492   \n",
       "min    1.750000e+06   1650.000000    1.000000    1.000000    1.000000   \n",
       "25%    3.430000e+06   3600.000000    2.000000    1.000000    1.000000   \n",
       "50%    4.340000e+06   4600.000000    3.000000    1.000000    2.000000   \n",
       "75%    5.740000e+06   6360.000000    3.000000    2.000000    2.000000   \n",
       "max    1.330000e+07  16200.000000    6.000000    4.000000    4.000000   \n",
       "\n",
       "          parking  \n",
       "count  545.000000  \n",
       "mean     0.693578  \n",
       "std      0.861586  \n",
       "min      0.000000  \n",
       "25%      0.000000  \n",
       "50%      0.000000  \n",
       "75%      1.000000  \n",
       "max      3.000000  "
      ]
     },
     "execution_count": 8,
     "metadata": {},
     "output_type": "execute_result"
    }
   ],
   "source": [
    "houses.describe()"
   ]
  },
  {
   "cell_type": "markdown",
   "id": "7eeb6fe3-985d-46e1-bfe5-3547c9334952",
   "metadata": {},
   "source": [
    "As we can see, the variables `bedrooms`, `bathrooms`, `stories` and `parking` should be treated as a factor, so we proceed in the cell below."
   ]
  },
  {
   "cell_type": "code",
   "execution_count": 41,
   "id": "5943b9ee-75dc-4189-80cd-356a6a1c2f6a",
   "metadata": {},
   "outputs": [],
   "source": [
    "houses = houses.astype({'bedrooms':'category', 'bathrooms':'category', 'stories':'category', 'parking':'category', \n",
    "                        'mainroad':'category', 'guestroom':'category', 'basement':'category', 'hotwaterheating':'category', \n",
    "                        'airconditioning':'category', 'prefarea':'category', 'furnishingstatus':'category'})"
   ]
  },
  {
   "cell_type": "markdown",
   "id": "921a4dc6-a1db-4d00-a090-c9b6f9432447",
   "metadata": {},
   "source": [
    "Another option:"
   ]
  },
  {
   "cell_type": "code",
   "execution_count": 42,
   "id": "1644d236-fd9a-47d1-bf19-34aed1a5ef6c",
   "metadata": {},
   "outputs": [],
   "source": [
    "# factorCols = houses.select_dtypes(include='object').columns\n",
    "# factorCols\n",
    "#houses.loc[:, factorCols] = houses.loc[:, factorCols].astype('category')"
   ]
  },
  {
   "cell_type": "code",
   "execution_count": 43,
   "id": "bc01d730-ecfe-438a-8195-f46d7fa260a7",
   "metadata": {},
   "outputs": [
    {
     "name": "stdout",
     "output_type": "stream",
     "text": [
      "<class 'pandas.core.frame.DataFrame'>\n",
      "RangeIndex: 545 entries, 0 to 544\n",
      "Data columns (total 13 columns):\n",
      " #   Column            Non-Null Count  Dtype   \n",
      "---  ------            --------------  -----   \n",
      " 0   price             545 non-null    int64   \n",
      " 1   area              545 non-null    int64   \n",
      " 2   bedrooms          545 non-null    category\n",
      " 3   bathrooms         545 non-null    category\n",
      " 4   stories           545 non-null    category\n",
      " 5   mainroad          545 non-null    category\n",
      " 6   guestroom         545 non-null    category\n",
      " 7   basement          545 non-null    category\n",
      " 8   hotwaterheating   545 non-null    category\n",
      " 9   airconditioning   545 non-null    category\n",
      " 10  parking           545 non-null    category\n",
      " 11  prefarea          545 non-null    category\n",
      " 12  furnishingstatus  545 non-null    category\n",
      "dtypes: category(11), int64(2)\n",
      "memory usage: 16.2 KB\n"
     ]
    }
   ],
   "source": [
    "houses.info()"
   ]
  },
  {
   "cell_type": "markdown",
   "id": "9d08fbbe-d40f-4259-ba9f-94725cb79aeb",
   "metadata": {
    "scrolled": true
   },
   "source": [
    "Now that we have our data set prepared, we start with the study of each column."
   ]
  },
  {
   "cell_type": "markdown",
   "id": "2a4e2eee-fba1-4745-9417-d5cfef861a7f",
   "metadata": {},
   "source": [
    "## Detailed Exploratory Analysis"
   ]
  },
  {
   "cell_type": "markdown",
   "id": "62e95d74",
   "metadata": {},
   "source": [
    "### Variable `price`"
   ]
  },
  {
   "cell_type": "markdown",
   "id": "a2567045",
   "metadata": {},
   "source": [
    "As a first approach, we can calculate some statistical measures for our variables."
   ]
  },
  {
   "cell_type": "code",
   "execution_count": 46,
   "id": "b2797814",
   "metadata": {},
   "outputs": [
    {
     "data": {
      "text/plain": [
       "count    5.450000e+02\n",
       "mean     4.766729e+06\n",
       "std      1.870440e+06\n",
       "min      1.750000e+06\n",
       "25%      3.430000e+06\n",
       "50%      4.340000e+06\n",
       "75%      5.740000e+06\n",
       "max      1.330000e+07\n",
       "Name: price, dtype: float64"
      ]
     },
     "execution_count": 46,
     "metadata": {},
     "output_type": "execute_result"
    }
   ],
   "source": [
    "houses['price'].describe()"
   ]
  },
  {
   "cell_type": "code",
   "execution_count": 47,
   "id": "c71797f9",
   "metadata": {},
   "outputs": [
    {
     "name": "stdout",
     "output_type": "stream",
     "text": [
      "The mean of the price variable is:  4766729.247706422\n",
      "\n",
      " ---------------------------------------------------------------------- \n",
      "\n",
      "The first quartile of the price variable is:  3430000.0\n",
      "\n",
      " ---------------------------------------------------------------------- \n",
      "\n",
      "The third quartile of the price variable is:  5740000.0\n",
      "\n",
      " ---------------------------------------------------------------------- \n",
      "\n",
      "The median of the price variable is:  4340000.0\n",
      "\n",
      " ---------------------------------------------------------------------- \n",
      "\n",
      "The minimum value of the price variable is:  1750000\n",
      "\n",
      " ---------------------------------------------------------------------- \n",
      "\n",
      "The maximum value of the price variable is:  13300000\n",
      "\n",
      " ---------------------------------------------------------------------- \n",
      "\n",
      "The standard deviation of the price variable is:  1870439.6156573922 \n",
      "\n"
     ]
    }
   ],
   "source": [
    "print('The mean of the price variable is: ', houses['price'].mean())\n",
    "print('\\n','-'*70,'\\n')\n",
    "print('The first quartile of the price variable is: ', houses['price'].quantile(0.25))\n",
    "print('\\n','-'*70,'\\n')\n",
    "print('The third quartile of the price variable is: ', houses['price'].quantile(0.75))\n",
    "print('\\n','-'*70,'\\n')\n",
    "print('The median of the price variable is: ', houses['price'].median())\n",
    "print('\\n','-'*70,'\\n')\n",
    "print('The minimum value of the price variable is: ', houses['price'].min())\n",
    "print('\\n','-'*70,'\\n')\n",
    "print('The maximum value of the price variable is: ', houses['price'].max())\n",
    "print('\\n','-'*70,'\\n')\n",
    "print('The standard deviation of the price variable is: ', houses['price'].std(),'\\n')"
   ]
  },
  {
   "cell_type": "markdown",
   "id": "f9ade08f",
   "metadata": {},
   "source": [
    "Now, we can observe a table with absolute frequencies of our variables."
   ]
  },
  {
   "cell_type": "code",
   "execution_count": 48,
   "id": "47aeedf5",
   "metadata": {},
   "outputs": [
    {
     "data": {
      "text/plain": [
       "price\n",
       "1750000     3\n",
       "1767150     1\n",
       "1820000     1\n",
       "1855000     1\n",
       "1890000     2\n",
       "           ..\n",
       "10850000    1\n",
       "11410000    1\n",
       "12215000    1\n",
       "12250000    2\n",
       "13300000    1\n",
       "Name: count, Length: 219, dtype: int64"
      ]
     },
     "execution_count": 48,
     "metadata": {},
     "output_type": "execute_result"
    }
   ],
   "source": [
    "houses['price'].value_counts().sort_index()"
   ]
  },
  {
   "cell_type": "markdown",
   "id": "dc2970e5",
   "metadata": {},
   "source": [
    "Our table suggest that we should handle our variable as a continuous one to obtain good graphical results because most values of this variable appear only once in the table."
   ]
  },
  {
   "cell_type": "markdown",
   "id": "e4f72aa9",
   "metadata": {},
   "source": [
    "So, we will define four classes as follows:\n",
    "- $price \\leq 3500000$: cheap houses.\n",
    "- $3500000 < price \\leq 7000000$: medium-price houses.\n",
    "- $7000000 < price \\leq 10000000$: expensive houses.\n",
    "- $10000000 < price $: overpriced houses."
   ]
  },
  {
   "cell_type": "markdown",
   "id": "e4494a8e",
   "metadata": {},
   "source": [
    "Next step is to build our intervals (classes) and check which interval corresponds to each observation."
   ]
  },
  {
   "cell_type": "code",
   "execution_count": 49,
   "id": "a7dd9eb5",
   "metadata": {},
   "outputs": [
    {
     "data": {
      "text/plain": [
       "0      (10000000, 13300000]\n",
       "1      (10000000, 13300000]\n",
       "2      (10000000, 13300000]\n",
       "3      (10000000, 13300000]\n",
       "4      (10000000, 13300000]\n",
       "               ...         \n",
       "540      (1329000, 3500000]\n",
       "541      (1329000, 3500000]\n",
       "542      (1329000, 3500000]\n",
       "543      (1329000, 3500000]\n",
       "544      (1329000, 3500000]\n",
       "Name: price, Length: 545, dtype: category\n",
       "Categories (4, interval[int64, right]): [(1329000, 3500000] < (3500000, 7000000] < (7000000, 10000000] < (10000000, 13300000]]"
      ]
     },
     "execution_count": 49,
     "metadata": {},
     "output_type": "execute_result"
    }
   ],
   "source": [
    "bins = [1329000, 3500000, 7000000, 10000000, 13300000]\n",
    "pd.cut(houses['price'], bins = bins, ordered = True)"
   ]
  },
  {
   "cell_type": "markdown",
   "id": "19245300",
   "metadata": {},
   "source": [
    "We add a column to our dataframe with the interval for each record."
   ]
  },
  {
   "cell_type": "code",
   "execution_count": 50,
   "id": "d2180559",
   "metadata": {},
   "outputs": [
    {
     "data": {
      "text/plain": [
       "price_binned\n",
       "(1329000, 3500000]      158\n",
       "(3500000, 7000000]      323\n",
       "(7000000, 10000000]      56\n",
       "(10000000, 13300000]      8\n",
       "Name: count, dtype: int64"
      ]
     },
     "execution_count": 50,
     "metadata": {},
     "output_type": "execute_result"
    }
   ],
   "source": [
    "houses['price_binned'] = pd.cut(houses['price'], bins = bins, ordered = True)\n",
    "houses['price_binned'].value_counts().sort_index()"
   ]
  },
  {
   "cell_type": "markdown",
   "id": "9e5dab50",
   "metadata": {},
   "source": [
    "Let's check it."
   ]
  },
  {
   "cell_type": "code",
   "execution_count": 51,
   "id": "8c7e607b",
   "metadata": {},
   "outputs": [
    {
     "data": {
      "text/html": [
       "<div>\n",
       "<style scoped>\n",
       "    .dataframe tbody tr th:only-of-type {\n",
       "        vertical-align: middle;\n",
       "    }\n",
       "\n",
       "    .dataframe tbody tr th {\n",
       "        vertical-align: top;\n",
       "    }\n",
       "\n",
       "    .dataframe thead th {\n",
       "        text-align: right;\n",
       "    }\n",
       "</style>\n",
       "<table border=\"1\" class=\"dataframe\">\n",
       "  <thead>\n",
       "    <tr style=\"text-align: right;\">\n",
       "      <th></th>\n",
       "      <th>price</th>\n",
       "      <th>area</th>\n",
       "      <th>bedrooms</th>\n",
       "      <th>bathrooms</th>\n",
       "      <th>stories</th>\n",
       "      <th>mainroad</th>\n",
       "      <th>guestroom</th>\n",
       "      <th>basement</th>\n",
       "      <th>hotwaterheating</th>\n",
       "      <th>airconditioning</th>\n",
       "      <th>parking</th>\n",
       "      <th>prefarea</th>\n",
       "      <th>furnishingstatus</th>\n",
       "      <th>price_binned</th>\n",
       "    </tr>\n",
       "  </thead>\n",
       "  <tbody>\n",
       "    <tr>\n",
       "      <th>0</th>\n",
       "      <td>13300000</td>\n",
       "      <td>7420</td>\n",
       "      <td>4</td>\n",
       "      <td>2</td>\n",
       "      <td>3</td>\n",
       "      <td>yes</td>\n",
       "      <td>no</td>\n",
       "      <td>no</td>\n",
       "      <td>no</td>\n",
       "      <td>yes</td>\n",
       "      <td>2</td>\n",
       "      <td>yes</td>\n",
       "      <td>furnished</td>\n",
       "      <td>(10000000, 13300000]</td>\n",
       "    </tr>\n",
       "    <tr>\n",
       "      <th>1</th>\n",
       "      <td>12250000</td>\n",
       "      <td>8960</td>\n",
       "      <td>4</td>\n",
       "      <td>4</td>\n",
       "      <td>4</td>\n",
       "      <td>yes</td>\n",
       "      <td>no</td>\n",
       "      <td>no</td>\n",
       "      <td>no</td>\n",
       "      <td>yes</td>\n",
       "      <td>3</td>\n",
       "      <td>no</td>\n",
       "      <td>furnished</td>\n",
       "      <td>(10000000, 13300000]</td>\n",
       "    </tr>\n",
       "    <tr>\n",
       "      <th>2</th>\n",
       "      <td>12250000</td>\n",
       "      <td>9960</td>\n",
       "      <td>3</td>\n",
       "      <td>2</td>\n",
       "      <td>2</td>\n",
       "      <td>yes</td>\n",
       "      <td>no</td>\n",
       "      <td>yes</td>\n",
       "      <td>no</td>\n",
       "      <td>no</td>\n",
       "      <td>2</td>\n",
       "      <td>yes</td>\n",
       "      <td>semi-furnished</td>\n",
       "      <td>(10000000, 13300000]</td>\n",
       "    </tr>\n",
       "    <tr>\n",
       "      <th>3</th>\n",
       "      <td>12215000</td>\n",
       "      <td>7500</td>\n",
       "      <td>4</td>\n",
       "      <td>2</td>\n",
       "      <td>2</td>\n",
       "      <td>yes</td>\n",
       "      <td>no</td>\n",
       "      <td>yes</td>\n",
       "      <td>no</td>\n",
       "      <td>yes</td>\n",
       "      <td>3</td>\n",
       "      <td>yes</td>\n",
       "      <td>furnished</td>\n",
       "      <td>(10000000, 13300000]</td>\n",
       "    </tr>\n",
       "    <tr>\n",
       "      <th>4</th>\n",
       "      <td>11410000</td>\n",
       "      <td>7420</td>\n",
       "      <td>4</td>\n",
       "      <td>1</td>\n",
       "      <td>2</td>\n",
       "      <td>yes</td>\n",
       "      <td>yes</td>\n",
       "      <td>yes</td>\n",
       "      <td>no</td>\n",
       "      <td>yes</td>\n",
       "      <td>2</td>\n",
       "      <td>no</td>\n",
       "      <td>furnished</td>\n",
       "      <td>(10000000, 13300000]</td>\n",
       "    </tr>\n",
       "  </tbody>\n",
       "</table>\n",
       "</div>"
      ],
      "text/plain": [
       "      price  area bedrooms bathrooms stories mainroad guestroom basement  \\\n",
       "0  13300000  7420        4         2       3      yes        no       no   \n",
       "1  12250000  8960        4         4       4      yes        no       no   \n",
       "2  12250000  9960        3         2       2      yes        no      yes   \n",
       "3  12215000  7500        4         2       2      yes        no      yes   \n",
       "4  11410000  7420        4         1       2      yes       yes      yes   \n",
       "\n",
       "  hotwaterheating airconditioning parking prefarea furnishingstatus  \\\n",
       "0              no             yes       2      yes        furnished   \n",
       "1              no             yes       3       no        furnished   \n",
       "2              no              no       2      yes   semi-furnished   \n",
       "3              no             yes       3      yes        furnished   \n",
       "4              no             yes       2       no        furnished   \n",
       "\n",
       "           price_binned  \n",
       "0  (10000000, 13300000]  \n",
       "1  (10000000, 13300000]  \n",
       "2  (10000000, 13300000]  \n",
       "3  (10000000, 13300000]  \n",
       "4  (10000000, 13300000]  "
      ]
     },
     "execution_count": 51,
     "metadata": {},
     "output_type": "execute_result"
    }
   ],
   "source": [
    "houses.head()"
   ]
  },
  {
   "cell_type": "markdown",
   "id": "406ce210",
   "metadata": {},
   "source": [
    "We plot now our binned variable with an histogram."
   ]
  },
  {
   "cell_type": "code",
   "execution_count": 54,
   "id": "109de807",
   "metadata": {},
   "outputs": [
    {
     "data": {
      "image/png": "[encoded data removed]",
      "text/plain": [
       "<Figure size 640x480 with 1 Axes>"
      ]
     },
     "metadata": {},
     "output_type": "display_data"
    }
   ],
   "source": [
    "sns.set()\n",
    "plot = houses.hist('price', edgecolor = 'black', linewidth = 1.2, \n",
    "                   grid = False, color = 'tan', bins = bins) \n",
    "\n",
    "plt.xlabel('Price')\n",
    "plt.ylabel('Counts')\n",
    "plt.title('Price Histogram')\n",
    "plt.show()"
   ]
  },
  {
   "cell_type": "markdown",
   "id": "ebbb5df5",
   "metadata": {},
   "source": [
    "As we could expect, medium-priced houses are the most common class, while overpriced houses are less often seen."
   ]
  },
  {
   "cell_type": "markdown",
   "id": "ea8025ae",
   "metadata": {},
   "source": [
    "We can represent our not-binned variable with an histogram, as well as a density plot."
   ]
  },
  {
   "cell_type": "code",
   "execution_count": 57,
   "id": "f0602b2d",
   "metadata": {},
   "outputs": [
    {
     "name": "stderr",
     "output_type": "stream",
     "text": [
      "C:\\Users\\juanl\\anaconda3\\envs\\IAELPML\\lib\\site-packages\\seaborn\\_oldcore.py:1498: FutureWarning: is_categorical_dtype is deprecated and will be removed in a future version. Use isinstance(dtype, CategoricalDtype) instead\n",
      "  if pd.api.types.is_categorical_dtype(vector):\n",
      "C:\\Users\\juanl\\anaconda3\\envs\\IAELPML\\lib\\site-packages\\seaborn\\_oldcore.py:1119: FutureWarning: use_inf_as_na option is deprecated and will be removed in a future version. Convert inf values to NaN before operating instead.\n",
      "  with pd.option_context('mode.use_inf_as_na', True):\n"
     ]
    },
    {
     "data": {
      "text/plain": [
       "<matplotlib.legend.Legend at 0x1fb0e69cc70>"
      ]
     },
     "execution_count": 57,
     "metadata": {},
     "output_type": "execute_result"
    },
    {
     "data": {
      "image/png": "[encoded data removed]",
      "text/plain": [
       "<Figure size 640x480 with 1 Axes>"
      ]
     },
     "metadata": {},
     "output_type": "display_data"
    }
   ],
   "source": [
    "dens_plot = sns.histplot(data = houses, x = 'price', kde = True)\n",
    "dens_plot.lines[0].set_color('red')\n",
    "dens_plot.lines[0].set_linewidth(3)\n",
    "plt.axvline(x = 0.4*1e7, color = 'yellow', linestyle = '--', label = f'Value={0.4}')\n",
    "plt.legend()"
   ]
  },
  {
   "cell_type": "markdown",
   "id": "280008ee",
   "metadata": {},
   "source": [
    "We can see in the plot how we have a unimodal distribution that is slightly right sweked. The mode is centered at a slightly lower number than 0.4 (in terms of 1e7). Additionally, the density curve resembles slightly a Gaussian bell curve, so we will check if we can assume that its distribution is normal."
   ]
  },
  {
   "cell_type": "markdown",
   "id": "fc25bc93",
   "metadata": {},
   "source": [
    "We will check it with a QQplot. If our variable is normally-distributed, the points should fall on a line."
   ]
  },
  {
   "cell_type": "code",
   "execution_count": 51,
   "id": "c3cf3bd5",
   "metadata": {},
   "outputs": [
    {
     "data": {
      "image/png": "[encoded data removed]",
      "text/plain": [
       "<Figure size 640x480 with 1 Axes>"
      ]
     },
     "metadata": {},
     "output_type": "display_data"
    }
   ],
   "source": [
    "sm.qqplot(houses['price'], line='s')\n",
    "plt.title('QQ plot for price')\n",
    "plt.show()"
   ]
  },
  {
   "cell_type": "markdown",
   "id": "43de0487",
   "metadata": {},
   "source": [
    "So, we cannot assume that our variable is normally-distributed, since there are a large proportion of the points not falling in the line."
   ]
  },
  {
   "cell_type": "markdown",
   "id": "7fa0f4d9",
   "metadata": {},
   "source": [
    "Finally, we represent our variable with a mix of two graphics: a violinplot and a boxplot."
   ]
  },
  {
   "cell_type": "code",
   "execution_count": 83,
   "id": "a3348d08",
   "metadata": {},
   "outputs": [
    {
     "name": "stderr",
     "output_type": "stream",
     "text": [
      "C:\\Users\\juanl\\anaconda3\\envs\\IAELPML\\lib\\site-packages\\seaborn\\_oldcore.py:1498: FutureWarning: is_categorical_dtype is deprecated and will be removed in a future version. Use isinstance(dtype, CategoricalDtype) instead\n",
      "  if pd.api.types.is_categorical_dtype(vector):\n",
      "C:\\Users\\juanl\\anaconda3\\envs\\IAELPML\\lib\\site-packages\\seaborn\\_oldcore.py:1498: FutureWarning: is_categorical_dtype is deprecated and will be removed in a future version. Use isinstance(dtype, CategoricalDtype) instead\n",
      "  if pd.api.types.is_categorical_dtype(vector):\n"
     ]
    },
    {
     "data": {
      "image/png": "[encoded data removed]",
      "text/plain": [
       "<Figure size 640x480 with 1 Axes>"
      ]
     },
     "metadata": {},
     "output_type": "display_data"
    }
   ],
   "source": [
    "ax = sns.boxplot(x = 'price', data = houses, width = 0.5, color = 'orange', boxprops = dict(alpha = 0.3))\n",
    "ax = sns.violinplot(x = 'price', data = houses, width = 0.3, alpha = 0.3, color = 'tan', inner = None)\n",
    "\n",
    "for violin, alpha in zip(ax.collections[::2], [0.5]):\n",
    "    violin.set_alpha(alpha)"
   ]
  },
  {
   "cell_type": "markdown",
   "id": "aaac8469",
   "metadata": {},
   "source": [
    "We have some outliers at the top of the plot, but not at the bottom, so we will locate them:"
   ]
  },
  {
   "cell_type": "code",
   "execution_count": 22,
   "id": "c958acad",
   "metadata": {},
   "outputs": [
    {
     "name": "stdout",
     "output_type": "stream",
     "text": [
      "Lower and upper outlier limits: -35000.0 ,  9205000.0\n",
      "The outliers are\n"
     ]
    },
    {
     "data": {
      "text/html": [
       "<div>\n",
       "<style scoped>\n",
       "    .dataframe tbody tr th:only-of-type {\n",
       "        vertical-align: middle;\n",
       "    }\n",
       "\n",
       "    .dataframe tbody tr th {\n",
       "        vertical-align: top;\n",
       "    }\n",
       "\n",
       "    .dataframe thead th {\n",
       "        text-align: right;\n",
       "    }\n",
       "</style>\n",
       "<table border=\"1\" class=\"dataframe\">\n",
       "  <thead>\n",
       "    <tr style=\"text-align: right;\">\n",
       "      <th></th>\n",
       "      <th>price</th>\n",
       "      <th>area</th>\n",
       "      <th>bedrooms</th>\n",
       "      <th>bathrooms</th>\n",
       "      <th>stories</th>\n",
       "      <th>mainroad</th>\n",
       "      <th>guestroom</th>\n",
       "      <th>basement</th>\n",
       "      <th>hotwaterheating</th>\n",
       "      <th>airconditioning</th>\n",
       "      <th>parking</th>\n",
       "      <th>prefarea</th>\n",
       "      <th>furnishingstatus</th>\n",
       "      <th>price_binned</th>\n",
       "    </tr>\n",
       "  </thead>\n",
       "  <tbody>\n",
       "    <tr>\n",
       "      <th>0</th>\n",
       "      <td>13300000</td>\n",
       "      <td>7420</td>\n",
       "      <td>4</td>\n",
       "      <td>2</td>\n",
       "      <td>3</td>\n",
       "      <td>yes</td>\n",
       "      <td>no</td>\n",
       "      <td>no</td>\n",
       "      <td>no</td>\n",
       "      <td>yes</td>\n",
       "      <td>2</td>\n",
       "      <td>yes</td>\n",
       "      <td>furnished</td>\n",
       "      <td>(10000000, 13300000]</td>\n",
       "    </tr>\n",
       "    <tr>\n",
       "      <th>1</th>\n",
       "      <td>12250000</td>\n",
       "      <td>8960</td>\n",
       "      <td>4</td>\n",
       "      <td>4</td>\n",
       "      <td>4</td>\n",
       "      <td>yes</td>\n",
       "      <td>no</td>\n",
       "      <td>no</td>\n",
       "      <td>no</td>\n",
       "      <td>yes</td>\n",
       "      <td>3</td>\n",
       "      <td>no</td>\n",
       "      <td>furnished</td>\n",
       "      <td>(10000000, 13300000]</td>\n",
       "    </tr>\n",
       "    <tr>\n",
       "      <th>2</th>\n",
       "      <td>12250000</td>\n",
       "      <td>9960</td>\n",
       "      <td>3</td>\n",
       "      <td>2</td>\n",
       "      <td>2</td>\n",
       "      <td>yes</td>\n",
       "      <td>no</td>\n",
       "      <td>yes</td>\n",
       "      <td>no</td>\n",
       "      <td>no</td>\n",
       "      <td>2</td>\n",
       "      <td>yes</td>\n",
       "      <td>semi-furnished</td>\n",
       "      <td>(10000000, 13300000]</td>\n",
       "    </tr>\n",
       "    <tr>\n",
       "      <th>3</th>\n",
       "      <td>12215000</td>\n",
       "      <td>7500</td>\n",
       "      <td>4</td>\n",
       "      <td>2</td>\n",
       "      <td>2</td>\n",
       "      <td>yes</td>\n",
       "      <td>no</td>\n",
       "      <td>yes</td>\n",
       "      <td>no</td>\n",
       "      <td>yes</td>\n",
       "      <td>3</td>\n",
       "      <td>yes</td>\n",
       "      <td>furnished</td>\n",
       "      <td>(10000000, 13300000]</td>\n",
       "    </tr>\n",
       "    <tr>\n",
       "      <th>4</th>\n",
       "      <td>11410000</td>\n",
       "      <td>7420</td>\n",
       "      <td>4</td>\n",
       "      <td>1</td>\n",
       "      <td>2</td>\n",
       "      <td>yes</td>\n",
       "      <td>yes</td>\n",
       "      <td>yes</td>\n",
       "      <td>no</td>\n",
       "      <td>yes</td>\n",
       "      <td>2</td>\n",
       "      <td>no</td>\n",
       "      <td>furnished</td>\n",
       "      <td>(10000000, 13300000]</td>\n",
       "    </tr>\n",
       "    <tr>\n",
       "      <th>5</th>\n",
       "      <td>10850000</td>\n",
       "      <td>7500</td>\n",
       "      <td>3</td>\n",
       "      <td>3</td>\n",
       "      <td>1</td>\n",
       "      <td>yes</td>\n",
       "      <td>no</td>\n",
       "      <td>yes</td>\n",
       "      <td>no</td>\n",
       "      <td>yes</td>\n",
       "      <td>2</td>\n",
       "      <td>yes</td>\n",
       "      <td>semi-furnished</td>\n",
       "      <td>(10000000, 13300000]</td>\n",
       "    </tr>\n",
       "    <tr>\n",
       "      <th>6</th>\n",
       "      <td>10150000</td>\n",
       "      <td>8580</td>\n",
       "      <td>4</td>\n",
       "      <td>3</td>\n",
       "      <td>4</td>\n",
       "      <td>yes</td>\n",
       "      <td>no</td>\n",
       "      <td>no</td>\n",
       "      <td>no</td>\n",
       "      <td>yes</td>\n",
       "      <td>2</td>\n",
       "      <td>yes</td>\n",
       "      <td>semi-furnished</td>\n",
       "      <td>(10000000, 13300000]</td>\n",
       "    </tr>\n",
       "    <tr>\n",
       "      <th>7</th>\n",
       "      <td>10150000</td>\n",
       "      <td>16200</td>\n",
       "      <td>5</td>\n",
       "      <td>3</td>\n",
       "      <td>2</td>\n",
       "      <td>yes</td>\n",
       "      <td>no</td>\n",
       "      <td>no</td>\n",
       "      <td>no</td>\n",
       "      <td>no</td>\n",
       "      <td>0</td>\n",
       "      <td>no</td>\n",
       "      <td>unfurnished</td>\n",
       "      <td>(10000000, 13300000]</td>\n",
       "    </tr>\n",
       "    <tr>\n",
       "      <th>8</th>\n",
       "      <td>9870000</td>\n",
       "      <td>8100</td>\n",
       "      <td>4</td>\n",
       "      <td>1</td>\n",
       "      <td>2</td>\n",
       "      <td>yes</td>\n",
       "      <td>yes</td>\n",
       "      <td>yes</td>\n",
       "      <td>no</td>\n",
       "      <td>yes</td>\n",
       "      <td>2</td>\n",
       "      <td>yes</td>\n",
       "      <td>furnished</td>\n",
       "      <td>(7000000, 10000000]</td>\n",
       "    </tr>\n",
       "    <tr>\n",
       "      <th>9</th>\n",
       "      <td>9800000</td>\n",
       "      <td>5750</td>\n",
       "      <td>3</td>\n",
       "      <td>2</td>\n",
       "      <td>4</td>\n",
       "      <td>yes</td>\n",
       "      <td>yes</td>\n",
       "      <td>no</td>\n",
       "      <td>no</td>\n",
       "      <td>yes</td>\n",
       "      <td>1</td>\n",
       "      <td>yes</td>\n",
       "      <td>unfurnished</td>\n",
       "      <td>(7000000, 10000000]</td>\n",
       "    </tr>\n",
       "    <tr>\n",
       "      <th>10</th>\n",
       "      <td>9800000</td>\n",
       "      <td>13200</td>\n",
       "      <td>3</td>\n",
       "      <td>1</td>\n",
       "      <td>2</td>\n",
       "      <td>yes</td>\n",
       "      <td>no</td>\n",
       "      <td>yes</td>\n",
       "      <td>no</td>\n",
       "      <td>yes</td>\n",
       "      <td>2</td>\n",
       "      <td>yes</td>\n",
       "      <td>furnished</td>\n",
       "      <td>(7000000, 10000000]</td>\n",
       "    </tr>\n",
       "    <tr>\n",
       "      <th>11</th>\n",
       "      <td>9681000</td>\n",
       "      <td>6000</td>\n",
       "      <td>4</td>\n",
       "      <td>3</td>\n",
       "      <td>2</td>\n",
       "      <td>yes</td>\n",
       "      <td>yes</td>\n",
       "      <td>yes</td>\n",
       "      <td>yes</td>\n",
       "      <td>no</td>\n",
       "      <td>2</td>\n",
       "      <td>no</td>\n",
       "      <td>semi-furnished</td>\n",
       "      <td>(7000000, 10000000]</td>\n",
       "    </tr>\n",
       "    <tr>\n",
       "      <th>12</th>\n",
       "      <td>9310000</td>\n",
       "      <td>6550</td>\n",
       "      <td>4</td>\n",
       "      <td>2</td>\n",
       "      <td>2</td>\n",
       "      <td>yes</td>\n",
       "      <td>no</td>\n",
       "      <td>no</td>\n",
       "      <td>no</td>\n",
       "      <td>yes</td>\n",
       "      <td>1</td>\n",
       "      <td>yes</td>\n",
       "      <td>semi-furnished</td>\n",
       "      <td>(7000000, 10000000]</td>\n",
       "    </tr>\n",
       "    <tr>\n",
       "      <th>13</th>\n",
       "      <td>9240000</td>\n",
       "      <td>3500</td>\n",
       "      <td>4</td>\n",
       "      <td>2</td>\n",
       "      <td>2</td>\n",
       "      <td>yes</td>\n",
       "      <td>no</td>\n",
       "      <td>no</td>\n",
       "      <td>yes</td>\n",
       "      <td>no</td>\n",
       "      <td>2</td>\n",
       "      <td>no</td>\n",
       "      <td>furnished</td>\n",
       "      <td>(7000000, 10000000]</td>\n",
       "    </tr>\n",
       "    <tr>\n",
       "      <th>14</th>\n",
       "      <td>9240000</td>\n",
       "      <td>7800</td>\n",
       "      <td>3</td>\n",
       "      <td>2</td>\n",
       "      <td>2</td>\n",
       "      <td>yes</td>\n",
       "      <td>no</td>\n",
       "      <td>no</td>\n",
       "      <td>no</td>\n",
       "      <td>no</td>\n",
       "      <td>0</td>\n",
       "      <td>yes</td>\n",
       "      <td>semi-furnished</td>\n",
       "      <td>(7000000, 10000000]</td>\n",
       "    </tr>\n",
       "  </tbody>\n",
       "</table>\n",
       "</div>"
      ],
      "text/plain": [
       "       price   area  bedrooms  bathrooms  stories mainroad guestroom basement  \\\n",
       "0   13300000   7420         4          2        3      yes        no       no   \n",
       "1   12250000   8960         4          4        4      yes        no       no   \n",
       "2   12250000   9960         3          2        2      yes        no      yes   \n",
       "3   12215000   7500         4          2        2      yes        no      yes   \n",
       "4   11410000   7420         4          1        2      yes       yes      yes   \n",
       "5   10850000   7500         3          3        1      yes        no      yes   \n",
       "6   10150000   8580         4          3        4      yes        no       no   \n",
       "7   10150000  16200         5          3        2      yes        no       no   \n",
       "8    9870000   8100         4          1        2      yes       yes      yes   \n",
       "9    9800000   5750         3          2        4      yes       yes       no   \n",
       "10   9800000  13200         3          1        2      yes        no      yes   \n",
       "11   9681000   6000         4          3        2      yes       yes      yes   \n",
       "12   9310000   6550         4          2        2      yes        no       no   \n",
       "13   9240000   3500         4          2        2      yes        no       no   \n",
       "14   9240000   7800         3          2        2      yes        no       no   \n",
       "\n",
       "   hotwaterheating airconditioning  parking prefarea furnishingstatus  \\\n",
       "0               no             yes        2      yes        furnished   \n",
       "1               no             yes        3       no        furnished   \n",
       "2               no              no        2      yes   semi-furnished   \n",
       "3               no             yes        3      yes        furnished   \n",
       "4               no             yes        2       no        furnished   \n",
       "5               no             yes        2      yes   semi-furnished   \n",
       "6               no             yes        2      yes   semi-furnished   \n",
       "7               no              no        0       no      unfurnished   \n",
       "8               no             yes        2      yes        furnished   \n",
       "9               no             yes        1      yes      unfurnished   \n",
       "10              no             yes        2      yes        furnished   \n",
       "11             yes              no        2       no   semi-furnished   \n",
       "12              no             yes        1      yes   semi-furnished   \n",
       "13             yes              no        2       no        furnished   \n",
       "14              no              no        0      yes   semi-furnished   \n",
       "\n",
       "            price_binned  \n",
       "0   (10000000, 13300000]  \n",
       "1   (10000000, 13300000]  \n",
       "2   (10000000, 13300000]  \n",
       "3   (10000000, 13300000]  \n",
       "4   (10000000, 13300000]  \n",
       "5   (10000000, 13300000]  \n",
       "6   (10000000, 13300000]  \n",
       "7   (10000000, 13300000]  \n",
       "8    (7000000, 10000000]  \n",
       "9    (7000000, 10000000]  \n",
       "10   (7000000, 10000000]  \n",
       "11   (7000000, 10000000]  \n",
       "12   (7000000, 10000000]  \n",
       "13   (7000000, 10000000]  \n",
       "14   (7000000, 10000000]  "
      ]
     },
     "execution_count": 22,
     "metadata": {},
     "output_type": "execute_result"
    }
   ],
   "source": [
    "price_iqr = stats.iqr(houses['price'])\n",
    "price_q1, price_q3 = np.quantile(houses['price'], [0.25, 0.75])\n",
    "\n",
    "cut_low = price_q1 - 1.5 * price_iqr\n",
    "cut_high = price_q3 + 1.5 * price_iqr\n",
    "\n",
    "print(\"Lower and upper outlier limits:\", cut_low, \", \", cut_high)\n",
    "\n",
    "price_outliers = houses.loc[(houses['price'] > cut_high)]\n",
    "\n",
    "print(\"The outliers are\")\n",
    "\n",
    "price_outliers"
   ]
  },
  {
   "cell_type": "code",
   "execution_count": 32,
   "id": "41d3a4ce",
   "metadata": {},
   "outputs": [
    {
     "name": "stdout",
     "output_type": "stream",
     "text": [
      "So, we have 15 outliers: 8 are from overpriced houses class and 7 are from expensive houses class.\n"
     ]
    }
   ],
   "source": [
    "print('So, we have', price_outliers.shape[0], 'outliers:',\n",
    "    price_outliers[price_outliers['price'] > 10000000].shape[0],\n",
    "     'are from overpriced houses class and', \n",
    "      price_outliers[price_outliers['price'] <= 10000000].shape[0],\n",
    "     'are from expensive houses class.')"
   ]
  },
  {
   "cell_type": "code",
   "execution_count": 33,
   "id": "8a321f38",
   "metadata": {},
   "outputs": [
    {
     "data": {
      "text/html": [
       "<div>\n",
       "<style scoped>\n",
       "    .dataframe tbody tr th:only-of-type {\n",
       "        vertical-align: middle;\n",
       "    }\n",
       "\n",
       "    .dataframe tbody tr th {\n",
       "        vertical-align: top;\n",
       "    }\n",
       "\n",
       "    .dataframe thead th {\n",
       "        text-align: right;\n",
       "    }\n",
       "</style>\n",
       "<table border=\"1\" class=\"dataframe\">\n",
       "  <thead>\n",
       "    <tr style=\"text-align: right;\">\n",
       "      <th></th>\n",
       "      <th>price</th>\n",
       "      <th>area</th>\n",
       "      <th>bedrooms</th>\n",
       "      <th>bathrooms</th>\n",
       "      <th>stories</th>\n",
       "      <th>mainroad</th>\n",
       "      <th>guestroom</th>\n",
       "      <th>basement</th>\n",
       "      <th>hotwaterheating</th>\n",
       "      <th>airconditioning</th>\n",
       "      <th>parking</th>\n",
       "      <th>prefarea</th>\n",
       "      <th>furnishingstatus</th>\n",
       "      <th>price_binned</th>\n",
       "    </tr>\n",
       "  </thead>\n",
       "  <tbody>\n",
       "    <tr>\n",
       "      <th>0</th>\n",
       "      <td>13300000</td>\n",
       "      <td>7420</td>\n",
       "      <td>4</td>\n",
       "      <td>2</td>\n",
       "      <td>3</td>\n",
       "      <td>yes</td>\n",
       "      <td>no</td>\n",
       "      <td>no</td>\n",
       "      <td>no</td>\n",
       "      <td>yes</td>\n",
       "      <td>2</td>\n",
       "      <td>yes</td>\n",
       "      <td>furnished</td>\n",
       "      <td>(10000000, 13300000]</td>\n",
       "    </tr>\n",
       "    <tr>\n",
       "      <th>1</th>\n",
       "      <td>12250000</td>\n",
       "      <td>8960</td>\n",
       "      <td>4</td>\n",
       "      <td>4</td>\n",
       "      <td>4</td>\n",
       "      <td>yes</td>\n",
       "      <td>no</td>\n",
       "      <td>no</td>\n",
       "      <td>no</td>\n",
       "      <td>yes</td>\n",
       "      <td>3</td>\n",
       "      <td>no</td>\n",
       "      <td>furnished</td>\n",
       "      <td>(10000000, 13300000]</td>\n",
       "    </tr>\n",
       "    <tr>\n",
       "      <th>2</th>\n",
       "      <td>12250000</td>\n",
       "      <td>9960</td>\n",
       "      <td>3</td>\n",
       "      <td>2</td>\n",
       "      <td>2</td>\n",
       "      <td>yes</td>\n",
       "      <td>no</td>\n",
       "      <td>yes</td>\n",
       "      <td>no</td>\n",
       "      <td>no</td>\n",
       "      <td>2</td>\n",
       "      <td>yes</td>\n",
       "      <td>semi-furnished</td>\n",
       "      <td>(10000000, 13300000]</td>\n",
       "    </tr>\n",
       "    <tr>\n",
       "      <th>3</th>\n",
       "      <td>12215000</td>\n",
       "      <td>7500</td>\n",
       "      <td>4</td>\n",
       "      <td>2</td>\n",
       "      <td>2</td>\n",
       "      <td>yes</td>\n",
       "      <td>no</td>\n",
       "      <td>yes</td>\n",
       "      <td>no</td>\n",
       "      <td>yes</td>\n",
       "      <td>3</td>\n",
       "      <td>yes</td>\n",
       "      <td>furnished</td>\n",
       "      <td>(10000000, 13300000]</td>\n",
       "    </tr>\n",
       "    <tr>\n",
       "      <th>4</th>\n",
       "      <td>11410000</td>\n",
       "      <td>7420</td>\n",
       "      <td>4</td>\n",
       "      <td>1</td>\n",
       "      <td>2</td>\n",
       "      <td>yes</td>\n",
       "      <td>yes</td>\n",
       "      <td>yes</td>\n",
       "      <td>no</td>\n",
       "      <td>yes</td>\n",
       "      <td>2</td>\n",
       "      <td>no</td>\n",
       "      <td>furnished</td>\n",
       "      <td>(10000000, 13300000]</td>\n",
       "    </tr>\n",
       "  </tbody>\n",
       "</table>\n",
       "</div>"
      ],
      "text/plain": [
       "      price  area  bedrooms  bathrooms  stories mainroad guestroom basement  \\\n",
       "0  13300000  7420         4          2        3      yes        no       no   \n",
       "1  12250000  8960         4          4        4      yes        no       no   \n",
       "2  12250000  9960         3          2        2      yes        no      yes   \n",
       "3  12215000  7500         4          2        2      yes        no      yes   \n",
       "4  11410000  7420         4          1        2      yes       yes      yes   \n",
       "\n",
       "  hotwaterheating airconditioning  parking prefarea furnishingstatus  \\\n",
       "0              no             yes        2      yes        furnished   \n",
       "1              no             yes        3       no        furnished   \n",
       "2              no              no        2      yes   semi-furnished   \n",
       "3              no             yes        3      yes        furnished   \n",
       "4              no             yes        2       no        furnished   \n",
       "\n",
       "           price_binned  \n",
       "0  (10000000, 13300000]  \n",
       "1  (10000000, 13300000]  \n",
       "2  (10000000, 13300000]  \n",
       "3  (10000000, 13300000]  \n",
       "4  (10000000, 13300000]  "
      ]
     },
     "execution_count": 33,
     "metadata": {},
     "output_type": "execute_result"
    }
   ],
   "source": [
    "houses.head()"
   ]
  },
  {
   "cell_type": "markdown",
   "id": "ea4af061",
   "metadata": {},
   "source": [
    "### Variable `bedrooms`"
   ]
  },
  {
   "cell_type": "markdown",
   "id": "5d8a7e5d",
   "metadata": {},
   "source": [
    "We continue with this column, calculating some statistical measures for our variable."
   ]
  },
  {
   "cell_type": "code",
   "execution_count": 80,
   "id": "c6d8d3f4",
   "metadata": {},
   "outputs": [
    {
     "name": "stdout",
     "output_type": "stream",
     "text": [
      "\n",
      " ---------------------------------------------------------------------- \n",
      "\n",
      "\n",
      " ---------------------------------------------------------------------- \n",
      "\n",
      "\n",
      " ---------------------------------------------------------------------- \n",
      "\n",
      "\n",
      " ---------------------------------------------------------------------- \n",
      "\n"
     ]
    },
    {
     "ename": "TypeError",
     "evalue": "Categorical is not ordered for operation min\nyou can use .as_ordered() to change the Categorical to an ordered one\n",
     "output_type": "error",
     "traceback": [
      "\u001b[1;31m---------------------------------------------------------------------------\u001b[0m",
      "\u001b[1;31mTypeError\u001b[0m                                 Traceback (most recent call last)",
      "Cell \u001b[1;32mIn[80], line 9\u001b[0m\n\u001b[0;32m      7\u001b[0m \u001b[38;5;66;03m#print('The median of the bedrooms variable is: ', houses['bedrooms'].median())\u001b[39;00m\n\u001b[0;32m      8\u001b[0m \u001b[38;5;28mprint\u001b[39m(\u001b[38;5;124m'\u001b[39m\u001b[38;5;130;01m\\n\u001b[39;00m\u001b[38;5;124m'\u001b[39m,\u001b[38;5;124m'\u001b[39m\u001b[38;5;124m-\u001b[39m\u001b[38;5;124m'\u001b[39m\u001b[38;5;241m*\u001b[39m\u001b[38;5;241m70\u001b[39m,\u001b[38;5;124m'\u001b[39m\u001b[38;5;130;01m\\n\u001b[39;00m\u001b[38;5;124m'\u001b[39m)\n\u001b[1;32m----> 9\u001b[0m \u001b[38;5;28mprint\u001b[39m(\u001b[38;5;124m'\u001b[39m\u001b[38;5;124mThe minimum value of the bedrooms variable is: \u001b[39m\u001b[38;5;124m'\u001b[39m, \u001b[43mhouses\u001b[49m\u001b[43m[\u001b[49m\u001b[38;5;124;43m'\u001b[39;49m\u001b[38;5;124;43mbedrooms\u001b[39;49m\u001b[38;5;124;43m'\u001b[39;49m\u001b[43m]\u001b[49m\u001b[38;5;241;43m.\u001b[39;49m\u001b[43mmin\u001b[49m\u001b[43m(\u001b[49m\u001b[43m)\u001b[49m)\n\u001b[0;32m     10\u001b[0m \u001b[38;5;28mprint\u001b[39m(\u001b[38;5;124m'\u001b[39m\u001b[38;5;130;01m\\n\u001b[39;00m\u001b[38;5;124m'\u001b[39m,\u001b[38;5;124m'\u001b[39m\u001b[38;5;124m-\u001b[39m\u001b[38;5;124m'\u001b[39m\u001b[38;5;241m*\u001b[39m\u001b[38;5;241m70\u001b[39m,\u001b[38;5;124m'\u001b[39m\u001b[38;5;130;01m\\n\u001b[39;00m\u001b[38;5;124m'\u001b[39m)\n\u001b[0;32m     11\u001b[0m \u001b[38;5;28mprint\u001b[39m(\u001b[38;5;124m'\u001b[39m\u001b[38;5;124mThe maximum value of the bedrooms variable is: \u001b[39m\u001b[38;5;124m'\u001b[39m, houses[\u001b[38;5;124m'\u001b[39m\u001b[38;5;124mbedrooms\u001b[39m\u001b[38;5;124m'\u001b[39m]\u001b[38;5;241m.\u001b[39mmax())\n",
      "File \u001b[1;32m~\\anaconda3\\envs\\IAELPML\\lib\\site-packages\\pandas\\core\\series.py:6184\u001b[0m, in \u001b[0;36mSeries.min\u001b[1;34m(self, axis, skipna, numeric_only, **kwargs)\u001b[0m\n\u001b[0;32m   6176\u001b[0m \u001b[38;5;129m@doc\u001b[39m(make_doc(\u001b[38;5;124m\"\u001b[39m\u001b[38;5;124mmin\u001b[39m\u001b[38;5;124m\"\u001b[39m, ndim\u001b[38;5;241m=\u001b[39m\u001b[38;5;241m1\u001b[39m))\n\u001b[0;32m   6177\u001b[0m \u001b[38;5;28;01mdef\u001b[39;00m \u001b[38;5;21mmin\u001b[39m(\n\u001b[0;32m   6178\u001b[0m     \u001b[38;5;28mself\u001b[39m,\n\u001b[1;32m   (...)\u001b[0m\n\u001b[0;32m   6182\u001b[0m     \u001b[38;5;241m*\u001b[39m\u001b[38;5;241m*\u001b[39mkwargs,\n\u001b[0;32m   6183\u001b[0m ):\n\u001b[1;32m-> 6184\u001b[0m     \u001b[38;5;28;01mreturn\u001b[39;00m NDFrame\u001b[38;5;241m.\u001b[39mmin(\u001b[38;5;28mself\u001b[39m, axis, skipna, numeric_only, \u001b[38;5;241m*\u001b[39m\u001b[38;5;241m*\u001b[39mkwargs)\n",
      "File \u001b[1;32m~\\anaconda3\\envs\\IAELPML\\lib\\site-packages\\pandas\\core\\generic.py:11937\u001b[0m, in \u001b[0;36mNDFrame.min\u001b[1;34m(self, axis, skipna, numeric_only, **kwargs)\u001b[0m\n\u001b[0;32m  11930\u001b[0m \u001b[38;5;28;01mdef\u001b[39;00m \u001b[38;5;21mmin\u001b[39m(\n\u001b[0;32m  11931\u001b[0m     \u001b[38;5;28mself\u001b[39m,\n\u001b[0;32m  11932\u001b[0m     axis: Axis \u001b[38;5;241m|\u001b[39m \u001b[38;5;28;01mNone\u001b[39;00m \u001b[38;5;241m=\u001b[39m \u001b[38;5;241m0\u001b[39m,\n\u001b[1;32m   (...)\u001b[0m\n\u001b[0;32m  11935\u001b[0m     \u001b[38;5;241m*\u001b[39m\u001b[38;5;241m*\u001b[39mkwargs,\n\u001b[0;32m  11936\u001b[0m ):\n\u001b[1;32m> 11937\u001b[0m     \u001b[38;5;28;01mreturn\u001b[39;00m \u001b[38;5;28mself\u001b[39m\u001b[38;5;241m.\u001b[39m_stat_function(\n\u001b[0;32m  11938\u001b[0m         \u001b[38;5;124m\"\u001b[39m\u001b[38;5;124mmin\u001b[39m\u001b[38;5;124m\"\u001b[39m,\n\u001b[0;32m  11939\u001b[0m         nanops\u001b[38;5;241m.\u001b[39mnanmin,\n\u001b[0;32m  11940\u001b[0m         axis,\n\u001b[0;32m  11941\u001b[0m         skipna,\n\u001b[0;32m  11942\u001b[0m         numeric_only,\n\u001b[0;32m  11943\u001b[0m         \u001b[38;5;241m*\u001b[39m\u001b[38;5;241m*\u001b[39mkwargs,\n\u001b[0;32m  11944\u001b[0m     )\n",
      "File \u001b[1;32m~\\anaconda3\\envs\\IAELPML\\lib\\site-packages\\pandas\\core\\generic.py:11926\u001b[0m, in \u001b[0;36mNDFrame._stat_function\u001b[1;34m(self, name, func, axis, skipna, numeric_only, **kwargs)\u001b[0m\n\u001b[0;32m  11922\u001b[0m nv\u001b[38;5;241m.\u001b[39mvalidate_func(name, (), kwargs)\n\u001b[0;32m  11924\u001b[0m validate_bool_kwarg(skipna, \u001b[38;5;124m\"\u001b[39m\u001b[38;5;124mskipna\u001b[39m\u001b[38;5;124m\"\u001b[39m, none_allowed\u001b[38;5;241m=\u001b[39m\u001b[38;5;28;01mFalse\u001b[39;00m)\n\u001b[1;32m> 11926\u001b[0m \u001b[38;5;28;01mreturn\u001b[39;00m \u001b[38;5;28;43mself\u001b[39;49m\u001b[38;5;241;43m.\u001b[39;49m\u001b[43m_reduce\u001b[49m\u001b[43m(\u001b[49m\n\u001b[0;32m  11927\u001b[0m \u001b[43m    \u001b[49m\u001b[43mfunc\u001b[49m\u001b[43m,\u001b[49m\u001b[43m \u001b[49m\u001b[43mname\u001b[49m\u001b[38;5;241;43m=\u001b[39;49m\u001b[43mname\u001b[49m\u001b[43m,\u001b[49m\u001b[43m \u001b[49m\u001b[43maxis\u001b[49m\u001b[38;5;241;43m=\u001b[39;49m\u001b[43maxis\u001b[49m\u001b[43m,\u001b[49m\u001b[43m \u001b[49m\u001b[43mskipna\u001b[49m\u001b[38;5;241;43m=\u001b[39;49m\u001b[43mskipna\u001b[49m\u001b[43m,\u001b[49m\u001b[43m \u001b[49m\u001b[43mnumeric_only\u001b[49m\u001b[38;5;241;43m=\u001b[39;49m\u001b[43mnumeric_only\u001b[49m\n\u001b[0;32m  11928\u001b[0m \u001b[43m\u001b[49m\u001b[43m)\u001b[49m\n",
      "File \u001b[1;32m~\\anaconda3\\envs\\IAELPML\\lib\\site-packages\\pandas\\core\\series.py:6120\u001b[0m, in \u001b[0;36mSeries._reduce\u001b[1;34m(self, op, name, axis, skipna, numeric_only, filter_type, **kwds)\u001b[0m\n\u001b[0;32m   6116\u001b[0m     \u001b[38;5;28mself\u001b[39m\u001b[38;5;241m.\u001b[39m_get_axis_number(axis)\n\u001b[0;32m   6118\u001b[0m \u001b[38;5;28;01mif\u001b[39;00m \u001b[38;5;28misinstance\u001b[39m(delegate, ExtensionArray):\n\u001b[0;32m   6119\u001b[0m     \u001b[38;5;66;03m# dispatch to ExtensionArray interface\u001b[39;00m\n\u001b[1;32m-> 6120\u001b[0m     \u001b[38;5;28;01mreturn\u001b[39;00m delegate\u001b[38;5;241m.\u001b[39m_reduce(name, skipna\u001b[38;5;241m=\u001b[39mskipna, \u001b[38;5;241m*\u001b[39m\u001b[38;5;241m*\u001b[39mkwds)\n\u001b[0;32m   6122\u001b[0m \u001b[38;5;28;01melse\u001b[39;00m:\n\u001b[0;32m   6123\u001b[0m     \u001b[38;5;66;03m# dispatch to numpy arrays\u001b[39;00m\n\u001b[0;32m   6124\u001b[0m     \u001b[38;5;28;01mif\u001b[39;00m numeric_only \u001b[38;5;129;01mand\u001b[39;00m \u001b[38;5;28mself\u001b[39m\u001b[38;5;241m.\u001b[39mdtype\u001b[38;5;241m.\u001b[39mkind \u001b[38;5;129;01mnot\u001b[39;00m \u001b[38;5;129;01min\u001b[39;00m \u001b[38;5;124m\"\u001b[39m\u001b[38;5;124miufcb\u001b[39m\u001b[38;5;124m\"\u001b[39m:\n\u001b[0;32m   6125\u001b[0m         \u001b[38;5;66;03m# i.e. not is_numeric_dtype(self.dtype)\u001b[39;00m\n",
      "File \u001b[1;32m~\\anaconda3\\envs\\IAELPML\\lib\\site-packages\\pandas\\core\\arrays\\categorical.py:2325\u001b[0m, in \u001b[0;36mCategorical._reduce\u001b[1;34m(self, name, skipna, keepdims, **kwargs)\u001b[0m\n\u001b[0;32m   2322\u001b[0m \u001b[38;5;28;01mdef\u001b[39;00m \u001b[38;5;21m_reduce\u001b[39m(\n\u001b[0;32m   2323\u001b[0m     \u001b[38;5;28mself\u001b[39m, name: \u001b[38;5;28mstr\u001b[39m, \u001b[38;5;241m*\u001b[39m, skipna: \u001b[38;5;28mbool\u001b[39m \u001b[38;5;241m=\u001b[39m \u001b[38;5;28;01mTrue\u001b[39;00m, keepdims: \u001b[38;5;28mbool\u001b[39m \u001b[38;5;241m=\u001b[39m \u001b[38;5;28;01mFalse\u001b[39;00m, \u001b[38;5;241m*\u001b[39m\u001b[38;5;241m*\u001b[39mkwargs\n\u001b[0;32m   2324\u001b[0m ):\n\u001b[1;32m-> 2325\u001b[0m     result \u001b[38;5;241m=\u001b[39m \u001b[38;5;28msuper\u001b[39m()\u001b[38;5;241m.\u001b[39m_reduce(name, skipna\u001b[38;5;241m=\u001b[39mskipna, keepdims\u001b[38;5;241m=\u001b[39mkeepdims, \u001b[38;5;241m*\u001b[39m\u001b[38;5;241m*\u001b[39mkwargs)\n\u001b[0;32m   2326\u001b[0m     \u001b[38;5;28;01mif\u001b[39;00m name \u001b[38;5;129;01min\u001b[39;00m [\u001b[38;5;124m\"\u001b[39m\u001b[38;5;124margmax\u001b[39m\u001b[38;5;124m\"\u001b[39m, \u001b[38;5;124m\"\u001b[39m\u001b[38;5;124margmin\u001b[39m\u001b[38;5;124m\"\u001b[39m]:\n\u001b[0;32m   2327\u001b[0m         \u001b[38;5;66;03m# don't wrap in Categorical!\u001b[39;00m\n\u001b[0;32m   2328\u001b[0m         \u001b[38;5;28;01mreturn\u001b[39;00m result\n",
      "File \u001b[1;32m~\\anaconda3\\envs\\IAELPML\\lib\\site-packages\\pandas\\core\\arrays\\base.py:1861\u001b[0m, in \u001b[0;36mExtensionArray._reduce\u001b[1;34m(self, name, skipna, keepdims, **kwargs)\u001b[0m\n\u001b[0;32m   1856\u001b[0m \u001b[38;5;28;01mif\u001b[39;00m meth \u001b[38;5;129;01mis\u001b[39;00m \u001b[38;5;28;01mNone\u001b[39;00m:\n\u001b[0;32m   1857\u001b[0m     \u001b[38;5;28;01mraise\u001b[39;00m \u001b[38;5;167;01mTypeError\u001b[39;00m(\n\u001b[0;32m   1858\u001b[0m         \u001b[38;5;124mf\u001b[39m\u001b[38;5;124m\"\u001b[39m\u001b[38;5;124m'\u001b[39m\u001b[38;5;132;01m{\u001b[39;00m\u001b[38;5;28mtype\u001b[39m(\u001b[38;5;28mself\u001b[39m)\u001b[38;5;241m.\u001b[39m\u001b[38;5;18m__name__\u001b[39m\u001b[38;5;132;01m}\u001b[39;00m\u001b[38;5;124m'\u001b[39m\u001b[38;5;124m with dtype \u001b[39m\u001b[38;5;132;01m{\u001b[39;00m\u001b[38;5;28mself\u001b[39m\u001b[38;5;241m.\u001b[39mdtype\u001b[38;5;132;01m}\u001b[39;00m\u001b[38;5;124m \u001b[39m\u001b[38;5;124m\"\u001b[39m\n\u001b[0;32m   1859\u001b[0m         \u001b[38;5;124mf\u001b[39m\u001b[38;5;124m\"\u001b[39m\u001b[38;5;124mdoes not support reduction \u001b[39m\u001b[38;5;124m'\u001b[39m\u001b[38;5;132;01m{\u001b[39;00mname\u001b[38;5;132;01m}\u001b[39;00m\u001b[38;5;124m'\u001b[39m\u001b[38;5;124m\"\u001b[39m\n\u001b[0;32m   1860\u001b[0m     )\n\u001b[1;32m-> 1861\u001b[0m result \u001b[38;5;241m=\u001b[39m meth(skipna\u001b[38;5;241m=\u001b[39mskipna, \u001b[38;5;241m*\u001b[39m\u001b[38;5;241m*\u001b[39mkwargs)\n\u001b[0;32m   1862\u001b[0m \u001b[38;5;28;01mif\u001b[39;00m keepdims:\n\u001b[0;32m   1863\u001b[0m     result \u001b[38;5;241m=\u001b[39m np\u001b[38;5;241m.\u001b[39marray([result])\n",
      "File \u001b[1;32m~\\anaconda3\\envs\\IAELPML\\lib\\site-packages\\pandas\\core\\arrays\\categorical.py:2351\u001b[0m, in \u001b[0;36mCategorical.min\u001b[1;34m(self, skipna, **kwargs)\u001b[0m\n\u001b[0;32m   2349\u001b[0m nv\u001b[38;5;241m.\u001b[39mvalidate_minmax_axis(kwargs\u001b[38;5;241m.\u001b[39mget(\u001b[38;5;124m\"\u001b[39m\u001b[38;5;124maxis\u001b[39m\u001b[38;5;124m\"\u001b[39m, \u001b[38;5;241m0\u001b[39m))\n\u001b[0;32m   2350\u001b[0m nv\u001b[38;5;241m.\u001b[39mvalidate_min((), kwargs)\n\u001b[1;32m-> 2351\u001b[0m \u001b[38;5;28;43mself\u001b[39;49m\u001b[38;5;241;43m.\u001b[39;49m\u001b[43mcheck_for_ordered\u001b[49m\u001b[43m(\u001b[49m\u001b[38;5;124;43m\"\u001b[39;49m\u001b[38;5;124;43mmin\u001b[39;49m\u001b[38;5;124;43m\"\u001b[39;49m\u001b[43m)\u001b[49m\n\u001b[0;32m   2353\u001b[0m \u001b[38;5;28;01mif\u001b[39;00m \u001b[38;5;129;01mnot\u001b[39;00m \u001b[38;5;28mlen\u001b[39m(\u001b[38;5;28mself\u001b[39m\u001b[38;5;241m.\u001b[39m_codes):\n\u001b[0;32m   2354\u001b[0m     \u001b[38;5;28;01mreturn\u001b[39;00m \u001b[38;5;28mself\u001b[39m\u001b[38;5;241m.\u001b[39mdtype\u001b[38;5;241m.\u001b[39mna_value\n",
      "File \u001b[1;32m~\\anaconda3\\envs\\IAELPML\\lib\\site-packages\\pandas\\core\\arrays\\categorical.py:1844\u001b[0m, in \u001b[0;36mCategorical.check_for_ordered\u001b[1;34m(self, op)\u001b[0m\n\u001b[0;32m   1842\u001b[0m \u001b[38;5;250m\u001b[39m\u001b[38;5;124;03m\"\"\"assert that we are ordered\"\"\"\u001b[39;00m\n\u001b[0;32m   1843\u001b[0m \u001b[38;5;28;01mif\u001b[39;00m \u001b[38;5;129;01mnot\u001b[39;00m \u001b[38;5;28mself\u001b[39m\u001b[38;5;241m.\u001b[39mordered:\n\u001b[1;32m-> 1844\u001b[0m     \u001b[38;5;28;01mraise\u001b[39;00m \u001b[38;5;167;01mTypeError\u001b[39;00m(\n\u001b[0;32m   1845\u001b[0m         \u001b[38;5;124mf\u001b[39m\u001b[38;5;124m\"\u001b[39m\u001b[38;5;124mCategorical is not ordered for operation \u001b[39m\u001b[38;5;132;01m{\u001b[39;00mop\u001b[38;5;132;01m}\u001b[39;00m\u001b[38;5;130;01m\\n\u001b[39;00m\u001b[38;5;124m\"\u001b[39m\n\u001b[0;32m   1846\u001b[0m         \u001b[38;5;124m\"\u001b[39m\u001b[38;5;124myou can use .as_ordered() to change the \u001b[39m\u001b[38;5;124m\"\u001b[39m\n\u001b[0;32m   1847\u001b[0m         \u001b[38;5;124m\"\u001b[39m\u001b[38;5;124mCategorical to an ordered one\u001b[39m\u001b[38;5;130;01m\\n\u001b[39;00m\u001b[38;5;124m\"\u001b[39m\n\u001b[0;32m   1848\u001b[0m     )\n",
      "\u001b[1;31mTypeError\u001b[0m: Categorical is not ordered for operation min\nyou can use .as_ordered() to change the Categorical to an ordered one\n"
     ]
    }
   ],
   "source": [
    "print('The mean of the bedrooms variable is: ', houses['bedrooms'].mean())\n",
    "print('\\n','-'*70,'\\n')\n",
    "print('The first quartile of the bedrooms variable is: ', houses['bedrooms'].quantile(0.25))\n",
    "print('\\n','-'*70,'\\n')\n",
    "print('The third quartile of the bedrooms variable is: ', houses['bedrooms'].quantile(0.75))\n",
    "print('\\n','-'*70,'\\n')\n",
    "print('The median of the bedrooms variable is: ', houses['bedrooms'].median())\n",
    "print('\\n','-'*70,'\\n')\n",
    "print('The minimum value of the bedrooms variable is: ', houses['bedrooms'].min())\n",
    "print('\\n','-'*70,'\\n')\n",
    "print('The maximum value of the bedrooms variable is: ', houses['bedrooms'].max())\n",
    "print('\\n','-'*70,'\\n')\n",
    "print('The standard deviation of the bedrooms variable is: ', houses['bedrooms'].std(),'\\n')"
   ]
  },
  {
   "cell_type": "markdown",
   "id": "b240d968",
   "metadata": {},
   "source": [
    "We create now the tables of absolute and relative frequencies for our variable."
   ]
  },
  {
   "cell_type": "code",
   "execution_count": 75,
   "id": "6aea2f72",
   "metadata": {},
   "outputs": [
    {
     "name": "stdout",
     "output_type": "stream",
     "text": [
      "count     545\n",
      "unique      6\n",
      "top         3\n",
      "freq      300\n",
      "Name: bedrooms, dtype: int64\n",
      "------------------------------ \n",
      "\n",
      "Absolute Frequency: \n",
      "\n",
      "bedrooms\n",
      "1      2\n",
      "2    136\n",
      "3    300\n",
      "4     95\n",
      "5     10\n",
      "6      2\n",
      "Name: count, dtype: int64\n",
      "------------------------------ \n",
      "\n",
      "Relative Frequency: \n",
      "\n",
      "bedrooms\n",
      "1    0.003670\n",
      "2    0.249541\n",
      "3    0.550459\n",
      "4    0.174312\n",
      "5    0.018349\n",
      "6    0.003670\n",
      "Name: proportion, dtype: float64\n",
      "------------------------------ \n",
      "\n"
     ]
    }
   ],
   "source": [
    "print(houses['bedrooms'].describe())\n",
    "print(\"-\" * 30, \"\\n\")\n",
    "print(\"Absolute Frequency: \\n\")\n",
    "print(houses['bedrooms'].value_counts().sort_index())\n",
    "print(\"-\" * 30, \"\\n\")\n",
    "print(\"Relative Frequency: \\n\")\n",
    "print(houses['bedrooms'].value_counts(normalize = True).sort_index())\n",
    "print(\"-\" * 30, \"\\n\")"
   ]
  },
  {
   "cell_type": "markdown",
   "id": "b8bce3cb",
   "metadata": {},
   "source": [
    "Finally, we represent a barplot showing the relative frequencies, in order to represent the probabilities of the different number of bedrooms.\n"
   ]
  },
  {
   "cell_type": "code",
   "execution_count": 71,
   "id": "7b07fbc5",
   "metadata": {},
   "outputs": [
    {
     "data": {
      "image/png": "[encoded data removed]",
      "text/plain": [
       "<Figure size 640x480 with 1 Axes>"
      ]
     },
     "metadata": {},
     "output_type": "display_data"
    }
   ],
   "source": [
    "RelFreq_1 = houses['bedrooms'].value_counts(normalize = True).sort_index()\n",
    "sns.set()\n",
    "plot = RelFreq_1.plot.bar(rot=0, xlabel='Bedrooms', ylabel ='Probability')\n",
    "plt.title('Number of Bedrooms Barplot')\n",
    "plt.show()"
   ]
  },
  {
   "cell_type": "markdown",
   "id": "31b65ae3",
   "metadata": {},
   "source": [
    "We can say that the most common number of bedrooms is 3, since the less often seen number of bedrooms is 1 and 6, which makes sense. Notice that 3 is the median and almost the mean of our variable, so we could expect this result. In the other hand, 1 and 6 bedrooms are the extreme values, so it could be expected too. "
   ]
  },
  {
   "cell_type": "markdown",
   "id": "9f24772d",
   "metadata": {},
   "source": [
    "### Variable `mainroad`"
   ]
  },
  {
   "cell_type": "markdown",
   "id": "f23a7dde",
   "metadata": {},
   "source": [
    "It is a binary variable so it can only take two values."
   ]
  },
  {
   "cell_type": "markdown",
   "id": "c2b1bf83",
   "metadata": {},
   "source": [
    "First of all, we create the same previous tables of frequencies of our variable."
   ]
  },
  {
   "cell_type": "markdown",
   "id": "b3eecfbd",
   "metadata": {},
   "source": [
    "We build now the relative frequencies' table."
   ]
  },
  {
   "cell_type": "code",
   "execution_count": 81,
   "id": "220560a0",
   "metadata": {},
   "outputs": [
    {
     "name": "stdout",
     "output_type": "stream",
     "text": [
      "count     545\n",
      "unique      2\n",
      "top       yes\n",
      "freq      468\n",
      "Name: mainroad, dtype: object\n",
      "------------------------------ \n",
      "\n",
      "Absolute Frequency: \n",
      "\n",
      "mainroad\n",
      "no      77\n",
      "yes    468\n",
      "Name: count, dtype: int64\n",
      "------------------------------ \n",
      "\n",
      "Relative Frequency: \n",
      "\n",
      "mainroad\n",
      "no     0.141284\n",
      "yes    0.858716\n",
      "Name: proportion, dtype: float64\n",
      "------------------------------ \n",
      "\n"
     ]
    }
   ],
   "source": [
    "print(houses['mainroad'].describe())\n",
    "print(\"-\" * 30, \"\\n\")\n",
    "print(\"Absolute Frequency: \\n\")\n",
    "print(houses['mainroad'].value_counts().sort_index())\n",
    "print(\"-\" * 30, \"\\n\")\n",
    "print(\"Relative Frequency: \\n\")\n",
    "print(houses['mainroad'].value_counts(normalize = True).sort_index())\n",
    "print(\"-\" * 30, \"\\n\")"
   ]
  },
  {
   "cell_type": "markdown",
   "id": "1a927c77",
   "metadata": {},
   "source": [
    "Finally, we represent a barplot with the relative frequencies.\n"
   ]
  },
  {
   "cell_type": "code",
   "execution_count": 82,
   "id": "b5424330",
   "metadata": {},
   "outputs": [
    {
     "data": {
      "image/png": "[encoded data removed]",
      "text/plain": [
       "<Figure size 640x480 with 1 Axes>"
      ]
     },
     "metadata": {},
     "output_type": "display_data"
    }
   ],
   "source": [
    "RelFreq_4 = houses['mainroad'].value_counts(normalize = True).sort_index()\n",
    "sns.set()\n",
    "plot = RelFreq_4.plot.bar(rot=0, xlabel='Mainroad', ylabel ='Probability')\n",
    "plt.title('Mainroad Connection Barplot')\n",
    "plt.show()"
   ]
  },
  {
   "cell_type": "markdown",
   "id": "00c2c12f",
   "metadata": {},
   "source": [
    "As a result of our plot, we can affirm that being connected to the mainroad is much more frequent than not being connected to the mainroad."
   ]
  },
  {
   "cell_type": "markdown",
   "id": "80f8c0b7-755f-4940-9222-79ac9893b22a",
   "metadata": {},
   "source": [
    "The next variable to study is going to be `parking`."
   ]
  },
  {
   "cell_type": "markdown",
   "id": "13dfbf29-e065-4a86-9df0-8f54bdddf433",
   "metadata": {},
   "source": [
    "### Variable `parking`"
   ]
  },
  {
   "cell_type": "markdown",
   "id": "12371604-2aa8-4df0-8b7b-6455bc76761f",
   "metadata": {},
   "source": [
    "As we can imagine, this column specifies the number of parking spaces available in the house."
   ]
  },
  {
   "cell_type": "code",
   "execution_count": 76,
   "id": "8feea2a2-0e5a-4efd-91a6-076c98bf0b4d",
   "metadata": {},
   "outputs": [
    {
     "ename": "TypeError",
     "evalue": "'Categorical' with dtype category does not support reduction 'mean'",
     "output_type": "error",
     "traceback": [
      "\u001b[1;31m---------------------------------------------------------------------------\u001b[0m",
      "\u001b[1;31mTypeError\u001b[0m                                 Traceback (most recent call last)",
      "Cell \u001b[1;32mIn[76], line 1\u001b[0m\n\u001b[1;32m----> 1\u001b[0m \u001b[38;5;28mprint\u001b[39m(\u001b[38;5;124m'\u001b[39m\u001b[38;5;124mThe mean of the bedrooms variable is: \u001b[39m\u001b[38;5;124m'\u001b[39m, \u001b[43mhouses\u001b[49m\u001b[43m[\u001b[49m\u001b[38;5;124;43m'\u001b[39;49m\u001b[38;5;124;43mparking\u001b[39;49m\u001b[38;5;124;43m'\u001b[39;49m\u001b[43m]\u001b[49m\u001b[38;5;241;43m.\u001b[39;49m\u001b[43mmean\u001b[49m\u001b[43m(\u001b[49m\u001b[43m)\u001b[49m)\n\u001b[0;32m      2\u001b[0m \u001b[38;5;28mprint\u001b[39m(\u001b[38;5;124m'\u001b[39m\u001b[38;5;130;01m\\n\u001b[39;00m\u001b[38;5;124m'\u001b[39m,\u001b[38;5;124m'\u001b[39m\u001b[38;5;124m-\u001b[39m\u001b[38;5;124m'\u001b[39m\u001b[38;5;241m*\u001b[39m\u001b[38;5;241m70\u001b[39m,\u001b[38;5;124m'\u001b[39m\u001b[38;5;130;01m\\n\u001b[39;00m\u001b[38;5;124m'\u001b[39m)\n\u001b[0;32m      3\u001b[0m \u001b[38;5;28mprint\u001b[39m(\u001b[38;5;124m'\u001b[39m\u001b[38;5;124mThe first quartile of the bedrooms variable is: \u001b[39m\u001b[38;5;124m'\u001b[39m, houses[\u001b[38;5;124m'\u001b[39m\u001b[38;5;124mparking\u001b[39m\u001b[38;5;124m'\u001b[39m]\u001b[38;5;241m.\u001b[39mquantile(\u001b[38;5;241m0.25\u001b[39m))\n",
      "File \u001b[1;32m~\\anaconda3\\envs\\IAELPML\\lib\\site-packages\\pandas\\core\\series.py:6226\u001b[0m, in \u001b[0;36mSeries.mean\u001b[1;34m(self, axis, skipna, numeric_only, **kwargs)\u001b[0m\n\u001b[0;32m   6218\u001b[0m \u001b[38;5;129m@doc\u001b[39m(make_doc(\u001b[38;5;124m\"\u001b[39m\u001b[38;5;124mmean\u001b[39m\u001b[38;5;124m\"\u001b[39m, ndim\u001b[38;5;241m=\u001b[39m\u001b[38;5;241m1\u001b[39m))\n\u001b[0;32m   6219\u001b[0m \u001b[38;5;28;01mdef\u001b[39;00m \u001b[38;5;21mmean\u001b[39m(\n\u001b[0;32m   6220\u001b[0m     \u001b[38;5;28mself\u001b[39m,\n\u001b[1;32m   (...)\u001b[0m\n\u001b[0;32m   6224\u001b[0m     \u001b[38;5;241m*\u001b[39m\u001b[38;5;241m*\u001b[39mkwargs,\n\u001b[0;32m   6225\u001b[0m ):\n\u001b[1;32m-> 6226\u001b[0m     \u001b[38;5;28;01mreturn\u001b[39;00m NDFrame\u001b[38;5;241m.\u001b[39mmean(\u001b[38;5;28mself\u001b[39m, axis, skipna, numeric_only, \u001b[38;5;241m*\u001b[39m\u001b[38;5;241m*\u001b[39mkwargs)\n",
      "File \u001b[1;32m~\\anaconda3\\envs\\IAELPML\\lib\\site-packages\\pandas\\core\\generic.py:11969\u001b[0m, in \u001b[0;36mNDFrame.mean\u001b[1;34m(self, axis, skipna, numeric_only, **kwargs)\u001b[0m\n\u001b[0;32m  11962\u001b[0m \u001b[38;5;28;01mdef\u001b[39;00m \u001b[38;5;21mmean\u001b[39m(\n\u001b[0;32m  11963\u001b[0m     \u001b[38;5;28mself\u001b[39m,\n\u001b[0;32m  11964\u001b[0m     axis: Axis \u001b[38;5;241m|\u001b[39m \u001b[38;5;28;01mNone\u001b[39;00m \u001b[38;5;241m=\u001b[39m \u001b[38;5;241m0\u001b[39m,\n\u001b[1;32m   (...)\u001b[0m\n\u001b[0;32m  11967\u001b[0m     \u001b[38;5;241m*\u001b[39m\u001b[38;5;241m*\u001b[39mkwargs,\n\u001b[0;32m  11968\u001b[0m ) \u001b[38;5;241m-\u001b[39m\u001b[38;5;241m>\u001b[39m Series \u001b[38;5;241m|\u001b[39m \u001b[38;5;28mfloat\u001b[39m:\n\u001b[1;32m> 11969\u001b[0m     \u001b[38;5;28;01mreturn\u001b[39;00m \u001b[38;5;28mself\u001b[39m\u001b[38;5;241m.\u001b[39m_stat_function(\n\u001b[0;32m  11970\u001b[0m         \u001b[38;5;124m\"\u001b[39m\u001b[38;5;124mmean\u001b[39m\u001b[38;5;124m\"\u001b[39m, nanops\u001b[38;5;241m.\u001b[39mnanmean, axis, skipna, numeric_only, \u001b[38;5;241m*\u001b[39m\u001b[38;5;241m*\u001b[39mkwargs\n\u001b[0;32m  11971\u001b[0m     )\n",
      "File \u001b[1;32m~\\anaconda3\\envs\\IAELPML\\lib\\site-packages\\pandas\\core\\generic.py:11926\u001b[0m, in \u001b[0;36mNDFrame._stat_function\u001b[1;34m(self, name, func, axis, skipna, numeric_only, **kwargs)\u001b[0m\n\u001b[0;32m  11922\u001b[0m nv\u001b[38;5;241m.\u001b[39mvalidate_func(name, (), kwargs)\n\u001b[0;32m  11924\u001b[0m validate_bool_kwarg(skipna, \u001b[38;5;124m\"\u001b[39m\u001b[38;5;124mskipna\u001b[39m\u001b[38;5;124m\"\u001b[39m, none_allowed\u001b[38;5;241m=\u001b[39m\u001b[38;5;28;01mFalse\u001b[39;00m)\n\u001b[1;32m> 11926\u001b[0m \u001b[38;5;28;01mreturn\u001b[39;00m \u001b[38;5;28;43mself\u001b[39;49m\u001b[38;5;241;43m.\u001b[39;49m\u001b[43m_reduce\u001b[49m\u001b[43m(\u001b[49m\n\u001b[0;32m  11927\u001b[0m \u001b[43m    \u001b[49m\u001b[43mfunc\u001b[49m\u001b[43m,\u001b[49m\u001b[43m \u001b[49m\u001b[43mname\u001b[49m\u001b[38;5;241;43m=\u001b[39;49m\u001b[43mname\u001b[49m\u001b[43m,\u001b[49m\u001b[43m \u001b[49m\u001b[43maxis\u001b[49m\u001b[38;5;241;43m=\u001b[39;49m\u001b[43maxis\u001b[49m\u001b[43m,\u001b[49m\u001b[43m \u001b[49m\u001b[43mskipna\u001b[49m\u001b[38;5;241;43m=\u001b[39;49m\u001b[43mskipna\u001b[49m\u001b[43m,\u001b[49m\u001b[43m \u001b[49m\u001b[43mnumeric_only\u001b[49m\u001b[38;5;241;43m=\u001b[39;49m\u001b[43mnumeric_only\u001b[49m\n\u001b[0;32m  11928\u001b[0m \u001b[43m\u001b[49m\u001b[43m)\u001b[49m\n",
      "File \u001b[1;32m~\\anaconda3\\envs\\IAELPML\\lib\\site-packages\\pandas\\core\\series.py:6120\u001b[0m, in \u001b[0;36mSeries._reduce\u001b[1;34m(self, op, name, axis, skipna, numeric_only, filter_type, **kwds)\u001b[0m\n\u001b[0;32m   6116\u001b[0m     \u001b[38;5;28mself\u001b[39m\u001b[38;5;241m.\u001b[39m_get_axis_number(axis)\n\u001b[0;32m   6118\u001b[0m \u001b[38;5;28;01mif\u001b[39;00m \u001b[38;5;28misinstance\u001b[39m(delegate, ExtensionArray):\n\u001b[0;32m   6119\u001b[0m     \u001b[38;5;66;03m# dispatch to ExtensionArray interface\u001b[39;00m\n\u001b[1;32m-> 6120\u001b[0m     \u001b[38;5;28;01mreturn\u001b[39;00m delegate\u001b[38;5;241m.\u001b[39m_reduce(name, skipna\u001b[38;5;241m=\u001b[39mskipna, \u001b[38;5;241m*\u001b[39m\u001b[38;5;241m*\u001b[39mkwds)\n\u001b[0;32m   6122\u001b[0m \u001b[38;5;28;01melse\u001b[39;00m:\n\u001b[0;32m   6123\u001b[0m     \u001b[38;5;66;03m# dispatch to numpy arrays\u001b[39;00m\n\u001b[0;32m   6124\u001b[0m     \u001b[38;5;28;01mif\u001b[39;00m numeric_only \u001b[38;5;129;01mand\u001b[39;00m \u001b[38;5;28mself\u001b[39m\u001b[38;5;241m.\u001b[39mdtype\u001b[38;5;241m.\u001b[39mkind \u001b[38;5;129;01mnot\u001b[39;00m \u001b[38;5;129;01min\u001b[39;00m \u001b[38;5;124m\"\u001b[39m\u001b[38;5;124miufcb\u001b[39m\u001b[38;5;124m\"\u001b[39m:\n\u001b[0;32m   6125\u001b[0m         \u001b[38;5;66;03m# i.e. not is_numeric_dtype(self.dtype)\u001b[39;00m\n",
      "File \u001b[1;32m~\\anaconda3\\envs\\IAELPML\\lib\\site-packages\\pandas\\core\\arrays\\categorical.py:2325\u001b[0m, in \u001b[0;36mCategorical._reduce\u001b[1;34m(self, name, skipna, keepdims, **kwargs)\u001b[0m\n\u001b[0;32m   2322\u001b[0m \u001b[38;5;28;01mdef\u001b[39;00m \u001b[38;5;21m_reduce\u001b[39m(\n\u001b[0;32m   2323\u001b[0m     \u001b[38;5;28mself\u001b[39m, name: \u001b[38;5;28mstr\u001b[39m, \u001b[38;5;241m*\u001b[39m, skipna: \u001b[38;5;28mbool\u001b[39m \u001b[38;5;241m=\u001b[39m \u001b[38;5;28;01mTrue\u001b[39;00m, keepdims: \u001b[38;5;28mbool\u001b[39m \u001b[38;5;241m=\u001b[39m \u001b[38;5;28;01mFalse\u001b[39;00m, \u001b[38;5;241m*\u001b[39m\u001b[38;5;241m*\u001b[39mkwargs\n\u001b[0;32m   2324\u001b[0m ):\n\u001b[1;32m-> 2325\u001b[0m     result \u001b[38;5;241m=\u001b[39m \u001b[38;5;28msuper\u001b[39m()\u001b[38;5;241m.\u001b[39m_reduce(name, skipna\u001b[38;5;241m=\u001b[39mskipna, keepdims\u001b[38;5;241m=\u001b[39mkeepdims, \u001b[38;5;241m*\u001b[39m\u001b[38;5;241m*\u001b[39mkwargs)\n\u001b[0;32m   2326\u001b[0m     \u001b[38;5;28;01mif\u001b[39;00m name \u001b[38;5;129;01min\u001b[39;00m [\u001b[38;5;124m\"\u001b[39m\u001b[38;5;124margmax\u001b[39m\u001b[38;5;124m\"\u001b[39m, \u001b[38;5;124m\"\u001b[39m\u001b[38;5;124margmin\u001b[39m\u001b[38;5;124m\"\u001b[39m]:\n\u001b[0;32m   2327\u001b[0m         \u001b[38;5;66;03m# don't wrap in Categorical!\u001b[39;00m\n\u001b[0;32m   2328\u001b[0m         \u001b[38;5;28;01mreturn\u001b[39;00m result\n",
      "File \u001b[1;32m~\\anaconda3\\envs\\IAELPML\\lib\\site-packages\\pandas\\core\\arrays\\base.py:1857\u001b[0m, in \u001b[0;36mExtensionArray._reduce\u001b[1;34m(self, name, skipna, keepdims, **kwargs)\u001b[0m\n\u001b[0;32m   1855\u001b[0m meth \u001b[38;5;241m=\u001b[39m \u001b[38;5;28mgetattr\u001b[39m(\u001b[38;5;28mself\u001b[39m, name, \u001b[38;5;28;01mNone\u001b[39;00m)\n\u001b[0;32m   1856\u001b[0m \u001b[38;5;28;01mif\u001b[39;00m meth \u001b[38;5;129;01mis\u001b[39;00m \u001b[38;5;28;01mNone\u001b[39;00m:\n\u001b[1;32m-> 1857\u001b[0m     \u001b[38;5;28;01mraise\u001b[39;00m \u001b[38;5;167;01mTypeError\u001b[39;00m(\n\u001b[0;32m   1858\u001b[0m         \u001b[38;5;124mf\u001b[39m\u001b[38;5;124m\"\u001b[39m\u001b[38;5;124m'\u001b[39m\u001b[38;5;132;01m{\u001b[39;00m\u001b[38;5;28mtype\u001b[39m(\u001b[38;5;28mself\u001b[39m)\u001b[38;5;241m.\u001b[39m\u001b[38;5;18m__name__\u001b[39m\u001b[38;5;132;01m}\u001b[39;00m\u001b[38;5;124m'\u001b[39m\u001b[38;5;124m with dtype \u001b[39m\u001b[38;5;132;01m{\u001b[39;00m\u001b[38;5;28mself\u001b[39m\u001b[38;5;241m.\u001b[39mdtype\u001b[38;5;132;01m}\u001b[39;00m\u001b[38;5;124m \u001b[39m\u001b[38;5;124m\"\u001b[39m\n\u001b[0;32m   1859\u001b[0m         \u001b[38;5;124mf\u001b[39m\u001b[38;5;124m\"\u001b[39m\u001b[38;5;124mdoes not support reduction \u001b[39m\u001b[38;5;124m'\u001b[39m\u001b[38;5;132;01m{\u001b[39;00mname\u001b[38;5;132;01m}\u001b[39;00m\u001b[38;5;124m'\u001b[39m\u001b[38;5;124m\"\u001b[39m\n\u001b[0;32m   1860\u001b[0m     )\n\u001b[0;32m   1861\u001b[0m result \u001b[38;5;241m=\u001b[39m meth(skipna\u001b[38;5;241m=\u001b[39mskipna, \u001b[38;5;241m*\u001b[39m\u001b[38;5;241m*\u001b[39mkwargs)\n\u001b[0;32m   1862\u001b[0m \u001b[38;5;28;01mif\u001b[39;00m keepdims:\n",
      "\u001b[1;31mTypeError\u001b[0m: 'Categorical' with dtype category does not support reduction 'mean'"
     ]
    }
   ],
   "source": [
    "print('The mean of the bedrooms variable is: ', houses['parking'].mean())\n",
    "print('\\n','-'*70,'\\n')\n",
    "print('The first quartile of the bedrooms variable is: ', houses['parking'].quantile(0.25))\n",
    "print('\\n','-'*70,'\\n')\n",
    "print('The third quartile of the bedrooms variable is: ', houses['parking'].quantile(0.75))\n",
    "print('\\n','-'*70,'\\n')\n",
    "print('The median of the bedrooms variable is: ', houses['parking'].median())\n",
    "print('\\n','-'*70,'\\n')\n",
    "print('The minimum value of the bedrooms variable is: ', houses['parking'].min())\n",
    "print('\\n','-'*70,'\\n')\n",
    "print('The maximum value of the bedrooms variable is: ', houses['parking'].max())\n",
    "print('\\n','-'*70,'\\n')\n",
    "print('The standard deviation of the bedrooms variable is: ', houses['parking'].std(),'\\n')"
   ]
  },
  {
   "cell_type": "code",
   "execution_count": 62,
   "id": "e82e0f8c-3d56-4cc5-9e83-43ccebe9747a",
   "metadata": {},
   "outputs": [
    {
     "name": "stdout",
     "output_type": "stream",
     "text": [
      "count     545\n",
      "unique      4\n",
      "top         0\n",
      "freq      299\n",
      "Name: parking, dtype: int64\n",
      "------------------------------ \n",
      "\n",
      "Absolute Frequency: \n",
      "\n",
      "parking\n",
      "0    299\n",
      "1    126\n",
      "2    108\n",
      "3     12\n",
      "Name: count, dtype: int64\n",
      "------------------------------ \n",
      "\n",
      "Relative Frequency: \n",
      "\n",
      "parking\n",
      "0    0.548624\n",
      "1    0.231193\n",
      "2    0.198165\n",
      "3    0.022018\n",
      "Name: proportion, dtype: float64\n",
      "------------------------------ \n",
      "\n"
     ]
    }
   ],
   "source": [
    "print(houses['parking'].describe())\n",
    "print(\"-\" * 30, \"\\n\")\n",
    "print(\"Absolute Frequency: \\n\")\n",
    "print(houses['parking'].value_counts().sort_index())\n",
    "print(\"-\" * 30, \"\\n\")\n",
    "print(\"Relative Frequency: \\n\")\n",
    "print(houses['parking'].value_counts(normalize = True).sort_index())\n",
    "print(\"-\" * 30, \"\\n\")"
   ]
  },
  {
   "cell_type": "markdown",
   "id": "c7ba80a4-09ba-4c76-98d1-f83b0d7cfa06",
   "metadata": {},
   "source": [
    "We can observe that more than 2 places is really strange, and it is probably directly related with the price of the house. "
   ]
  },
  {
   "cell_type": "code",
   "execution_count": 64,
   "id": "abf1c8c4-caee-4f92-bec3-05690b87d1af",
   "metadata": {},
   "outputs": [
    {
     "data": {
      "image/png": "[encoded data removed]",
      "text/plain": [
       "<Figure size 640x480 with 1 Axes>"
      ]
     },
     "metadata": {},
     "output_type": "display_data"
    }
   ],
   "source": [
    "RelFreq_9 = houses['parking'].value_counts(normalize = True).sort_index()\n",
    "sns.set()\n",
    "plot = RelFreq_9.plot.bar(rot=0, xlabel='Parking', ylabel ='Probability')\n",
    "plt.title('Parking Places Barplot')\n",
    "plt.show()"
   ]
  },
  {
   "cell_type": "markdown",
   "id": "c724ee0f-2ce6-4ad1-882e-41fc1c892970",
   "metadata": {},
   "source": [
    "We could bin this variable into a dicotomic one that indicates wether the house has parking places or not, but it seems that we could lost valuable information for the next sections. We repeat the process with the last two factor columns."
   ]
  },
  {
   "cell_type": "markdown",
   "id": "a440c697-3985-4bc9-b080-a4c7ed5e22dc",
   "metadata": {},
   "source": [
    "### Variable `prefarea`"
   ]
  },
  {
   "cell_type": "markdown",
   "id": "2da18e38-4e92-4f7c-b4b0-90ca989943f7",
   "metadata": {},
   "source": [
    "This variable informs about the area or neighbourhood, if it is considered as preferred or not."
   ]
  },
  {
   "cell_type": "code",
   "execution_count": 66,
   "id": "f5160118-e9b0-4887-8391-c5c31f2de8a8",
   "metadata": {},
   "outputs": [
    {
     "name": "stdout",
     "output_type": "stream",
     "text": [
      "count     545\n",
      "unique      2\n",
      "top        no\n",
      "freq      417\n",
      "Name: prefarea, dtype: object\n",
      "------------------------------ \n",
      "\n",
      "Absolute Frequency: \n",
      "\n",
      "prefarea\n",
      "no     417\n",
      "yes    128\n",
      "Name: count, dtype: int64\n",
      "------------------------------ \n",
      "\n",
      "Relative Frequency: \n",
      "\n",
      "prefarea\n",
      "no     0.765138\n",
      "yes    0.234862\n",
      "Name: proportion, dtype: float64\n",
      "------------------------------ \n",
      "\n"
     ]
    }
   ],
   "source": [
    "print(houses['prefarea'].describe())\n",
    "print(\"-\" * 30, \"\\n\")\n",
    "print(\"Absolute Frequency: \\n\")\n",
    "print(houses['prefarea'].value_counts().sort_index())\n",
    "print(\"-\" * 30, \"\\n\")\n",
    "print(\"Relative Frequency: \\n\")\n",
    "print(houses['prefarea'].value_counts(normalize = True).sort_index())\n",
    "print(\"-\" * 30, \"\\n\")"
   ]
  },
  {
   "cell_type": "code",
   "execution_count": 67,
   "id": "e395e283-861d-4202-97c0-6b47472e2d9a",
   "metadata": {},
   "outputs": [
    {
     "data": {
      "image/png": "[encoded data removed]",
      "text/plain": [
       "<Figure size 640x480 with 1 Axes>"
      ]
     },
     "metadata": {},
     "output_type": "display_data"
    }
   ],
   "source": [
    "RelFreq_10 = houses['prefarea'].value_counts(normalize = True).sort_index()\n",
    "sns.set()\n",
    "plot = RelFreq_10.plot.bar(rot=0, xlabel='Preferred Area', ylabel ='Probability')\n",
    "plt.title('Preferred Area Barplot')\n",
    "plt.show()"
   ]
  },
  {
   "cell_type": "markdown",
   "id": "af6a123e-5b9f-4721-9d06-fd81a906c6fc",
   "metadata": {},
   "source": [
    "The results indicate that the majority of the homes are located in disliked locations, something usual in a random houses data set, due to the percentage of each of them in a city."
   ]
  },
  {
   "cell_type": "markdown",
   "id": "07981b43-d693-4304-96ff-2ceefb2bd3ae",
   "metadata": {},
   "source": [
    "The last one to study is the column `furnishingstatus`, that reveals information about the furniture availbale in the house."
   ]
  },
  {
   "cell_type": "markdown",
   "id": "abad17c4-934a-4b2e-8ab7-0071806a13e5",
   "metadata": {},
   "source": [
    "### Variable `furnishingstatus`"
   ]
  },
  {
   "cell_type": "code",
   "execution_count": 69,
   "id": "7ac76535-0c22-4dde-96cd-e125e08c27bc",
   "metadata": {},
   "outputs": [
    {
     "name": "stdout",
     "output_type": "stream",
     "text": [
      "count                545\n",
      "unique                 3\n",
      "top       semi-furnished\n",
      "freq                 227\n",
      "Name: furnishingstatus, dtype: object\n",
      "------------------------------ \n",
      "\n",
      "Absolute Frequency: \n",
      "\n",
      "furnishingstatus\n",
      "furnished         140\n",
      "semi-furnished    227\n",
      "unfurnished       178\n",
      "Name: count, dtype: int64\n",
      "------------------------------ \n",
      "\n",
      "Relative Frequency: \n",
      "\n",
      "furnishingstatus\n",
      "furnished         0.256881\n",
      "semi-furnished    0.416514\n",
      "unfurnished       0.326606\n",
      "Name: proportion, dtype: float64\n",
      "------------------------------ \n",
      "\n"
     ]
    }
   ],
   "source": [
    "print(houses['furnishingstatus'].describe())\n",
    "print(\"-\" * 30, \"\\n\")\n",
    "print(\"Absolute Frequency: \\n\")\n",
    "print(houses['furnishingstatus'].value_counts().sort_index())\n",
    "print(\"-\" * 30, \"\\n\")\n",
    "print(\"Relative Frequency: \\n\")\n",
    "print(houses['furnishingstatus'].value_counts(normalize = True).sort_index())\n",
    "print(\"-\" * 30, \"\\n\")"
   ]
  },
  {
   "cell_type": "code",
   "execution_count": 70,
   "id": "df326708-2895-4619-a673-ef18afe14e33",
   "metadata": {},
   "outputs": [
    {
     "data": {
      "image/png": "[encoded data removed]",
      "text/plain": [
       "<Figure size 640x480 with 1 Axes>"
      ]
     },
     "metadata": {},
     "output_type": "display_data"
    }
   ],
   "source": [
    "RelFreq_11 = houses['furnishingstatus'].value_counts(normalize = True).sort_index()\n",
    "sns.set()\n",
    "plot = RelFreq_11.plot.bar(rot=0, xlabel='Furnishing Status', ylabel ='Probability')\n",
    "plt.title('Furnishing Status Barplot')\n",
    "plt.show()"
   ]
  },
  {
   "cell_type": "markdown",
   "id": "d6e097d3-33dd-45bc-bb74-f4cc1ce36176",
   "metadata": {},
   "source": [
    "As we can see, the main option are the semi-furnished houses. Behind that, \n",
    "there is a slightly higher percentage ofunfurnished  house, followed by the furnished ones.s"
   ]
  }
 ],
 "metadata": {
  "kernelspec": {
   "display_name": "Python 3 (ipykernel)",
   "language": "python",
   "name": "python3"
  },
  "language_info": {
   "codemirror_mode": {
    "name": "ipython",
    "version": 3
   },
   "file_extension": ".py",
   "mimetype": "text/x-python",
   "name": "python",
   "nbconvert_exporter": "python",
   "pygments_lexer": "ipython3",
   "version": "3.9.17"
  }
 },
 "nbformat": 4,
 "nbformat_minor": 5
}

{
 "cells": [
  {
   "cell_type": "markdown",
   "id": "8b7d9827",
   "metadata": {},
   "source": [
    "# Proyecto del curso\n",
    "\n",
    "+ Equipos de mínimo dos, pero **muy preferiblemente tres personas**. \n",
    "+ El objetivo es realizar un Análisis Exploratorio lo más completo posible de un conjunto de datos. El análisis debe incluir gráficas adecuadas según el tipo de variable, tablas de frecuencias, etc. Se espera además que hagáis alguna exploración *gráfica* de la posible existencia de relaciones entre variables del conjunto. \n",
    "+ Los conjuntos de datos sugeridos son aquellos que aparecen en webs como [Kaggle](https://www.kaggle.com), [UCI Machine Learning](https://archive.ics.uci.edu) y otras similares.  Se valorará la originalidad del conjunto elegido. \n",
    "+ Tened en cuenta que debéis elegir un conjunto de datos con suficiente riqueza de variables (numéricas y factores) como para que el análisis cubra el contenido del curso.\n",
    "+ La fecha límite para que nos comuniquéis por correo los integrantes del grupo y el fichero de datos elegido es el proximo miércoles 20. Elegid un portavoz para que nos escriba. Si necesitamos alguna aclaración nos pondremos en contactos con el grupo a través de esa persona.\n",
    "+ El plazo de entrega es negociable, pero con casi completa seguridad será después de la fecha del examen final de la asignatura. \n",
    "+ La entrega se hará en un fichero zip que contenga el notebook (o notebooks) de Jupyter y cualquier otro fichero auxiliar que sea necesario. Si el tamaño del conjunto de datos desaconseja incluirlo aseguraos de que el código contiene enlaces actualizados o que los datos se descargan automáticamente al ejecutar el código. "
   ]
  }
 ],
 "metadata": {
  "kernelspec": {
   "display_name": "Python 3 (ipykernel)",
   "language": "python",
   "name": "python3"
  },
  "language_info": {
   "codemirror_mode": {
    "name": "ipython",
    "version": 3
   },
   "file_extension": ".py",
   "mimetype": "text/x-python",
   "name": "python",
   "nbconvert_exporter": "python",
   "pygments_lexer": "ipython3",
   "version": "3.8.13"
  }
 },
 "nbformat": 4,
 "nbformat_minor": 5
}
